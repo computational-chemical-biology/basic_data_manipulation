{
  "nbformat": 4,
  "nbformat_minor": 0,
  "metadata": {
    "colab": {
      "name": "basic_spectral_manipulation.ipynb",
      "provenance": []
    },
    "kernelspec": {
      "name": "python3",
      "display_name": "Python 3"
    },
    "language_info": {
      "name": "python"
    }
  },
  "cells": [
    {
      "cell_type": "markdown",
      "source": [
        "# Download raw data\n",
        "\n",
        "As linhas abaixo descrevem as etapas para fazer o _download_ dos dados programaticamente. Criem uma função para, dado um \"massive id\" baixar todos os arquivos mz(X)ML. "
      ],
      "metadata": {
        "id": "hRmeJ9h7FQM3"
      }
    },
    {
      "cell_type": "code",
      "execution_count": null,
      "metadata": {
        "id": "mrt1dvXADnmh"
      },
      "outputs": [],
      "source": [
        "import ftplib"
      ]
    },
    {
      "cell_type": "code",
      "source": [
        "url = \"massive.ucsd.edu\"\n",
        "dr = \"MSV000084628\"\n",
        "\n",
        "ftp = ftplib.FTP(url)\n",
        "ftp.login(\"anonymous\", \"password\")\n",
        "ftp.cwd(dr)\n",
        "ftp.nlst()"
      ],
      "metadata": {
        "colab": {
          "base_uri": "https://localhost:8080/"
        },
        "id": "m5xXVO4IEJyO",
        "outputId": "bbdaf524-f438-4fef-c64f-372d84a4288f"
      },
      "execution_count": null,
      "outputs": [
        {
          "output_type": "execute_result",
          "data": {
            "text/plain": [
              "['ccms_metadata',\n",
              " 'ccms_parameters',\n",
              " 'ccms_peak',\n",
              " 'metadata',\n",
              " 'other',\n",
              " 'peak',\n",
              " 'updates']"
            ]
          },
          "metadata": {},
          "execution_count": 2
        }
      ]
    },
    {
      "cell_type": "code",
      "source": [
        "ftp.nlst('ccms_peak')"
      ],
      "metadata": {
        "colab": {
          "base_uri": "https://localhost:8080/"
        },
        "id": "1VKRvg1iEp_r",
        "outputId": "8e85ed32-dda6-431d-93bc-242b72758982"
      },
      "execution_count": null,
      "outputs": [
        {
          "output_type": "execute_result",
          "data": {
            "text/plain": [
              "['ccms_peak/Hui_N1.mzML',\n",
              " 'ccms_peak/Hui_N1_fe.mzML',\n",
              " 'ccms_peak/Hui_N2.mzML',\n",
              " 'ccms_peak/Hui_N2_fe.mzML',\n",
              " 'ccms_peak/Hui_N3.mzML',\n",
              " 'ccms_peak/Hui_N3_fe.mzML']"
            ]
          },
          "metadata": {},
          "execution_count": 3
        }
      ]
    },
    {
      "cell_type": "code",
      "source": [
        "ftp.retrbinary(\"RETR ccms_peak/Hui_N1.mzML\", open(\"Hui_N1.mzML\", 'wb').write)"
      ],
      "metadata": {
        "colab": {
          "base_uri": "https://localhost:8080/",
          "height": 35
        },
        "id": "JH7yx7PbEtwk",
        "outputId": "fd085ac0-8fd5-4a4c-efbe-75f47576dd20"
      },
      "execution_count": null,
      "outputs": [
        {
          "output_type": "execute_result",
          "data": {
            "application/vnd.google.colaboratory.intrinsic+json": {
              "type": "string"
            },
            "text/plain": [
              "'226 Transfer complete.'"
            ]
          },
          "metadata": {},
          "execution_count": 4
        }
      ]
    },
    {
      "cell_type": "code",
      "source": [
        "ftp.close()"
      ],
      "metadata": {
        "id": "qhZoBhZEFGkP"
      },
      "execution_count": null,
      "outputs": []
    },
    {
      "cell_type": "markdown",
      "source": [
        "# Reading and processing raw data\n",
        "\n",
        "As linhas abaixo mostram como ler um arquivo de dados brutos e criar um cromatograma. A biblioteca [pyOpenMS](https://pyopenms.readthedocs.io/en/latest/) oferece várias funcionalidades que serão utilizadas nesse projeto. Crie uma função para, dado o nome de um arquivo, imprimir um cromatograma."
      ],
      "metadata": {
        "id": "iI1GppQXHMsY"
      }
    },
    {
      "cell_type": "code",
      "source": [
        "!pip install pyopenms matplotlib"
      ],
      "metadata": {
        "colab": {
          "base_uri": "https://localhost:8080/"
        },
        "id": "8-sccS67HZvX",
        "outputId": "2236afee-1e1c-4a5c-bf21-38e87570a766"
      },
      "execution_count": null,
      "outputs": [
        {
          "output_type": "stream",
          "name": "stdout",
          "text": [
            "Collecting pyopenms\n",
            "  Downloading pyopenms-2.7.0-cp37-cp37m-manylinux2014_x86_64.whl (49.0 MB)\n",
            "\u001b[K     |████████████████████████████████| 49.0 MB 114.4 MB/s \n",
            "\u001b[?25hRequirement already satisfied: matplotlib in /usr/local/lib/python3.7/dist-packages (3.2.2)\n",
            "Requirement already satisfied: numpy in /usr/local/lib/python3.7/dist-packages (from pyopenms) (1.21.5)\n",
            "Requirement already satisfied: pyparsing!=2.0.4,!=2.1.2,!=2.1.6,>=2.0.1 in /usr/local/lib/python3.7/dist-packages (from matplotlib) (3.0.7)\n",
            "Requirement already satisfied: kiwisolver>=1.0.1 in /usr/local/lib/python3.7/dist-packages (from matplotlib) (1.3.2)\n",
            "Requirement already satisfied: python-dateutil>=2.1 in /usr/local/lib/python3.7/dist-packages (from matplotlib) (2.8.2)\n",
            "Requirement already satisfied: cycler>=0.10 in /usr/local/lib/python3.7/dist-packages (from matplotlib) (0.11.0)\n",
            "Requirement already satisfied: six>=1.5 in /usr/local/lib/python3.7/dist-packages (from python-dateutil>=2.1->matplotlib) (1.15.0)\n",
            "Installing collected packages: pyopenms\n",
            "Successfully installed pyopenms-2.7.0\n"
          ]
        }
      ]
    },
    {
      "cell_type": "code",
      "source": [
        "import matplotlib.pyplot as plt\n",
        "import os\n",
        "\n",
        "from pyopenms import *"
      ],
      "metadata": {
        "id": "BWMmYfyoFLl5"
      },
      "execution_count": null,
      "outputs": []
    },
    {
      "cell_type": "code",
      "source": [
        "os.listdir()"
      ],
      "metadata": {
        "colab": {
          "base_uri": "https://localhost:8080/"
        },
        "id": "U3Ji0v1DIxUR",
        "outputId": "6275340a-2248-45c5-e3e1-addbfc972885"
      },
      "execution_count": null,
      "outputs": [
        {
          "output_type": "execute_result",
          "data": {
            "text/plain": [
              "['.config', 'Hui_N1.mzML', 'sample_data']"
            ]
          },
          "metadata": {},
          "execution_count": 8
        }
      ]
    },
    {
      "cell_type": "code",
      "source": [
        "exp = MSExperiment()\n",
        "MzMLFile().load('Hui_N1.mzML', exp)\n",
        "\n",
        "exp"
      ],
      "metadata": {
        "colab": {
          "base_uri": "https://localhost:8080/"
        },
        "id": "NqwJf87GIZb_",
        "outputId": "4f9fa849-d263-418a-ec35-1e96c156a17b"
      },
      "execution_count": null,
      "outputs": [
        {
          "output_type": "execute_result",
          "data": {
            "text/plain": [
              "<pyopenms.pyopenms_5.MSExperiment at 0x7f80c1bf80d0>"
            ]
          },
          "metadata": {},
          "execution_count": 9
        }
      ]
    },
    {
      "cell_type": "code",
      "source": [
        "tic = {} \n",
        "lmz = []\n",
        "li = []\n",
        "rt = []\n",
        "for spec in exp:\n",
        "    if spec.getMSLevel() == 1:\n",
        "        mz, i = spec.get_peaks()\n",
        "        lmz.append(mz)\n",
        "        li.append(i)\n",
        "        rt.append(spec.getRT())\n",
        "\n",
        "tic['mz'] = lmz\n",
        "tic['i'] = li\n",
        "tic['rt'] = rt "
      ],
      "metadata": {
        "id": "llxDMEUUI4CY"
      },
      "execution_count": null,
      "outputs": []
    },
    {
      "cell_type": "code",
      "source": [
        "plt.plot(tic['rt'], [x.sum() for x in tic['i']])\n",
        "plt.ylabel('Intensity')\n",
        "plt.xlabel('Retention Time')"
      ],
      "metadata": {
        "colab": {
          "base_uri": "https://localhost:8080/",
          "height": 307
        },
        "id": "S__R2eIcJAuV",
        "outputId": "7e981222-6add-4134-f4fc-06313459f27e"
      },
      "execution_count": null,
      "outputs": [
        {
          "output_type": "execute_result",
          "data": {
            "text/plain": [
              "Text(0.5, 0, 'Retention Time')"
            ]
          },
          "metadata": {},
          "execution_count": 11
        },
        {
          "output_type": "display_data",
          "data": {
            "image/png": "[encoded data removed]",
            "text/plain": [
              "<Figure size 432x288 with 1 Axes>"
            ]
          },
          "metadata": {
            "needs_background": "light"
          }
        }
      ]
    },
    {
      "cell_type": "markdown",
      "source": [
        "# Retrieve processed data from GNPS\n",
        "\n",
        "A rede criada com os dados pré-processados também pode ser acessada programaticamente. Ao acessar e manipular os resultados, aprendemos como estes estão estruturados, e como podemos reporduzi-los localmente (sem o gnps). Leiam o código abaixo e criem funções para acessar os resultados, dado um _jobid_ e como criar um grafo de um componente conectado (\"família molecular\")."
      ],
      "metadata": {
        "id": "0YhuEjmzKW61"
      }
    },
    {
      "cell_type": "code",
      "source": [
        "import pandas as pd\n",
        "import requests\n",
        "import io\n",
        "#import xmltodict\n",
        "import json"
      ],
      "metadata": {
        "id": "1MG8TMGVNyDs"
      },
      "execution_count": null,
      "outputs": []
    },
    {
      "cell_type": "code",
      "source": [
        "# Resultados\n",
        "# https://gnps.ucsd.edu/ProteoSAFe/status.jsp?task=8ca7cad8b792439588aa5c38051ed6d5\n",
        "\n",
        "taskid = '8ca7cad8b792439588aa5c38051ed6d5'\n",
        "\n",
        "url_to_attributes = \"http://gnps.ucsd.edu/ProteoSAFe/DownloadResultFile?task=%s&block=main&file=clusterinfo_summary/\" % taskid\n",
        "url_to_db = \"http://gnps.ucsd.edu/ProteoSAFe/DownloadResultFile?task=%s&block=main&file=DB_result/\" % taskid\n",
        "url_to_edges = \"http://gnps.ucsd.edu/ProteoSAFe/DownloadResultFile?task=%s&block=main&file=networking_pairs_results_file_filtered/\" % taskid\n",
        "url_to_features = \"http://gnps.ucsd.edu/ProteoSAFe/DownloadResultFile?task=%s&block=main&file=quantification_table/\" % taskid\n",
        "url_to_metadata = \"http://gnps.ucsd.edu/ProteoSAFe/DownloadResultFile?task=%s&block=main&file=metadata_table/\" % taskid\n",
        "            \n",
        "gnps = pd.read_csv(io.StringIO(requests.get(url_to_attributes).text), sep='\\t')\n",
        "dbmatch = pd.read_csv(io.StringIO(requests.get(url_to_db).text), sep='\\t')\n",
        "net = pd.read_csv(io.StringIO(requests.get(url_to_edges).text), sep='\\t')\n",
        "feat = pd.read_csv(io.StringIO(requests.get(url_to_features).text))\n",
        "meta = pd.read_csv(io.StringIO(requests.get(url_to_metadata).text), sep='\\t')\n"
      ],
      "metadata": {
        "id": "CJes5TPiKWYR"
      },
      "execution_count": null,
      "outputs": []
    },
    {
      "cell_type": "code",
      "source": [
        "dbmatch.head()"
      ],
      "metadata": {
        "colab": {
          "base_uri": "https://localhost:8080/",
          "height": 445
        },
        "id": "G928NYyAKL6f",
        "outputId": "5708c243-7771-40db-a916-1da3e9071972"
      },
      "execution_count": null,
      "outputs": [
        {
          "output_type": "execute_result",
          "data": {
            "text/html": [
              "\n",
              "  <div id=\"df-dbe98551-8d6c-4cc2-979a-e7faf6ba065e\">\n",
              "    <div class=\"colab-df-container\">\n",
              "      <div>\n",
              "<style scoped>\n",
              "    .dataframe tbody tr th:only-of-type {\n",
              "        vertical-align: middle;\n",
              "    }\n",
              "\n",
              "    .dataframe tbody tr th {\n",
              "        vertical-align: top;\n",
              "    }\n",
              "\n",
              "    .dataframe thead th {\n",
              "        text-align: right;\n",
              "    }\n",
              "</style>\n",
              "<table border=\"1\" class=\"dataframe\">\n",
              "  <thead>\n",
              "    <tr style=\"text-align: right;\">\n",
              "      <th></th>\n",
              "      <th>SpectrumID</th>\n",
              "      <th>Compound_Name</th>\n",
              "      <th>Ion_Source</th>\n",
              "      <th>Instrument</th>\n",
              "      <th>Compound_Source</th>\n",
              "      <th>PI</th>\n",
              "      <th>Data_Collector</th>\n",
              "      <th>Adduct</th>\n",
              "      <th>Precursor_MZ</th>\n",
              "      <th>ExactMass</th>\n",
              "      <th>Charge</th>\n",
              "      <th>CAS_Number</th>\n",
              "      <th>Pubmed_ID</th>\n",
              "      <th>Smiles</th>\n",
              "      <th>INCHI</th>\n",
              "      <th>INCHI_AUX</th>\n",
              "      <th>Library_Class</th>\n",
              "      <th>IonMode</th>\n",
              "      <th>UpdateWorkflowName</th>\n",
              "      <th>LibraryQualityString</th>\n",
              "      <th>#Scan#</th>\n",
              "      <th>SpectrumFile</th>\n",
              "      <th>LibraryName</th>\n",
              "      <th>MQScore</th>\n",
              "      <th>Organism</th>\n",
              "      <th>TIC_Query</th>\n",
              "      <th>RT_Query</th>\n",
              "      <th>MZErrorPPM</th>\n",
              "      <th>SharedPeaks</th>\n",
              "      <th>MassDiff</th>\n",
              "      <th>LibMZ</th>\n",
              "      <th>SpecMZ</th>\n",
              "      <th>SpecCharge</th>\n",
              "      <th>FileScanUniqueID</th>\n",
              "      <th>NumberHits</th>\n",
              "      <th>tags</th>\n",
              "      <th>MoleculeExplorerDatasets</th>\n",
              "      <th>MoleculeExplorerFiles</th>\n",
              "      <th>InChIKey</th>\n",
              "      <th>InChIKey-Planar</th>\n",
              "      <th>superclass</th>\n",
              "      <th>class</th>\n",
              "      <th>subclass</th>\n",
              "      <th>npclassifier_superclass</th>\n",
              "      <th>npclassifier_class</th>\n",
              "      <th>npclassifier_pathway</th>\n",
              "    </tr>\n",
              "  </thead>\n",
              "  <tbody>\n",
              "    <tr>\n",
              "      <th>0</th>\n",
              "      <td>CCMSLIB00005723621</td>\n",
              "      <td>Aerobactin</td>\n",
              "      <td>LC-ESI</td>\n",
              "      <td>Orbitrap</td>\n",
              "      <td>Lysate</td>\n",
              "      <td>Pieter Dorrestein</td>\n",
              "      <td>Allegra Aron</td>\n",
              "      <td>M+H</td>\n",
              "      <td>565.230</td>\n",
              "      <td>0.0</td>\n",
              "      <td>1</td>\n",
              "      <td></td>\n",
              "      <td></td>\n",
              "      <td></td>\n",
              "      <td></td>\n",
              "      <td></td>\n",
              "      <td>3</td>\n",
              "      <td>Positive</td>\n",
              "      <td>UPDATE-SINGLE-ANNOTATED-BRONZE</td>\n",
              "      <td>Bronze</td>\n",
              "      <td>10</td>\n",
              "      <td>spectra_filtered/specs_ms.mgf</td>\n",
              "      <td>lib-00014.mgf</td>\n",
              "      <td>0.970116</td>\n",
              "      <td>GNPS-LIBRARY</td>\n",
              "      <td>1.412300e+09</td>\n",
              "      <td>0</td>\n",
              "      <td>8.314680</td>\n",
              "      <td>27</td>\n",
              "      <td>0.004700</td>\n",
              "      <td>565.230</td>\n",
              "      <td>565.235</td>\n",
              "      <td>1</td>\n",
              "      <td>spectra_filtered/specs_ms.mgf10</td>\n",
              "      <td>1</td>\n",
              "      <td>NaN</td>\n",
              "      <td>0</td>\n",
              "      <td>0</td>\n",
              "      <td>NaN</td>\n",
              "      <td>NaN</td>\n",
              "      <td>NaN</td>\n",
              "      <td>NaN</td>\n",
              "      <td>NaN</td>\n",
              "      <td>NaN</td>\n",
              "      <td>NaN</td>\n",
              "      <td>NaN</td>\n",
              "    </tr>\n",
              "    <tr>\n",
              "      <th>1</th>\n",
              "      <td>CCMSLIB00003137732</td>\n",
              "      <td>Spectral Match to 2,4,7,9-Tetramethyl-5-decyne...</td>\n",
              "      <td>ESI</td>\n",
              "      <td>HCD</td>\n",
              "      <td>Isolated</td>\n",
              "      <td>Data from Gabriel Haddad</td>\n",
              "      <td>Data deposited by mjmeehan</td>\n",
              "      <td>M+H-H2O</td>\n",
              "      <td>209.190</td>\n",
              "      <td>0.0</td>\n",
              "      <td>1</td>\n",
              "      <td>126863</td>\n",
              "      <td>NaN</td>\n",
              "      <td>NaN</td>\n",
              "      <td>NaN</td>\n",
              "      <td>NaN</td>\n",
              "      <td>3</td>\n",
              "      <td>Positive</td>\n",
              "      <td>UPDATE-SINGLE-ANNOTATED-BRONZE</td>\n",
              "      <td>Bronze</td>\n",
              "      <td>1035</td>\n",
              "      <td>spectra_filtered/specs_ms.mgf</td>\n",
              "      <td>lib-00036.mgf</td>\n",
              "      <td>0.913743</td>\n",
              "      <td>GNPS-NIST14-MATCHES</td>\n",
              "      <td>3.050000e+06</td>\n",
              "      <td>0</td>\n",
              "      <td>0.510596</td>\n",
              "      <td>8</td>\n",
              "      <td>0.000107</td>\n",
              "      <td>209.190</td>\n",
              "      <td>209.190</td>\n",
              "      <td>1</td>\n",
              "      <td>spectra_filtered/specs_ms.mgf1035</td>\n",
              "      <td>1</td>\n",
              "      <td>NaN</td>\n",
              "      <td>32</td>\n",
              "      <td>811</td>\n",
              "      <td>NaN</td>\n",
              "      <td>NaN</td>\n",
              "      <td>NaN</td>\n",
              "      <td>NaN</td>\n",
              "      <td>NaN</td>\n",
              "      <td>NaN</td>\n",
              "      <td>NaN</td>\n",
              "      <td>NaN</td>\n",
              "    </tr>\n",
              "    <tr>\n",
              "      <th>2</th>\n",
              "      <td>CCMSLIB00003139026</td>\n",
              "      <td>Spectral Match to Coproporphyrin III from NIST14</td>\n",
              "      <td>ESI</td>\n",
              "      <td>HCD</td>\n",
              "      <td>Isolated</td>\n",
              "      <td>Data from Pieter Dorrestein</td>\n",
              "      <td>Data deposited by t3hdon</td>\n",
              "      <td>M+2H]</td>\n",
              "      <td>328.150</td>\n",
              "      <td>0.0</td>\n",
              "      <td>1</td>\n",
              "      <td>14643664</td>\n",
              "      <td>NaN</td>\n",
              "      <td>NaN</td>\n",
              "      <td>NaN</td>\n",
              "      <td>NaN</td>\n",
              "      <td>3</td>\n",
              "      <td>Positive</td>\n",
              "      <td>UPDATE-SINGLE-ANNOTATED-BRONZE</td>\n",
              "      <td>Bronze</td>\n",
              "      <td>1059</td>\n",
              "      <td>spectra_filtered/specs_ms.mgf</td>\n",
              "      <td>lib-00036.mgf</td>\n",
              "      <td>0.808747</td>\n",
              "      <td>GNPS-NIST14-MATCHES</td>\n",
              "      <td>2.363400e+06</td>\n",
              "      <td>0</td>\n",
              "      <td>25.295700</td>\n",
              "      <td>6</td>\n",
              "      <td>327.126000</td>\n",
              "      <td>328.150</td>\n",
              "      <td>328.142</td>\n",
              "      <td>2</td>\n",
              "      <td>spectra_filtered/specs_ms.mgf1059</td>\n",
              "      <td>1</td>\n",
              "      <td>NaN</td>\n",
              "      <td>6</td>\n",
              "      <td>219</td>\n",
              "      <td>NaN</td>\n",
              "      <td>NaN</td>\n",
              "      <td>NaN</td>\n",
              "      <td>NaN</td>\n",
              "      <td>NaN</td>\n",
              "      <td>NaN</td>\n",
              "      <td>NaN</td>\n",
              "      <td>NaN</td>\n",
              "    </tr>\n",
              "    <tr>\n",
              "      <th>3</th>\n",
              "      <td>CCMSLIB00005489308</td>\n",
              "      <td>HPTzTn-COOH</td>\n",
              "      <td>LC-ESI</td>\n",
              "      <td>Orbitrap</td>\n",
              "      <td>Lysate</td>\n",
              "      <td>Pieter Dorrestein</td>\n",
              "      <td>Allegra Aron</td>\n",
              "      <td>M+H</td>\n",
              "      <td>307.021</td>\n",
              "      <td>0.0</td>\n",
              "      <td>1</td>\n",
              "      <td></td>\n",
              "      <td></td>\n",
              "      <td></td>\n",
              "      <td></td>\n",
              "      <td></td>\n",
              "      <td>3</td>\n",
              "      <td>Positive</td>\n",
              "      <td>UPDATE-SINGLE-ANNOTATED-BRONZE</td>\n",
              "      <td>Bronze</td>\n",
              "      <td>1113</td>\n",
              "      <td>spectra_filtered/specs_ms.mgf</td>\n",
              "      <td>lib-00014.mgf</td>\n",
              "      <td>0.900163</td>\n",
              "      <td>GNPS-LIBRARY</td>\n",
              "      <td>1.083500e+06</td>\n",
              "      <td>0</td>\n",
              "      <td>1.590380</td>\n",
              "      <td>8</td>\n",
              "      <td>0.000488</td>\n",
              "      <td>307.021</td>\n",
              "      <td>307.021</td>\n",
              "      <td>1</td>\n",
              "      <td>spectra_filtered/specs_ms.mgf1113</td>\n",
              "      <td>1</td>\n",
              "      <td>NaN</td>\n",
              "      <td>0</td>\n",
              "      <td>0</td>\n",
              "      <td>NaN</td>\n",
              "      <td>NaN</td>\n",
              "      <td>NaN</td>\n",
              "      <td>NaN</td>\n",
              "      <td>NaN</td>\n",
              "      <td>NaN</td>\n",
              "      <td>NaN</td>\n",
              "      <td>NaN</td>\n",
              "    </tr>\n",
              "    <tr>\n",
              "      <th>4</th>\n",
              "      <td>CCMSLIB00003136497</td>\n",
              "      <td>Spectral Match to Tris(2-butoxyethyl) phosphat...</td>\n",
              "      <td>ESI</td>\n",
              "      <td>HCD</td>\n",
              "      <td>Isolated</td>\n",
              "      <td>Data from Nediljko Budisa</td>\n",
              "      <td>Data deposited by daniel</td>\n",
              "      <td>M+H</td>\n",
              "      <td>399.251</td>\n",
              "      <td>0.0</td>\n",
              "      <td>1</td>\n",
              "      <td>78513</td>\n",
              "      <td>NaN</td>\n",
              "      <td>NaN</td>\n",
              "      <td>NaN</td>\n",
              "      <td>NaN</td>\n",
              "      <td>3</td>\n",
              "      <td>Positive</td>\n",
              "      <td>UPDATE-SINGLE-ANNOTATED-BRONZE</td>\n",
              "      <td>Bronze</td>\n",
              "      <td>114</td>\n",
              "      <td>spectra_filtered/specs_ms.mgf</td>\n",
              "      <td>lib-00036.mgf</td>\n",
              "      <td>0.965109</td>\n",
              "      <td>GNPS-NIST14-MATCHES</td>\n",
              "      <td>1.597140e+07</td>\n",
              "      <td>0</td>\n",
              "      <td>0.305748</td>\n",
              "      <td>10</td>\n",
              "      <td>0.000122</td>\n",
              "      <td>399.251</td>\n",
              "      <td>399.251</td>\n",
              "      <td>1</td>\n",
              "      <td>spectra_filtered/specs_ms.mgf114</td>\n",
              "      <td>1</td>\n",
              "      <td>NaN</td>\n",
              "      <td>300</td>\n",
              "      <td>18343</td>\n",
              "      <td>NaN</td>\n",
              "      <td>NaN</td>\n",
              "      <td>NaN</td>\n",
              "      <td>NaN</td>\n",
              "      <td>NaN</td>\n",
              "      <td>NaN</td>\n",
              "      <td>NaN</td>\n",
              "      <td>NaN</td>\n",
              "    </tr>\n",
              "  </tbody>\n",
              "</table>\n",
              "</div>\n",
              "      <button class=\"colab-df-convert\" onclick=\"convertToInteractive('df-dbe98551-8d6c-4cc2-979a-e7faf6ba065e')\"\n",
              "              title=\"Convert this dataframe to an interactive table.\"\n",
              "              style=\"display:none;\">\n",
              "        \n",
              "  <svg xmlns=\"http://www.w3.org/2000/svg\" height=\"24px\"viewBox=\"0 0 24 24\"\n",
              "       width=\"24px\">\n",
              "    <path d=\"M0 0h24v24H0V0z\" fill=\"none\"/>\n",
              "    <path d=\"M18.56 5.44l.94 2.06.94-2.06 2.06-.94-2.06-.94-.94-2.06-.94 2.06-2.06.94zm-11 1L8.5 8.5l.94-2.06 2.06-.94-2.06-.94L8.5 2.5l-.94 2.06-2.06.94zm10 10l.94 2.06.94-2.06 2.06-.94-2.06-.94-.94-2.06-.94 2.06-2.06.94z\"/><path d=\"M17.41 7.96l-1.37-1.37c-.4-.4-.92-.59-1.43-.59-.52 0-1.04.2-1.43.59L10.3 9.45l-7.72 7.72c-.78.78-.78 2.05 0 2.83L4 21.41c.39.39.9.59 1.41.59.51 0 1.02-.2 1.41-.59l7.78-7.78 2.81-2.81c.8-.78.8-2.07 0-2.86zM5.41 20L4 18.59l7.72-7.72 1.47 1.35L5.41 20z\"/>\n",
              "  </svg>\n",
              "      </button>\n",
              "      \n",
              "  <style>\n",
              "    .colab-df-container {\n",
              "      display:flex;\n",
              "      flex-wrap:wrap;\n",
              "      gap: 12px;\n",
              "    }\n",
              "\n",
              "    .colab-df-convert {\n",
              "      background-color: #E8F0FE;\n",
              "      border: none;\n",
              "      border-radius: 50%;\n",
              "      cursor: pointer;\n",
              "      display: none;\n",
              "      fill: #1967D2;\n",
              "      height: 32px;\n",
              "      padding: 0 0 0 0;\n",
              "      width: 32px;\n",
              "    }\n",
              "\n",
              "    .colab-df-convert:hover {\n",
              "      background-color: #E2EBFA;\n",
              "      box-shadow: 0px 1px 2px rgba(60, 64, 67, 0.3), 0px 1px 3px 1px rgba(60, 64, 67, 0.15);\n",
              "      fill: #174EA6;\n",
              "    }\n",
              "\n",
              "    [theme=dark] .colab-df-convert {\n",
              "      background-color: #3B4455;\n",
              "      fill: #D2E3FC;\n",
              "    }\n",
              "\n",
              "    [theme=dark] .colab-df-convert:hover {\n",
              "      background-color: #434B5C;\n",
              "      box-shadow: 0px 1px 3px 1px rgba(0, 0, 0, 0.15);\n",
              "      filter: drop-shadow(0px 1px 2px rgba(0, 0, 0, 0.3));\n",
              "      fill: #FFFFFF;\n",
              "    }\n",
              "  </style>\n",
              "\n",
              "      <script>\n",
              "        const buttonEl =\n",
              "          document.querySelector('#df-dbe98551-8d6c-4cc2-979a-e7faf6ba065e button.colab-df-convert');\n",
              "        buttonEl.style.display =\n",
              "          google.colab.kernel.accessAllowed ? 'block' : 'none';\n",
              "\n",
              "        async function convertToInteractive(key) {\n",
              "          const element = document.querySelector('#df-dbe98551-8d6c-4cc2-979a-e7faf6ba065e');\n",
              "          const dataTable =\n",
              "            await google.colab.kernel.invokeFunction('convertToInteractive',\n",
              "                                                     [key], {});\n",
              "          if (!dataTable) return;\n",
              "\n",
              "          const docLinkHtml = 'Like what you see? Visit the ' +\n",
              "            '<a target=\"_blank\" href=https://colab.research.google.com/notebooks/data_table.ipynb>data table notebook</a>'\n",
              "            + ' to learn more about interactive tables.';\n",
              "          element.innerHTML = '';\n",
              "          dataTable['output_type'] = 'display_data';\n",
              "          await google.colab.output.renderOutput(dataTable, element);\n",
              "          const docLink = document.createElement('div');\n",
              "          docLink.innerHTML = docLinkHtml;\n",
              "          element.appendChild(docLink);\n",
              "        }\n",
              "      </script>\n",
              "    </div>\n",
              "  </div>\n",
              "  "
            ],
            "text/plain": [
              "           SpectrumID  ... npclassifier_pathway\n",
              "0  CCMSLIB00005723621  ...                  NaN\n",
              "1  CCMSLIB00003137732  ...                  NaN\n",
              "2  CCMSLIB00003139026  ...                  NaN\n",
              "3  CCMSLIB00005489308  ...                  NaN\n",
              "4  CCMSLIB00003136497  ...                  NaN\n",
              "\n",
              "[5 rows x 46 columns]"
            ]
          },
          "metadata": {},
          "execution_count": 14
        }
      ]
    },
    {
      "cell_type": "code",
      "source": [
        "dbmatch.columns"
      ],
      "metadata": {
        "colab": {
          "base_uri": "https://localhost:8080/"
        },
        "id": "AQiFAIyORgvz",
        "outputId": "6b5cde27-4b1d-4eab-a3c3-797ffef4a67a"
      },
      "execution_count": null,
      "outputs": [
        {
          "output_type": "execute_result",
          "data": {
            "text/plain": [
              "Index(['SpectrumID', 'Compound_Name', 'Ion_Source', 'Instrument',\n",
              "       'Compound_Source', 'PI', 'Data_Collector', 'Adduct', 'Precursor_MZ',\n",
              "       'ExactMass', 'Charge', 'CAS_Number', 'Pubmed_ID', 'Smiles', 'INCHI',\n",
              "       'INCHI_AUX', 'Library_Class', 'IonMode', 'UpdateWorkflowName',\n",
              "       'LibraryQualityString', '#Scan#', 'SpectrumFile', 'LibraryName',\n",
              "       'MQScore', 'Organism', 'TIC_Query', 'RT_Query', 'MZErrorPPM',\n",
              "       'SharedPeaks', 'MassDiff', 'LibMZ', 'SpecMZ', 'SpecCharge',\n",
              "       'FileScanUniqueID', 'NumberHits', 'tags', 'MoleculeExplorerDatasets',\n",
              "       'MoleculeExplorerFiles', 'InChIKey', 'InChIKey-Planar', 'superclass',\n",
              "       'class', 'subclass', 'npclassifier_superclass', 'npclassifier_class',\n",
              "       'npclassifier_pathway'],\n",
              "      dtype='object')"
            ]
          },
          "metadata": {},
          "execution_count": 15
        }
      ]
    },
    {
      "cell_type": "markdown",
      "source": [
        "## Reproduzindo o resultado de um pareamento espectral de um composto da nossa amostra com um espectro de referência no banco de dados"
      ],
      "metadata": {
        "id": "E2clstkvp0ix"
      }
    },
    {
      "cell_type": "code",
      "source": [
        "dbmatch.loc[4, ['SpectrumID', '#Scan#']]"
      ],
      "metadata": {
        "colab": {
          "base_uri": "https://localhost:8080/"
        },
        "id": "HpntkU_OSok-",
        "outputId": "d291cc58-c7bb-4cfa-d2b8-3fb2c6543de8"
      },
      "execution_count": null,
      "outputs": [
        {
          "output_type": "execute_result",
          "data": {
            "text/plain": [
              "SpectrumID    CCMSLIB00003136497\n",
              "#Scan#                       114\n",
              "Name: 4, dtype: object"
            ]
          },
          "metadata": {},
          "execution_count": 16
        }
      ]
    },
    {
      "cell_type": "code",
      "source": [
        "import re\n",
        "#https://gnps.ucsd.edu/ProteoSAFe/libraries.jsp\n",
        "\n",
        "r = requests.get('https://gnps.ucsd.edu/ProteoSAFe/SpectrumCommentServlet?SpectrumID=CCMSLIB00003136497')\n",
        "spec = json.loads(r.text)\n",
        "\n",
        "spec"
      ],
      "metadata": {
        "colab": {
          "base_uri": "https://localhost:8080/"
        },
        "id": "j3TCqlJsR_OE",
        "outputId": "2a576d78-cb89-41e4-fa88-5c7b96cd6864"
      },
      "execution_count": null,
      "outputs": [
        {
          "output_type": "execute_result",
          "data": {
            "text/plain": [
              "{'annotations': [{'Adduct': 'M+H',\n",
              "   'CAS_Number': '78513',\n",
              "   'Charge': '1',\n",
              "   'Compound_Name': 'Spectral Match to Tris(2-butoxyethyl) phosphate from NIST14',\n",
              "   'Compound_Source': 'Isolated',\n",
              "   'Data_Collector': 'Data deposited by daniel',\n",
              "   'ExactMass': '398.243',\n",
              "   'INCHI': 'InChI=1S/C18H39O7P/c1-4-7-10-20-13-16-23-26(19,24-17-14-21-11-8-5-2)25-18-15-22-12-9-6-3/h4-18H2,1-3H3',\n",
              "   'INCHI_AUX': 'N/A',\n",
              "   'Instrument': 'qTof',\n",
              "   'Ion_Mode': 'Positive',\n",
              "   'Ion_Source': 'ESI',\n",
              "   'Library_Class': '3',\n",
              "   'PI': 'Data from Nediljko Budisa',\n",
              "   'Precursor_MZ': '399.251',\n",
              "   'Pubmed_ID': 'N/A',\n",
              "   'Scan': '-1',\n",
              "   'Smiles': 'CCCCOCCOP(=O)(OCCOCCCC)OCCOCCCC',\n",
              "   'SpectrumID': 'CCMSLIB00003136497',\n",
              "   'create_time': '2021-03-20 21:03:21.0',\n",
              "   'task_id': '2a3864c92f934e6b93f6c412f8027b63',\n",
              "   'user_id': 'kimkami2'},\n",
              "  {'Adduct': 'M+H',\n",
              "   'CAS_Number': '78513',\n",
              "   'Charge': '1',\n",
              "   'Compound_Name': 'Spectral Match to Tris(2-butoxyethyl) phosphate from NIST14',\n",
              "   'Compound_Source': 'Isolated',\n",
              "   'Data_Collector': 'Data deposited by daniel',\n",
              "   'ExactMass': '0.0',\n",
              "   'INCHI': 'N/A',\n",
              "   'INCHI_AUX': 'N/A',\n",
              "   'Instrument': 'HCD',\n",
              "   'Ion_Mode': 'Positive',\n",
              "   'Ion_Source': 'ESI',\n",
              "   'Library_Class': '3',\n",
              "   'PI': 'Data from Nediljko Budisa',\n",
              "   'Precursor_MZ': '399.251',\n",
              "   'Pubmed_ID': 'N/A',\n",
              "   'Scan': '-1',\n",
              "   'Smiles': 'N/A',\n",
              "   'SpectrumID': 'CCMSLIB00003136497',\n",
              "   'create_time': '2017-07-18 13:02:40.0',\n",
              "   'task_id': '815429eafb604ae5a65a42cf0bcc01ac',\n",
              "   'user_id': 'mwang87'}],\n",
              " 'canAdmin': 0,\n",
              " 'comments': [],\n",
              " 'spectrum_tags': [],\n",
              " 'spectruminfo': {'library_membership': 'GNPS-NIST14-MATCHES',\n",
              "  'ms_level': '2',\n",
              "  'peaks_json': '[[74.252853,0.000000],[74.253456,0.000000],[74.254066,0.000000],[83.077156,0.000000],[83.077881,0.000000],[83.078598,0.000000],[83.080750,2880.769531],[83.085838,63547.101562],[83.090034,0.000000],[83.090752,0.000000],[83.091469,0.000000],[92.878258,0.000000],[92.879105,0.000000],[92.879959,0.000000],[92.883354,1857.904907],[92.886810,0.000000],[92.887657,0.000000],[92.888512,0.000000],[98.975502,0.000000],[98.976433,0.000000],[98.977371,0.000000],[98.983910,55541.417969],[98.990402,0.000000],[98.991341,0.000000],[98.992271,0.000000],[101.054031,0.000000],[101.054993,0.000000],[101.055954,0.000000],[101.059814,1570.614624],[101.063728,0.000000],[101.064690,0.000000],[101.065651,0.000000],[101.085892,0.000000],[101.086861,0.000000],[101.087822,0.000000],[101.096497,95560.523438],[101.103188,2328.982910],[101.105141,0.000000],[101.106110,0.000000],[101.107071,0.000000],[101.108040,0.000000],[111.037132,0.000000],[111.038246,0.000000],[111.039352,0.000000],[111.043793,2473.965820],[111.049362,0.000000],[111.050468,0.000000],[111.051582,0.000000],[124.989983,0.000000],[124.991310,0.000000],[124.992638,0.000000],[124.999260,14900.462891],[125.007256,0.000000],[125.008583,0.000000],[125.009911,0.000000],[129.046646,0.000000],[129.048035,0.000000],[129.049423,0.000000],[129.054993,1994.741577],[129.060608,0.000000],[129.061996,0.000000],[129.063385,0.000000],[132.368851,0.000000],[132.370300,0.000000],[132.371735,0.000000],[132.377518,1961.340942],[132.383713,0.000000],[132.385162,0.000000],[132.386612,0.000000],[142.997314,0.000000],[142.998932,0.000000],[143.000565,0.000000],[143.010284,42076.710938],[143.021301,0.000000],[143.022934,0.000000],[143.024551,0.000000],[147.053497,0.000000],[147.055191,0.000000],[147.056885,0.000000],[147.065338,2993.795410],[147.072159,0.000000],[147.073853,0.000000],[147.075546,0.000000],[154.605881,0.000000],[154.607712,0.000000],[154.609528,0.000000],[154.616821,1730.440063],[154.624344,0.000000],[154.626160,0.000000],[154.627991,0.000000],[199.039871,0.000000],[199.042526,0.000000],[199.045197,0.000000],[199.071838,344453.156250],[199.101212,0.000000],[199.103882,0.000000],[199.106537,0.000000],[212.641815,0.000000],[212.644745,0.000000],[212.647690,0.000000],[212.659454,1797.758667],[212.671356,0.000000],[212.674301,0.000000],[212.677246,0.000000],[225.064011,0.000000],[225.067215,0.000000],[225.070404,0.000000],[225.089630,11588.596680],[225.106750,0.000000],[225.109955,0.000000],[225.113159,0.000000],[243.071503,0.000000],[243.075089,0.000000],[243.078690,0.000000],[243.100250,12190.924805],[243.116776,0.000000],[243.120361,0.000000],[243.123962,0.000000],[277.006714,0.000000],[277.011078,0.000000],[277.015472,0.000000],[277.032959,1749.190918],[277.050385,0.000000],[277.054779,0.000000],[277.059143,0.000000],[299.101471,0.000000],[299.106354,0.000000],[299.111267,0.000000],[299.160339,361648.281250],[299.210266,0.000000],[299.215179,0.000000],[299.220093,0.000000],[299.225006,0.000000],[343.146606,0.000000],[343.152618,0.000000],[343.158661,0.000000],[343.182770,2264.222168],[343.213165,0.000000],[343.219208,0.000000],[343.225220,0.000000],[399.158447,0.000000],[399.166016,0.000000],[399.173584,0.000000],[399.249237,188158.359375],[399.332489,0.000000],[399.340057,0.000000],[399.347626,0.000000],[429.279968,0.000000],[429.288422,0.000000],[429.296844,0.000000]]',\n",
              "  'scan': '4774',\n",
              "  'source_file': 'MSV000081065/ccms_peak/mzxml/4_34_II.mzXML',\n",
              "  'spectrum_id': 'CCMSLIB00003136497',\n",
              "  'spectrum_status': '1',\n",
              "  'splash': 'null-null-null-null',\n",
              "  'task': '815429eafb604ae5a65a42cf0bcc01ac'}}"
            ]
          },
          "metadata": {},
          "execution_count": 17
        }
      ]
    },
    {
      "cell_type": "code",
      "source": [
        "spec['spectruminfo']['peaks_json']"
      ],
      "metadata": {
        "colab": {
          "base_uri": "https://localhost:8080/",
          "height": 177
        },
        "id": "qrz_4I4EUoe7",
        "outputId": "8bd1b27d-75d9-405a-fa08-eded87e44845"
      },
      "execution_count": null,
      "outputs": [
        {
          "output_type": "execute_result",
          "data": {
            "application/vnd.google.colaboratory.intrinsic+json": {
              "type": "string"
            },
            "text/plain": [
              "'[[74.252853,0.000000],[74.253456,0.000000],[74.254066,0.000000],[83.077156,0.000000],[83.077881,0.000000],[83.078598,0.000000],[83.080750,2880.769531],[83.085838,63547.101562],[83.090034,0.000000],[83.090752,0.000000],[83.091469,0.000000],[92.878258,0.000000],[92.879105,0.000000],[92.879959,0.000000],[92.883354,1857.904907],[92.886810,0.000000],[92.887657,0.000000],[92.888512,0.000000],[98.975502,0.000000],[98.976433,0.000000],[98.977371,0.000000],[98.983910,55541.417969],[98.990402,0.000000],[98.991341,0.000000],[98.992271,0.000000],[101.054031,0.000000],[101.054993,0.000000],[101.055954,0.000000],[101.059814,1570.614624],[101.063728,0.000000],[101.064690,0.000000],[101.065651,0.000000],[101.085892,0.000000],[101.086861,0.000000],[101.087822,0.000000],[101.096497,95560.523438],[101.103188,2328.982910],[101.105141,0.000000],[101.106110,0.000000],[101.107071,0.000000],[101.108040,0.000000],[111.037132,0.000000],[111.038246,0.000000],[111.039352,0.000000],[111.043793,2473.965820],[111.049362,0.000000],[111.050468,0.000000],[111.051582,0.000000],[124.989983,0.000000],[124.991310,0.000000],[124.992638,0.000000],[124.999260,14900.462891],[125.007256,0.000000],[125.008583,0.000000],[125.009911,0.000000],[129.046646,0.000000],[129.048035,0.000000],[129.049423,0.000000],[129.054993,1994.741577],[129.060608,0.000000],[129.061996,0.000000],[129.063385,0.000000],[132.368851,0.000000],[132.370300,0.000000],[132.371735,0.000000],[132.377518,1961.340942],[132.383713,0.000000],[132.385162,0.000000],[132.386612,0.000000],[142.997314,0.000000],[142.998932,0.000000],[143.000565,0.000000],[143.010284,42076.710938],[143.021301,0.000000],[143.022934,0.000000],[143.024551,0.000000],[147.053497,0.000000],[147.055191,0.000000],[147.056885,0.000000],[147.065338,2993.795410],[147.072159,0.000000],[147.073853,0.000000],[147.075546,0.000000],[154.605881,0.000000],[154.607712,0.000000],[154.609528,0.000000],[154.616821,1730.440063],[154.624344,0.000000],[154.626160,0.000000],[154.627991,0.000000],[199.039871,0.000000],[199.042526,0.000000],[199.045197,0.000000],[199.071838,344453.156250],[199.101212,0.000000],[199.103882,0.000000],[199.106537,0.000000],[212.641815,0.000000],[212.644745,0.000000],[212.647690,0.000000],[212.659454,1797.758667],[212.671356,0.000000],[212.674301,0.000000],[212.677246,0.000000],[225.064011,0.000000],[225.067215,0.000000],[225.070404,0.000000],[225.089630,11588.596680],[225.106750,0.000000],[225.109955,0.000000],[225.113159,0.000000],[243.071503,0.000000],[243.075089,0.000000],[243.078690,0.000000],[243.100250,12190.924805],[243.116776,0.000000],[243.120361,0.000000],[243.123962,0.000000],[277.006714,0.000000],[277.011078,0.000000],[277.015472,0.000000],[277.032959,1749.190918],[277.050385,0.000000],[277.054779,0.000000],[277.059143,0.000000],[299.101471,0.000000],[299.106354,0.000000],[299.111267,0.000000],[299.160339,361648.281250],[299.210266,0.000000],[299.215179,0.000000],[299.220093,0.000000],[299.225006,0.000000],[343.146606,0.000000],[343.152618,0.000000],[343.158661,0.000000],[343.182770,2264.222168],[343.213165,0.000000],[343.219208,0.000000],[343.225220,0.000000],[399.158447,0.000000],[399.166016,0.000000],[399.173584,0.000000],[399.249237,188158.359375],[399.332489,0.000000],[399.340057,0.000000],[399.347626,0.000000],[429.279968,0.000000],[429.288422,0.000000],[429.296844,0.000000]]'"
            ]
          },
          "metadata": {},
          "execution_count": 18
        }
      ]
    },
    {
      "cell_type": "code",
      "source": [
        "base_spec = json.loads(spec['spectruminfo']['peaks_json'])\n",
        "\n",
        "base_spec"
      ],
      "metadata": {
        "colab": {
          "base_uri": "https://localhost:8080/"
        },
        "id": "-krDCvBQUyZi",
        "outputId": "6f1d72fc-1cd3-4401-af19-0c25fa9492cc"
      },
      "execution_count": null,
      "outputs": [
        {
          "output_type": "execute_result",
          "data": {
            "text/plain": [
              "[[74.252853, 0.0],\n",
              " [74.253456, 0.0],\n",
              " [74.254066, 0.0],\n",
              " [83.077156, 0.0],\n",
              " [83.077881, 0.0],\n",
              " [83.078598, 0.0],\n",
              " [83.08075, 2880.769531],\n",
              " [83.085838, 63547.101562],\n",
              " [83.090034, 0.0],\n",
              " [83.090752, 0.0],\n",
              " [83.091469, 0.0],\n",
              " [92.878258, 0.0],\n",
              " [92.879105, 0.0],\n",
              " [92.879959, 0.0],\n",
              " [92.883354, 1857.904907],\n",
              " [92.88681, 0.0],\n",
              " [92.887657, 0.0],\n",
              " [92.888512, 0.0],\n",
              " [98.975502, 0.0],\n",
              " [98.976433, 0.0],\n",
              " [98.977371, 0.0],\n",
              " [98.98391, 55541.417969],\n",
              " [98.990402, 0.0],\n",
              " [98.991341, 0.0],\n",
              " [98.992271, 0.0],\n",
              " [101.054031, 0.0],\n",
              " [101.054993, 0.0],\n",
              " [101.055954, 0.0],\n",
              " [101.059814, 1570.614624],\n",
              " [101.063728, 0.0],\n",
              " [101.06469, 0.0],\n",
              " [101.065651, 0.0],\n",
              " [101.085892, 0.0],\n",
              " [101.086861, 0.0],\n",
              " [101.087822, 0.0],\n",
              " [101.096497, 95560.523438],\n",
              " [101.103188, 2328.98291],\n",
              " [101.105141, 0.0],\n",
              " [101.10611, 0.0],\n",
              " [101.107071, 0.0],\n",
              " [101.10804, 0.0],\n",
              " [111.037132, 0.0],\n",
              " [111.038246, 0.0],\n",
              " [111.039352, 0.0],\n",
              " [111.043793, 2473.96582],\n",
              " [111.049362, 0.0],\n",
              " [111.050468, 0.0],\n",
              " [111.051582, 0.0],\n",
              " [124.989983, 0.0],\n",
              " [124.99131, 0.0],\n",
              " [124.992638, 0.0],\n",
              " [124.99926, 14900.462891],\n",
              " [125.007256, 0.0],\n",
              " [125.008583, 0.0],\n",
              " [125.009911, 0.0],\n",
              " [129.046646, 0.0],\n",
              " [129.048035, 0.0],\n",
              " [129.049423, 0.0],\n",
              " [129.054993, 1994.741577],\n",
              " [129.060608, 0.0],\n",
              " [129.061996, 0.0],\n",
              " [129.063385, 0.0],\n",
              " [132.368851, 0.0],\n",
              " [132.3703, 0.0],\n",
              " [132.371735, 0.0],\n",
              " [132.377518, 1961.340942],\n",
              " [132.383713, 0.0],\n",
              " [132.385162, 0.0],\n",
              " [132.386612, 0.0],\n",
              " [142.997314, 0.0],\n",
              " [142.998932, 0.0],\n",
              " [143.000565, 0.0],\n",
              " [143.010284, 42076.710938],\n",
              " [143.021301, 0.0],\n",
              " [143.022934, 0.0],\n",
              " [143.024551, 0.0],\n",
              " [147.053497, 0.0],\n",
              " [147.055191, 0.0],\n",
              " [147.056885, 0.0],\n",
              " [147.065338, 2993.79541],\n",
              " [147.072159, 0.0],\n",
              " [147.073853, 0.0],\n",
              " [147.075546, 0.0],\n",
              " [154.605881, 0.0],\n",
              " [154.607712, 0.0],\n",
              " [154.609528, 0.0],\n",
              " [154.616821, 1730.440063],\n",
              " [154.624344, 0.0],\n",
              " [154.62616, 0.0],\n",
              " [154.627991, 0.0],\n",
              " [199.039871, 0.0],\n",
              " [199.042526, 0.0],\n",
              " [199.045197, 0.0],\n",
              " [199.071838, 344453.15625],\n",
              " [199.101212, 0.0],\n",
              " [199.103882, 0.0],\n",
              " [199.106537, 0.0],\n",
              " [212.641815, 0.0],\n",
              " [212.644745, 0.0],\n",
              " [212.64769, 0.0],\n",
              " [212.659454, 1797.758667],\n",
              " [212.671356, 0.0],\n",
              " [212.674301, 0.0],\n",
              " [212.677246, 0.0],\n",
              " [225.064011, 0.0],\n",
              " [225.067215, 0.0],\n",
              " [225.070404, 0.0],\n",
              " [225.08963, 11588.59668],\n",
              " [225.10675, 0.0],\n",
              " [225.109955, 0.0],\n",
              " [225.113159, 0.0],\n",
              " [243.071503, 0.0],\n",
              " [243.075089, 0.0],\n",
              " [243.07869, 0.0],\n",
              " [243.10025, 12190.924805],\n",
              " [243.116776, 0.0],\n",
              " [243.120361, 0.0],\n",
              " [243.123962, 0.0],\n",
              " [277.006714, 0.0],\n",
              " [277.011078, 0.0],\n",
              " [277.015472, 0.0],\n",
              " [277.032959, 1749.190918],\n",
              " [277.050385, 0.0],\n",
              " [277.054779, 0.0],\n",
              " [277.059143, 0.0],\n",
              " [299.101471, 0.0],\n",
              " [299.106354, 0.0],\n",
              " [299.111267, 0.0],\n",
              " [299.160339, 361648.28125],\n",
              " [299.210266, 0.0],\n",
              " [299.215179, 0.0],\n",
              " [299.220093, 0.0],\n",
              " [299.225006, 0.0],\n",
              " [343.146606, 0.0],\n",
              " [343.152618, 0.0],\n",
              " [343.158661, 0.0],\n",
              " [343.18277, 2264.222168],\n",
              " [343.213165, 0.0],\n",
              " [343.219208, 0.0],\n",
              " [343.22522, 0.0],\n",
              " [399.158447, 0.0],\n",
              " [399.166016, 0.0],\n",
              " [399.173584, 0.0],\n",
              " [399.249237, 188158.359375],\n",
              " [399.332489, 0.0],\n",
              " [399.340057, 0.0],\n",
              " [399.347626, 0.0],\n",
              " [429.279968, 0.0],\n",
              " [429.288422, 0.0],\n",
              " [429.296844, 0.0]]"
            ]
          },
          "metadata": {},
          "execution_count": 19
        }
      ]
    },
    {
      "cell_type": "code",
      "source": [
        "!pip install pyteomics"
      ],
      "metadata": {
        "colab": {
          "base_uri": "https://localhost:8080/"
        },
        "id": "j5vFa5bvRGhG",
        "outputId": "a6a2c080-b008-4320-fd96-494adc907451"
      },
      "execution_count": null,
      "outputs": [
        {
          "output_type": "stream",
          "name": "stdout",
          "text": [
            "Collecting pyteomics\n",
            "  Downloading pyteomics-4.5.2-py2.py3-none-any.whl (226 kB)\n",
            "\u001b[K     |████████████████████████████████| 226 kB 5.3 MB/s \n",
            "\u001b[?25hInstalling collected packages: pyteomics\n",
            "Successfully installed pyteomics-4.5.2\n"
          ]
        }
      ]
    },
    {
      "cell_type": "code",
      "source": [
        "from pyteomics import mgf\n",
        "\n",
        "url_to_spectra = \"http://gnps.ucsd.edu/ProteoSAFe/DownloadResultFile?task=%s&block=main&file=spec/\" % taskid\n",
        "\n",
        "spectra = []\n",
        "with mgf.MGF(io.StringIO(requests.get(url_to_spectra).text)) as reader:\n",
        "    for spectrum in reader:\n",
        "        spectra.append(spectrum)\n"
      ],
      "metadata": {
        "id": "cvfN8T6kQ1a7"
      },
      "execution_count": null,
      "outputs": []
    },
    {
      "cell_type": "code",
      "source": [
        "len(spectra)"
      ],
      "metadata": {
        "colab": {
          "base_uri": "https://localhost:8080/"
        },
        "id": "5UuHAe1kSUwV",
        "outputId": "5fb2261e-8ba6-4be9-ba6d-87671f5abcb3"
      },
      "execution_count": null,
      "outputs": [
        {
          "output_type": "execute_result",
          "data": {
            "text/plain": [
              "1168"
            ]
          },
          "metadata": {},
          "execution_count": 22
        }
      ]
    },
    {
      "cell_type": "code",
      "source": [
        "spectra[0]"
      ],
      "metadata": {
        "colab": {
          "base_uri": "https://localhost:8080/"
        },
        "id": "OILFwECUSLs9",
        "outputId": "040bd7b6-bd0d-48d4-a0e8-63a2166f159d"
      },
      "execution_count": null,
      "outputs": [
        {
          "output_type": "execute_result",
          "data": {
            "text/plain": [
              "{'charge array': masked_array(data=[--, --, --, --, --, --, --, --, --, --, --, --, --, --,\n",
              "                    --, --, --, --, --, --, --, --, --, --, --, --, --, --,\n",
              "                    --, --, --, --, --, --, --, --, --, --, --, --, --, --,\n",
              "                    --, --, --, --, --, --, --, --, --, --, --, --, --, --,\n",
              "                    --, --, --, --, --, --, --, --, --, --, --, --, --, --,\n",
              "                    --, --, --, --, --, --],\n",
              "              mask=[ True,  True,  True,  True,  True,  True,  True,  True,\n",
              "                     True,  True,  True,  True,  True,  True,  True,  True,\n",
              "                     True,  True,  True,  True,  True,  True,  True,  True,\n",
              "                     True,  True,  True,  True,  True,  True,  True,  True,\n",
              "                     True,  True,  True,  True,  True,  True,  True,  True,\n",
              "                     True,  True,  True,  True,  True,  True,  True,  True,\n",
              "                     True,  True,  True,  True,  True,  True,  True,  True,\n",
              "                     True,  True,  True,  True,  True,  True,  True,  True,\n",
              "                     True,  True,  True,  True,  True,  True,  True,  True,\n",
              "                     True,  True,  True,  True],\n",
              "        fill_value=0,\n",
              "             dtype=int64),\n",
              " 'intensity array': array([1.7e+04, 1.6e+05, 1.7e+04, 1.7e+04, 5.1e+04, 3.2e+04, 2.8e+04,\n",
              "        7.1e+04, 3.8e+05, 3.5e+04, 3.1e+04, 4.2e+05, 5.2e+04, 1.3e+05,\n",
              "        1.0e+05, 3.5e+05, 2.9e+04, 3.5e+04, 1.6e+05, 8.2e+04, 2.6e+05,\n",
              "        1.8e+04, 1.2e+05, 2.5e+04, 5.3e+04, 1.0e+05, 1.9e+04, 1.8e+05,\n",
              "        8.0e+04, 6.2e+04, 6.5e+04, 1.8e+05, 7.9e+04, 5.5e+05, 3.3e+05,\n",
              "        5.0e+04, 1.8e+04, 2.8e+05, 1.3e+05, 1.6e+05, 1.0e+05, 1.3e+05,\n",
              "        3.6e+04, 1.9e+04, 2.0e+04, 5.7e+04, 1.4e+06, 1.5e+06, 1.3e+05,\n",
              "        1.4e+05, 2.9e+05, 2.6e+05, 3.6e+04, 1.6e+04, 2.9e+06, 4.6e+04,\n",
              "        3.7e+06, 1.5e+05, 2.2e+05, 1.1e+05, 1.3e+07, 1.3e+07, 2.2e+04,\n",
              "        1.9e+07, 2.5e+07, 3.7e+04, 2.7e+04, 2.0e+05, 2.0e+04, 3.1e+06,\n",
              "        4.9e+06, 5.3e+04, 6.3e+04, 4.8e+04, 5.2e+04, 8.4e+07]),\n",
              " 'm/z array': array([ 81.0702,  83.0494,  84.0525,  85.0106,  93.5459,  97.0106,\n",
              "         97.0649,  99.0799, 100.0215, 101.0251, 102.0372, 112.0214,\n",
              "        112.0284, 113.0247, 113.0417, 114.0369, 114.0446, 115.0409,\n",
              "        120.0443, 121.0476, 124.0758, 125.0422, 125.0792, 126.0371,\n",
              "        126.6572, 128.2998, 129.0567, 130.0321, 131.0357, 133.0713,\n",
              "        134.9143, 137.0057, 138.0085, 142.0321, 143.0353, 143.3737,\n",
              "        151.8349, 154.0683, 155.0721, 156.0477, 157.0513, 166.0688,\n",
              "        167.0714, 169.0877, 176.2237, 179.0359, 182.0632, 183.0665,\n",
              "        184.0779, 185.0826, 186.0587, 187.0613, 190.0143, 190.0189,\n",
              "        190.0318, 190.7934, 191.0351, 194.0637, 195.0663, 199.0652,\n",
              "        200.0737, 201.077 , 211.6933, 212.0738, 213.077 , 214.0849,\n",
              "        229.1   , 230.1034, 238.2819, 246.0615, 247.0645, 252.207 ,\n",
              "        275.8008, 306.5833, 341.1218, 366.1015]),\n",
              " 'params': {'charge': [1],\n",
              "  'compound_id': '69',\n",
              "  'compound_mass': '364.0913',\n",
              "  'corr_groupid': '6',\n",
              "  'feature_id': '1',\n",
              "  'ion': '[M+H]+',\n",
              "  'merged_stats': '2 / 22 (13 removed due to low quality, 7 removed due to low cosine).',\n",
              "  'mslevel': '2',\n",
              "  'pepmass': (365.0988, None),\n",
              "  'rtinseconds': 261.781 second,\n",
              "  'scans': '1'}}"
            ]
          },
          "metadata": {},
          "execution_count": 23
        }
      ]
    },
    {
      "cell_type": "code",
      "source": [
        "spectra[0]['params']['feature_id']"
      ],
      "metadata": {
        "colab": {
          "base_uri": "https://localhost:8080/",
          "height": 35
        },
        "id": "2d0Rdr2GU9qs",
        "outputId": "da2bf7e2-3311-4701-f698-8ff35a29b9dd"
      },
      "execution_count": null,
      "outputs": [
        {
          "output_type": "execute_result",
          "data": {
            "application/vnd.google.colaboratory.intrinsic+json": {
              "type": "string"
            },
            "text/plain": [
              "'1'"
            ]
          },
          "metadata": {},
          "execution_count": 24
        }
      ]
    },
    {
      "cell_type": "code",
      "source": [
        "[i for i in range(len(spectra)) if spectra[i]['params']['feature_id']=='114']"
      ],
      "metadata": {
        "colab": {
          "base_uri": "https://localhost:8080/"
        },
        "id": "JVdaol_9VpQM",
        "outputId": "be1b0449-ee0c-4dbc-af93-49d322183299"
      },
      "execution_count": null,
      "outputs": [
        {
          "output_type": "execute_result",
          "data": {
            "text/plain": [
              "[102]"
            ]
          },
          "metadata": {},
          "execution_count": 25
        }
      ]
    },
    {
      "cell_type": "code",
      "source": [
        "spectra[102]['params']['pepmass']"
      ],
      "metadata": {
        "colab": {
          "base_uri": "https://localhost:8080/"
        },
        "id": "0ChgFLMCXeOs",
        "outputId": "d089d007-8277-486e-aa3a-bb234bdf4cf6"
      },
      "execution_count": null,
      "outputs": [
        {
          "output_type": "execute_result",
          "data": {
            "text/plain": [
              "(399.2509, None)"
            ]
          },
          "metadata": {},
          "execution_count": 26
        }
      ]
    },
    {
      "cell_type": "code",
      "source": [
        "query = []\n",
        "for mz,it in zip(spectra[102]['m/z array'], spectra[102]['intensity array']):\n",
        "    query.append([mz,it])\n",
        "\n",
        "query"
      ],
      "metadata": {
        "colab": {
          "base_uri": "https://localhost:8080/"
        },
        "id": "sOOBMgpJVhJK",
        "outputId": "a30da9e2-0d2b-4e5e-d44b-0d8b55386be8"
      },
      "execution_count": null,
      "outputs": [
        {
          "output_type": "execute_result",
          "data": {
            "text/plain": [
              "[[82.8321, 2300.0],\n",
              " [83.0856, 1500000.0],\n",
              " [83.1275, 2900.0],\n",
              " [83.5029, 2900.0],\n",
              " [86.3674, 2500.0],\n",
              " [89.0597, 57000.0],\n",
              " [98.9841, 950000.0],\n",
              " [101.096, 2400000.0],\n",
              " [115.6515, 2700.0],\n",
              " [116.9161, 2900.0],\n",
              " [116.9949, 9200.0],\n",
              " [123.1172, 2800.0],\n",
              " [124.2697, 2300.0],\n",
              " [124.9997, 350000.0],\n",
              " [127.6143, 2700.0],\n",
              " [127.7051, 3700.0],\n",
              " [133.2193, 2600.0],\n",
              " [140.642, 2600.0],\n",
              " [141.9413, 7200.0],\n",
              " [142.1227, 81000.0],\n",
              " [142.9989, 6100.0],\n",
              " [143.0103, 980000.0],\n",
              " [145.1223, 14000.0],\n",
              " [149.8515, 2600.0],\n",
              " [151.0156, 3400.0],\n",
              " [158.6682, 2700.0],\n",
              " [169.0261, 18000.0],\n",
              " [173.8069, 3300.0],\n",
              " [187.0376, 3700.0],\n",
              " [194.8262, 2700.0],\n",
              " [199.0728, 6400000.0],\n",
              " [218.4779, 3000.0],\n",
              " [225.0886, 150000.0],\n",
              " [238.0317, 2700.0],\n",
              " [243.0992, 210000.0],\n",
              " [255.1361, 26000.0],\n",
              " [280.5117, 2600.0],\n",
              " [286.4756, 3500.0],\n",
              " [290.9438, 3000.0],\n",
              " [299.1617, 2800000.0],\n",
              " [310.5584, 2900.0],\n",
              " [312.9397, 3500.0],\n",
              " [330.9489, 10000.0],\n",
              " [336.7573, 3400.0],\n",
              " [343.1881, 18000.0],\n",
              " [358.1528, 11000.0],\n",
              " [360.3567, 2900.0],\n",
              " [373.1346, 3100.0],\n",
              " [381.3119, 6500.0],\n",
              " [399.2032, 3400.0],\n",
              " [399.2503, 480000.0],\n",
              " [399.3066, 4200.0],\n",
              " [399.3255, 3400.0],\n",
              " [402.8177, 3200.0],\n",
              " [410.6227, 3100.0],\n",
              " [415.6226, 3200.0]]"
            ]
          },
          "metadata": {},
          "execution_count": 27
        }
      ]
    },
    {
      "cell_type": "code",
      "source": [
        "!wget https://raw.githubusercontent.com/mwang87/GNPS_Workflows/master/metabolomics-snets/bin/scripts/spectrum_alignment.py"
      ],
      "metadata": {
        "id": "U41KXWbEOrQv",
        "colab": {
          "base_uri": "https://localhost:8080/"
        },
        "outputId": "dff010b7-2845-4ee5-8288-fb7e45900177"
      },
      "execution_count": null,
      "outputs": [
        {
          "output_type": "stream",
          "name": "stdout",
          "text": [
            "--2022-02-17 11:27:05--  https://raw.githubusercontent.com/mwang87/GNPS_Workflows/master/metabolomics-snets/bin/scripts/spectrum_alignment.py\n",
            "Resolving raw.githubusercontent.com (raw.githubusercontent.com)... 185.199.109.133, 185.199.111.133, 185.199.108.133, ...\n",
            "Connecting to raw.githubusercontent.com (raw.githubusercontent.com)|185.199.109.133|:443... connected.\n",
            "HTTP request sent, awaiting response... 200 OK\n",
            "Length: 4392 (4.3K) [text/plain]\n",
            "Saving to: ‘spectrum_alignment.py’\n",
            "\n",
            "\rspectrum_alignment.   0%[                    ]       0  --.-KB/s               \rspectrum_alignment. 100%[===================>]   4.29K  --.-KB/s    in 0s      \n",
            "\n",
            "2022-02-17 11:27:05 (58.3 MB/s) - ‘spectrum_alignment.py’ saved [4392/4392]\n",
            "\n"
          ]
        }
      ]
    },
    {
      "cell_type": "code",
      "source": [
        "from spectrum_alignment import *"
      ],
      "metadata": {
        "id": "v9aQcGELQxu6"
      },
      "execution_count": null,
      "outputs": []
    },
    {
      "cell_type": "code",
      "source": [
        "score_alignment(query, base_spec, 399.2509, 399.251, 0.02)"
      ],
      "metadata": {
        "colab": {
          "base_uri": "https://localhost:8080/"
        },
        "id": "Jto9Qp_EW0h3",
        "outputId": "95b4fb83-de61-4716-9f7f-da493d30e044"
      },
      "execution_count": null,
      "outputs": [
        {
          "output_type": "execute_result",
          "data": {
            "text/plain": [
              "(0.9316698847536256,\n",
              " [Alignment(peak1=30, peak2=93),\n",
              "  Alignment(peak1=39, peak2=128),\n",
              "  Alignment(peak1=7, peak2=35),\n",
              "  Alignment(peak1=1, peak2=7),\n",
              "  Alignment(peak1=50, peak2=143),\n",
              "  Alignment(peak1=6, peak2=21),\n",
              "  Alignment(peak1=21, peak2=72),\n",
              "  Alignment(peak1=13, peak2=51),\n",
              "  Alignment(peak1=34, peak2=114),\n",
              "  Alignment(peak1=32, peak2=107),\n",
              "  Alignment(peak1=44, peak2=136),\n",
              "  Alignment(peak1=20, peak2=69),\n",
              "  Alignment(peak1=52, peak2=144)])"
            ]
          },
          "metadata": {},
          "execution_count": 30
        }
      ]
    },
    {
      "cell_type": "code",
      "source": [
        "for b in base_spec:\n",
        "  plt.vlines(x = b[0], ymin = -b[1], ymax = 0,\n",
        "            colors = 'green',\n",
        "            label = 'Reference')\n",
        "  \n",
        "for q in query:\n",
        "  plt.vlines(x = q[0], ymin = 0, ymax = q[1],\n",
        "            colors = 'red',\n",
        "            label = 'Query')\n",
        "  \n",
        "plt.title('Non normalized mirror plot')\n",
        "plt.ylabel('Intensity')\n",
        "leg = plt.legend(labels=['Query', 'Reference'], loc = 'upper left')\n",
        "leg.legendHandles[0].set_color('red')\n",
        "leg.legendHandles[1].set_color('green') "
      ],
      "metadata": {
        "colab": {
          "base_uri": "https://localhost:8080/",
          "height": 281
        },
        "id": "VzoB6fLzkQdu",
        "outputId": "21421c40-8c88-4c24-a88f-9df7ffba19a2"
      },
      "execution_count": null,
      "outputs": [
        {
          "output_type": "display_data",
          "data": {
            "image/png": "[encoded data removed]",
            "text/plain": [
              "<Figure size 432x288 with 1 Axes>"
            ]
          },
          "metadata": {
            "needs_background": "light"
          }
        }
      ]
    },
    {
      "cell_type": "code",
      "source": [
        "np.array(base_spec)[:,1].max()"
      ],
      "metadata": {
        "colab": {
          "base_uri": "https://localhost:8080/"
        },
        "id": "mism-_7Cnt53",
        "outputId": "c10edb54-8221-435e-906f-89a74ad92538"
      },
      "execution_count": null,
      "outputs": [
        {
          "output_type": "execute_result",
          "data": {
            "text/plain": [
              "361648.28125"
            ]
          },
          "metadata": {},
          "execution_count": 70
        }
      ]
    },
    {
      "cell_type": "code",
      "source": [
        "# see reference https://gnps.ucsd.edu/ProteoSAFe/result.jsp?task=8ca7cad8b792439588aa5c38051ed6d5&view=view_all_annotations_DB#%7B%22main.%23Scan%23_lowerinput%22%3A%22114%22%2C%22main.%23Scan%23_upperinput%22%3A%22114%22%7D\n",
        "mx = np.array(base_spec)[:,1].max()\n",
        "for b in base_spec:\n",
        "  plt.vlines(x = b[0], ymin = -b[1]/mx, ymax = 0,\n",
        "            colors = 'green',\n",
        "            label = 'Reference')\n",
        "\n",
        "mx = np.array(query)[:,1].max()  \n",
        "for q in query:\n",
        "  plt.vlines(x = q[0], ymin = 0, ymax = q[1]/mx,\n",
        "            colors = 'red',\n",
        "            label = 'Query')\n",
        "  \n",
        "plt.title('Normalized mirror plot')\n",
        "plt.ylabel('Intensity')\n",
        "leg = plt.legend(labels=['Query', 'Reference'], loc = 'upper left')\n",
        "leg.legendHandles[0].set_color('red')\n",
        "leg.legendHandles[1].set_color('green') "
      ],
      "metadata": {
        "colab": {
          "base_uri": "https://localhost:8080/",
          "height": 281
        },
        "id": "QwR4vhrHnkHa",
        "outputId": "dc232440-612e-4075-865b-ff7fd48cb8ee"
      },
      "execution_count": null,
      "outputs": [
        {
          "output_type": "display_data",
          "data": {
            "image/png": "[encoded data removed]",
            "text/plain": [
              "<Figure size 432x288 with 1 Axes>"
            ]
          },
          "metadata": {
            "needs_background": "light"
          }
        }
      ]
    },
    {
      "cell_type": "code",
      "source": [
        "dbmatch.loc[4, ['SpectrumID', '#Scan#', 'MQScore']]"
      ],
      "metadata": {
        "colab": {
          "base_uri": "https://localhost:8080/"
        },
        "id": "Z4OvRMJEXtrd",
        "outputId": "3c158cb8-29a7-4923-8b2f-d2a0819418e0"
      },
      "execution_count": null,
      "outputs": [
        {
          "output_type": "execute_result",
          "data": {
            "text/plain": [
              "SpectrumID    CCMSLIB00003136497\n",
              "#Scan#                       114\n",
              "MQScore                 0.965109\n",
              "Name: 4, dtype: object"
            ]
          },
          "metadata": {},
          "execution_count": 31
        }
      ]
    },
    {
      "cell_type": "markdown",
      "source": [
        "## Entendendo como a rede espectral é construida e ilustrando uma \"família molecular\""
      ],
      "metadata": {
        "id": "EeaIr9JBqKpN"
      }
    },
    {
      "cell_type": "code",
      "source": [
        "import networkx as nx\n",
        "import numpy as np"
      ],
      "metadata": {
        "id": "0vNcmtk0f8eQ"
      },
      "execution_count": null,
      "outputs": []
    },
    {
      "cell_type": "code",
      "source": [
        "net.head()"
      ],
      "metadata": {
        "colab": {
          "base_uri": "https://localhost:8080/",
          "height": 197
        },
        "id": "Zqm7JVYMgAWY",
        "outputId": "a89e0e00-aacf-427f-d315-2972da940bae"
      },
      "execution_count": null,
      "outputs": [
        {
          "output_type": "execute_result",
          "data": {
            "text/html": [
              "\n",
              "  <div id=\"df-06ea3f0f-0e7f-4d21-94c5-190ff351e94b\">\n",
              "    <div class=\"colab-df-container\">\n",
              "      <div>\n",
              "<style scoped>\n",
              "    .dataframe tbody tr th:only-of-type {\n",
              "        vertical-align: middle;\n",
              "    }\n",
              "\n",
              "    .dataframe tbody tr th {\n",
              "        vertical-align: top;\n",
              "    }\n",
              "\n",
              "    .dataframe thead th {\n",
              "        text-align: right;\n",
              "    }\n",
              "</style>\n",
              "<table border=\"1\" class=\"dataframe\">\n",
              "  <thead>\n",
              "    <tr style=\"text-align: right;\">\n",
              "      <th></th>\n",
              "      <th>CLUSTERID1</th>\n",
              "      <th>CLUSTERID2</th>\n",
              "      <th>ComponentIndex</th>\n",
              "      <th>Cosine</th>\n",
              "      <th>DeltaMZ</th>\n",
              "    </tr>\n",
              "  </thead>\n",
              "  <tbody>\n",
              "    <tr>\n",
              "      <th>0</th>\n",
              "      <td>465</td>\n",
              "      <td>1125</td>\n",
              "      <td>1</td>\n",
              "      <td>0.9995</td>\n",
              "      <td>0.0</td>\n",
              "    </tr>\n",
              "    <tr>\n",
              "      <th>1</th>\n",
              "      <td>1125</td>\n",
              "      <td>1250</td>\n",
              "      <td>1</td>\n",
              "      <td>0.9959</td>\n",
              "      <td>0.0</td>\n",
              "    </tr>\n",
              "    <tr>\n",
              "      <th>2</th>\n",
              "      <td>197</td>\n",
              "      <td>1125</td>\n",
              "      <td>1</td>\n",
              "      <td>0.9956</td>\n",
              "      <td>0.0</td>\n",
              "    </tr>\n",
              "    <tr>\n",
              "      <th>3</th>\n",
              "      <td>1125</td>\n",
              "      <td>1302</td>\n",
              "      <td>1</td>\n",
              "      <td>0.9955</td>\n",
              "      <td>-0.0</td>\n",
              "    </tr>\n",
              "    <tr>\n",
              "      <th>4</th>\n",
              "      <td>465</td>\n",
              "      <td>1447</td>\n",
              "      <td>1</td>\n",
              "      <td>0.9983</td>\n",
              "      <td>0.0</td>\n",
              "    </tr>\n",
              "  </tbody>\n",
              "</table>\n",
              "</div>\n",
              "      <button class=\"colab-df-convert\" onclick=\"convertToInteractive('df-06ea3f0f-0e7f-4d21-94c5-190ff351e94b')\"\n",
              "              title=\"Convert this dataframe to an interactive table.\"\n",
              "              style=\"display:none;\">\n",
              "        \n",
              "  <svg xmlns=\"http://www.w3.org/2000/svg\" height=\"24px\"viewBox=\"0 0 24 24\"\n",
              "       width=\"24px\">\n",
              "    <path d=\"M0 0h24v24H0V0z\" fill=\"none\"/>\n",
              "    <path d=\"M18.56 5.44l.94 2.06.94-2.06 2.06-.94-2.06-.94-.94-2.06-.94 2.06-2.06.94zm-11 1L8.5 8.5l.94-2.06 2.06-.94-2.06-.94L8.5 2.5l-.94 2.06-2.06.94zm10 10l.94 2.06.94-2.06 2.06-.94-2.06-.94-.94-2.06-.94 2.06-2.06.94z\"/><path d=\"M17.41 7.96l-1.37-1.37c-.4-.4-.92-.59-1.43-.59-.52 0-1.04.2-1.43.59L10.3 9.45l-7.72 7.72c-.78.78-.78 2.05 0 2.83L4 21.41c.39.39.9.59 1.41.59.51 0 1.02-.2 1.41-.59l7.78-7.78 2.81-2.81c.8-.78.8-2.07 0-2.86zM5.41 20L4 18.59l7.72-7.72 1.47 1.35L5.41 20z\"/>\n",
              "  </svg>\n",
              "      </button>\n",
              "      \n",
              "  <style>\n",
              "    .colab-df-container {\n",
              "      display:flex;\n",
              "      flex-wrap:wrap;\n",
              "      gap: 12px;\n",
              "    }\n",
              "\n",
              "    .colab-df-convert {\n",
              "      background-color: #E8F0FE;\n",
              "      border: none;\n",
              "      border-radius: 50%;\n",
              "      cursor: pointer;\n",
              "      display: none;\n",
              "      fill: #1967D2;\n",
              "      height: 32px;\n",
              "      padding: 0 0 0 0;\n",
              "      width: 32px;\n",
              "    }\n",
              "\n",
              "    .colab-df-convert:hover {\n",
              "      background-color: #E2EBFA;\n",
              "      box-shadow: 0px 1px 2px rgba(60, 64, 67, 0.3), 0px 1px 3px 1px rgba(60, 64, 67, 0.15);\n",
              "      fill: #174EA6;\n",
              "    }\n",
              "\n",
              "    [theme=dark] .colab-df-convert {\n",
              "      background-color: #3B4455;\n",
              "      fill: #D2E3FC;\n",
              "    }\n",
              "\n",
              "    [theme=dark] .colab-df-convert:hover {\n",
              "      background-color: #434B5C;\n",
              "      box-shadow: 0px 1px 3px 1px rgba(0, 0, 0, 0.15);\n",
              "      filter: drop-shadow(0px 1px 2px rgba(0, 0, 0, 0.3));\n",
              "      fill: #FFFFFF;\n",
              "    }\n",
              "  </style>\n",
              "\n",
              "      <script>\n",
              "        const buttonEl =\n",
              "          document.querySelector('#df-06ea3f0f-0e7f-4d21-94c5-190ff351e94b button.colab-df-convert');\n",
              "        buttonEl.style.display =\n",
              "          google.colab.kernel.accessAllowed ? 'block' : 'none';\n",
              "\n",
              "        async function convertToInteractive(key) {\n",
              "          const element = document.querySelector('#df-06ea3f0f-0e7f-4d21-94c5-190ff351e94b');\n",
              "          const dataTable =\n",
              "            await google.colab.kernel.invokeFunction('convertToInteractive',\n",
              "                                                     [key], {});\n",
              "          if (!dataTable) return;\n",
              "\n",
              "          const docLinkHtml = 'Like what you see? Visit the ' +\n",
              "            '<a target=\"_blank\" href=https://colab.research.google.com/notebooks/data_table.ipynb>data table notebook</a>'\n",
              "            + ' to learn more about interactive tables.';\n",
              "          element.innerHTML = '';\n",
              "          dataTable['output_type'] = 'display_data';\n",
              "          await google.colab.output.renderOutput(dataTable, element);\n",
              "          const docLink = document.createElement('div');\n",
              "          docLink.innerHTML = docLinkHtml;\n",
              "          element.appendChild(docLink);\n",
              "        }\n",
              "      </script>\n",
              "    </div>\n",
              "  </div>\n",
              "  "
            ],
            "text/plain": [
              "   CLUSTERID1  CLUSTERID2  ComponentIndex  Cosine  DeltaMZ\n",
              "0         465        1125               1  0.9995      0.0\n",
              "1        1125        1250               1  0.9959      0.0\n",
              "2         197        1125               1  0.9956      0.0\n",
              "3        1125        1302               1  0.9955     -0.0\n",
              "4         465        1447               1  0.9983      0.0"
            ]
          },
          "metadata": {},
          "execution_count": 33
        }
      ]
    },
    {
      "cell_type": "code",
      "source": [
        "index_spectra = np.array([x['params']['feature_id'] for x in spectra])\n",
        "index_spectra[:5]"
      ],
      "metadata": {
        "colab": {
          "base_uri": "https://localhost:8080/"
        },
        "id": "1sD0TDzngH5P",
        "outputId": "01e39185-b868-485c-b251-78bf75806255"
      },
      "execution_count": null,
      "outputs": [
        {
          "output_type": "execute_result",
          "data": {
            "text/plain": [
              "array(['1', '2', '3', '4', '5'], dtype='<U4')"
            ]
          },
          "metadata": {},
          "execution_count": 37
        }
      ]
    },
    {
      "cell_type": "code",
      "source": [
        "np.where(index_spectra=='465')"
      ],
      "metadata": {
        "colab": {
          "base_uri": "https://localhost:8080/"
        },
        "id": "r2AMhNoFgogl",
        "outputId": "0190148d-4819-4f93-f596-f4969a410dc4"
      },
      "execution_count": null,
      "outputs": [
        {
          "output_type": "execute_result",
          "data": {
            "text/plain": [
              "(array([399]),)"
            ]
          },
          "metadata": {},
          "execution_count": 38
        }
      ]
    },
    {
      "cell_type": "code",
      "source": [
        "spectra[399]['params']['pepmass']"
      ],
      "metadata": {
        "colab": {
          "base_uri": "https://localhost:8080/"
        },
        "id": "HJcKNGkihcGK",
        "outputId": "961f0d38-1249-44f2-b3e4-2df091e4fefe"
      },
      "execution_count": null,
      "outputs": [
        {
          "output_type": "execute_result",
          "data": {
            "text/plain": [
              "(167.0128, None)"
            ]
          },
          "metadata": {},
          "execution_count": 43
        }
      ]
    },
    {
      "cell_type": "code",
      "source": [
        "spec1 = []\n",
        "for mz,it in zip(spectra[399]['m/z array'], spectra[399]['intensity array']):\n",
        "    spec1.append([mz,it])"
      ],
      "metadata": {
        "id": "2RPN_gnGg2wH"
      },
      "execution_count": null,
      "outputs": []
    },
    {
      "cell_type": "code",
      "source": [
        "np.where(index_spectra=='1125')"
      ],
      "metadata": {
        "colab": {
          "base_uri": "https://localhost:8080/"
        },
        "id": "HrYRJmVEg-5U",
        "outputId": "4c53a625-93c3-457d-9d1b-7b9749cd3004"
      },
      "execution_count": null,
      "outputs": [
        {
          "output_type": "execute_result",
          "data": {
            "text/plain": [
              "(array([938]),)"
            ]
          },
          "metadata": {},
          "execution_count": 40
        }
      ]
    },
    {
      "cell_type": "code",
      "source": [
        "spectra[938]['params']['pepmass']"
      ],
      "metadata": {
        "colab": {
          "base_uri": "https://localhost:8080/"
        },
        "id": "Y-oTQ-ZphTHj",
        "outputId": "3ccf38b6-0e95-41c4-af32-00a3ddb9eed3"
      },
      "execution_count": null,
      "outputs": [
        {
          "output_type": "execute_result",
          "data": {
            "text/plain": [
              "(167.0127, None)"
            ]
          },
          "metadata": {},
          "execution_count": 42
        }
      ]
    },
    {
      "cell_type": "code",
      "source": [
        "spec2 = []\n",
        "for mz,it in zip(spectra[938]['m/z array'], spectra[938]['intensity array']):\n",
        "    spec2.append([mz,it])"
      ],
      "metadata": {
        "id": "r2n5t5JyhCQh"
      },
      "execution_count": null,
      "outputs": []
    },
    {
      "cell_type": "code",
      "source": [
        "score_alignment(spec1, spec2, 167.0128, 167.0127, 0.02)"
      ],
      "metadata": {
        "colab": {
          "base_uri": "https://localhost:8080/"
        },
        "id": "70otariJhLGR",
        "outputId": "bcf45ba9-7f82-4e3b-9054-b509327ef717"
      },
      "execution_count": null,
      "outputs": [
        {
          "output_type": "execute_result",
          "data": {
            "text/plain": [
              "(0.9972260839379654,\n",
              " [Alignment(peak1=0, peak2=1),\n",
              "  Alignment(peak1=1, peak2=3),\n",
              "  Alignment(peak1=15, peak2=18),\n",
              "  Alignment(peak1=5, peak2=8),\n",
              "  Alignment(peak1=9, peak2=13),\n",
              "  Alignment(peak1=20, peak2=25),\n",
              "  Alignment(peak1=19, peak2=24),\n",
              "  Alignment(peak1=3, peak2=5),\n",
              "  Alignment(peak1=13, peak2=15),\n",
              "  Alignment(peak1=14, peak2=17),\n",
              "  Alignment(peak1=4, peak2=7),\n",
              "  Alignment(peak1=22, peak2=27),\n",
              "  Alignment(peak1=8, peak2=12),\n",
              "  Alignment(peak1=24, peak2=32),\n",
              "  Alignment(peak1=21, peak2=26),\n",
              "  Alignment(peak1=17, peak2=20),\n",
              "  Alignment(peak1=16, peak2=19),\n",
              "  Alignment(peak1=12, peak2=14),\n",
              "  Alignment(peak1=2, peak2=4),\n",
              "  Alignment(peak1=18, peak2=21),\n",
              "  Alignment(peak1=6, peak2=9),\n",
              "  Alignment(peak1=23, peak2=30),\n",
              "  Alignment(peak1=7, peak2=10)])"
            ]
          },
          "metadata": {},
          "execution_count": 44
        }
      ]
    },
    {
      "cell_type": "code",
      "source": [
        "# Criar um grafo apenas dos nós selecionados\n",
        "net.rename(columns={'CLUSTERID1':'source', 'CLUSTERID2':'target'}, inplace=True)\n",
        "G = nx.from_pandas_edgelist(net[['source', 'target']])\n",
        "G"
      ],
      "metadata": {
        "colab": {
          "base_uri": "https://localhost:8080/"
        },
        "id": "dOdLld-Of0tL",
        "outputId": "03516ac5-e69e-4408-dfed-b4cec09aede0"
      },
      "execution_count": null,
      "outputs": [
        {
          "output_type": "execute_result",
          "data": {
            "text/plain": [
              "<networkx.classes.graph.Graph at 0x7f80c06d6bd0>"
            ]
          },
          "metadata": {},
          "execution_count": 45
        }
      ]
    },
    {
      "cell_type": "code",
      "source": [
        "net.ComponentIndex.value_counts()"
      ],
      "metadata": {
        "colab": {
          "base_uri": "https://localhost:8080/"
        },
        "id": "R80FeG47hu1w",
        "outputId": "0ba0d58b-a35d-45c7-9835-38ad2064ad0d"
      },
      "execution_count": null,
      "outputs": [
        {
          "output_type": "execute_result",
          "data": {
            "text/plain": [
              "10     271\n",
              "8      189\n",
              "3      139\n",
              "54      91\n",
              "20      89\n",
              "      ... \n",
              "120      1\n",
              "56       1\n",
              "45       1\n",
              "91       1\n",
              "184      1\n",
              "Name: ComponentIndex, Length: 138, dtype: int64"
            ]
          },
          "metadata": {},
          "execution_count": 46
        }
      ]
    },
    {
      "cell_type": "code",
      "source": [
        "# Número de nós em cada 'família molecular' ou sub-rede selecionada\n",
        "conn = sorted(nx.connected_components(G), key = len, reverse=True)\n",
        "[len(x) for x in conn]"
      ],
      "metadata": {
        "colab": {
          "base_uri": "https://localhost:8080/"
        },
        "id": "9z11VmJCfuuu",
        "outputId": "7ba58a83-cea4-4985-9576-3586c46887ac"
      },
      "execution_count": null,
      "outputs": [
        {
          "output_type": "execute_result",
          "data": {
            "text/plain": [
              "[92,\n",
              " 90,\n",
              " 48,\n",
              " 28,\n",
              " 26,\n",
              " 16,\n",
              " 14,\n",
              " 14,\n",
              " 13,\n",
              " 13,\n",
              " 12,\n",
              " 12,\n",
              " 11,\n",
              " 11,\n",
              " 11,\n",
              " 11,\n",
              " 11,\n",
              " 10,\n",
              " 10,\n",
              " 10,\n",
              " 10,\n",
              " 10,\n",
              " 9,\n",
              " 8,\n",
              " 8,\n",
              " 8,\n",
              " 7,\n",
              " 7,\n",
              " 6,\n",
              " 6,\n",
              " 6,\n",
              " 6,\n",
              " 6,\n",
              " 6,\n",
              " 6,\n",
              " 6,\n",
              " 6,\n",
              " 5,\n",
              " 5,\n",
              " 5,\n",
              " 5,\n",
              " 5,\n",
              " 5,\n",
              " 5,\n",
              " 4,\n",
              " 4,\n",
              " 4,\n",
              " 4,\n",
              " 4,\n",
              " 4,\n",
              " 4,\n",
              " 4,\n",
              " 4,\n",
              " 4,\n",
              " 4,\n",
              " 4,\n",
              " 3,\n",
              " 3,\n",
              " 3,\n",
              " 3,\n",
              " 3,\n",
              " 3,\n",
              " 3,\n",
              " 3,\n",
              " 3,\n",
              " 3,\n",
              " 3,\n",
              " 3,\n",
              " 3,\n",
              " 3,\n",
              " 3,\n",
              " 3,\n",
              " 3,\n",
              " 3,\n",
              " 3,\n",
              " 3,\n",
              " 3,\n",
              " 3,\n",
              " 3,\n",
              " 3,\n",
              " 3,\n",
              " 3,\n",
              " 3,\n",
              " 3,\n",
              " 3,\n",
              " 3,\n",
              " 2,\n",
              " 2,\n",
              " 2,\n",
              " 2,\n",
              " 2,\n",
              " 2,\n",
              " 2,\n",
              " 2,\n",
              " 2,\n",
              " 2,\n",
              " 2,\n",
              " 2,\n",
              " 2,\n",
              " 2,\n",
              " 2,\n",
              " 2,\n",
              " 2,\n",
              " 2,\n",
              " 2,\n",
              " 2,\n",
              " 2,\n",
              " 2,\n",
              " 2,\n",
              " 2,\n",
              " 2,\n",
              " 2,\n",
              " 2,\n",
              " 2,\n",
              " 2,\n",
              " 2,\n",
              " 2,\n",
              " 2,\n",
              " 2,\n",
              " 2,\n",
              " 2,\n",
              " 2,\n",
              " 2,\n",
              " 2,\n",
              " 2,\n",
              " 2,\n",
              " 2,\n",
              " 2,\n",
              " 2,\n",
              " 2,\n",
              " 2,\n",
              " 2,\n",
              " 2,\n",
              " 2,\n",
              " 2,\n",
              " 2,\n",
              " 2,\n",
              " 2]"
            ]
          },
          "metadata": {},
          "execution_count": 47
        }
      ]
    },
    {
      "cell_type": "code",
      "source": [
        "# Seleciona uma família específica\n",
        "g_c6 = G.subgraph(conn[5])"
      ],
      "metadata": {
        "id": "rWXOivW9fnxR"
      },
      "execution_count": null,
      "outputs": []
    },
    {
      "cell_type": "code",
      "source": [
        "# Oter as massas e tempos de retenção para os nós selecionados\n",
        "gnps_c6 = gnps.loc[gnps['cluster index'].isin(conn[5]), ['cluster index', 'RTMean', 'parent mass', 'precursor mass']]\n",
        "gnps_c6"
      ],
      "metadata": {
        "colab": {
          "base_uri": "https://localhost:8080/",
          "height": 527
        },
        "id": "089wUCylfhLV",
        "outputId": "2dd8765a-02cb-4a82-fb93-3cf51e77f58d"
      },
      "execution_count": null,
      "outputs": [
        {
          "output_type": "execute_result",
          "data": {
            "text/html": [
              "\n",
              "  <div id=\"df-55f888f4-e71d-444e-97fd-2ce21c18636b\">\n",
              "    <div class=\"colab-df-container\">\n",
              "      <div>\n",
              "<style scoped>\n",
              "    .dataframe tbody tr th:only-of-type {\n",
              "        vertical-align: middle;\n",
              "    }\n",
              "\n",
              "    .dataframe tbody tr th {\n",
              "        vertical-align: top;\n",
              "    }\n",
              "\n",
              "    .dataframe thead th {\n",
              "        text-align: right;\n",
              "    }\n",
              "</style>\n",
              "<table border=\"1\" class=\"dataframe\">\n",
              "  <thead>\n",
              "    <tr style=\"text-align: right;\">\n",
              "      <th></th>\n",
              "      <th>cluster index</th>\n",
              "      <th>RTMean</th>\n",
              "      <th>parent mass</th>\n",
              "      <th>precursor mass</th>\n",
              "    </tr>\n",
              "  </thead>\n",
              "  <tbody>\n",
              "    <tr>\n",
              "      <th>11</th>\n",
              "      <td>12</td>\n",
              "      <td>1.8089</td>\n",
              "      <td>618.1466</td>\n",
              "      <td>618.1466</td>\n",
              "    </tr>\n",
              "    <tr>\n",
              "      <th>579</th>\n",
              "      <td>580</td>\n",
              "      <td>0.4970</td>\n",
              "      <td>618.1466</td>\n",
              "      <td>618.1466</td>\n",
              "    </tr>\n",
              "    <tr>\n",
              "      <th>685</th>\n",
              "      <td>686</td>\n",
              "      <td>8.4441</td>\n",
              "      <td>618.1465</td>\n",
              "      <td>618.1465</td>\n",
              "    </tr>\n",
              "    <tr>\n",
              "      <th>700</th>\n",
              "      <td>701</td>\n",
              "      <td>1.3313</td>\n",
              "      <td>618.1469</td>\n",
              "      <td>618.1469</td>\n",
              "    </tr>\n",
              "    <tr>\n",
              "      <th>708</th>\n",
              "      <td>709</td>\n",
              "      <td>1.1015</td>\n",
              "      <td>618.1468</td>\n",
              "      <td>618.1468</td>\n",
              "    </tr>\n",
              "    <tr>\n",
              "      <th>1008</th>\n",
              "      <td>1009</td>\n",
              "      <td>3.7078</td>\n",
              "      <td>618.1462</td>\n",
              "      <td>618.1462</td>\n",
              "    </tr>\n",
              "    <tr>\n",
              "      <th>1015</th>\n",
              "      <td>1016</td>\n",
              "      <td>4.1252</td>\n",
              "      <td>618.1462</td>\n",
              "      <td>618.1462</td>\n",
              "    </tr>\n",
              "    <tr>\n",
              "      <th>1023</th>\n",
              "      <td>1024</td>\n",
              "      <td>3.9084</td>\n",
              "      <td>618.1471</td>\n",
              "      <td>618.1471</td>\n",
              "    </tr>\n",
              "    <tr>\n",
              "      <th>1035</th>\n",
              "      <td>1036</td>\n",
              "      <td>4.3582</td>\n",
              "      <td>618.1463</td>\n",
              "      <td>618.1463</td>\n",
              "    </tr>\n",
              "    <tr>\n",
              "      <th>1045</th>\n",
              "      <td>1046</td>\n",
              "      <td>8.1684</td>\n",
              "      <td>618.1465</td>\n",
              "      <td>618.1465</td>\n",
              "    </tr>\n",
              "    <tr>\n",
              "      <th>1084</th>\n",
              "      <td>1085</td>\n",
              "      <td>5.0862</td>\n",
              "      <td>618.1467</td>\n",
              "      <td>618.1467</td>\n",
              "    </tr>\n",
              "    <tr>\n",
              "      <th>1122</th>\n",
              "      <td>1123</td>\n",
              "      <td>5.0950</td>\n",
              "      <td>618.1466</td>\n",
              "      <td>618.1466</td>\n",
              "    </tr>\n",
              "    <tr>\n",
              "      <th>1151</th>\n",
              "      <td>1152</td>\n",
              "      <td>0.5582</td>\n",
              "      <td>618.1461</td>\n",
              "      <td>618.1461</td>\n",
              "    </tr>\n",
              "    <tr>\n",
              "      <th>1381</th>\n",
              "      <td>1382</td>\n",
              "      <td>8.1238</td>\n",
              "      <td>618.1468</td>\n",
              "      <td>618.1468</td>\n",
              "    </tr>\n",
              "    <tr>\n",
              "      <th>1421</th>\n",
              "      <td>1422</td>\n",
              "      <td>4.9662</td>\n",
              "      <td>618.1472</td>\n",
              "      <td>618.1472</td>\n",
              "    </tr>\n",
              "    <tr>\n",
              "      <th>1453</th>\n",
              "      <td>1454</td>\n",
              "      <td>5.2723</td>\n",
              "      <td>618.1468</td>\n",
              "      <td>618.1468</td>\n",
              "    </tr>\n",
              "  </tbody>\n",
              "</table>\n",
              "</div>\n",
              "      <button class=\"colab-df-convert\" onclick=\"convertToInteractive('df-55f888f4-e71d-444e-97fd-2ce21c18636b')\"\n",
              "              title=\"Convert this dataframe to an interactive table.\"\n",
              "              style=\"display:none;\">\n",
              "        \n",
              "  <svg xmlns=\"http://www.w3.org/2000/svg\" height=\"24px\"viewBox=\"0 0 24 24\"\n",
              "       width=\"24px\">\n",
              "    <path d=\"M0 0h24v24H0V0z\" fill=\"none\"/>\n",
              "    <path d=\"M18.56 5.44l.94 2.06.94-2.06 2.06-.94-2.06-.94-.94-2.06-.94 2.06-2.06.94zm-11 1L8.5 8.5l.94-2.06 2.06-.94-2.06-.94L8.5 2.5l-.94 2.06-2.06.94zm10 10l.94 2.06.94-2.06 2.06-.94-2.06-.94-.94-2.06-.94 2.06-2.06.94z\"/><path d=\"M17.41 7.96l-1.37-1.37c-.4-.4-.92-.59-1.43-.59-.52 0-1.04.2-1.43.59L10.3 9.45l-7.72 7.72c-.78.78-.78 2.05 0 2.83L4 21.41c.39.39.9.59 1.41.59.51 0 1.02-.2 1.41-.59l7.78-7.78 2.81-2.81c.8-.78.8-2.07 0-2.86zM5.41 20L4 18.59l7.72-7.72 1.47 1.35L5.41 20z\"/>\n",
              "  </svg>\n",
              "      </button>\n",
              "      \n",
              "  <style>\n",
              "    .colab-df-container {\n",
              "      display:flex;\n",
              "      flex-wrap:wrap;\n",
              "      gap: 12px;\n",
              "    }\n",
              "\n",
              "    .colab-df-convert {\n",
              "      background-color: #E8F0FE;\n",
              "      border: none;\n",
              "      border-radius: 50%;\n",
              "      cursor: pointer;\n",
              "      display: none;\n",
              "      fill: #1967D2;\n",
              "      height: 32px;\n",
              "      padding: 0 0 0 0;\n",
              "      width: 32px;\n",
              "    }\n",
              "\n",
              "    .colab-df-convert:hover {\n",
              "      background-color: #E2EBFA;\n",
              "      box-shadow: 0px 1px 2px rgba(60, 64, 67, 0.3), 0px 1px 3px 1px rgba(60, 64, 67, 0.15);\n",
              "      fill: #174EA6;\n",
              "    }\n",
              "\n",
              "    [theme=dark] .colab-df-convert {\n",
              "      background-color: #3B4455;\n",
              "      fill: #D2E3FC;\n",
              "    }\n",
              "\n",
              "    [theme=dark] .colab-df-convert:hover {\n",
              "      background-color: #434B5C;\n",
              "      box-shadow: 0px 1px 3px 1px rgba(0, 0, 0, 0.15);\n",
              "      filter: drop-shadow(0px 1px 2px rgba(0, 0, 0, 0.3));\n",
              "      fill: #FFFFFF;\n",
              "    }\n",
              "  </style>\n",
              "\n",
              "      <script>\n",
              "        const buttonEl =\n",
              "          document.querySelector('#df-55f888f4-e71d-444e-97fd-2ce21c18636b button.colab-df-convert');\n",
              "        buttonEl.style.display =\n",
              "          google.colab.kernel.accessAllowed ? 'block' : 'none';\n",
              "\n",
              "        async function convertToInteractive(key) {\n",
              "          const element = document.querySelector('#df-55f888f4-e71d-444e-97fd-2ce21c18636b');\n",
              "          const dataTable =\n",
              "            await google.colab.kernel.invokeFunction('convertToInteractive',\n",
              "                                                     [key], {});\n",
              "          if (!dataTable) return;\n",
              "\n",
              "          const docLinkHtml = 'Like what you see? Visit the ' +\n",
              "            '<a target=\"_blank\" href=https://colab.research.google.com/notebooks/data_table.ipynb>data table notebook</a>'\n",
              "            + ' to learn more about interactive tables.';\n",
              "          element.innerHTML = '';\n",
              "          dataTable['output_type'] = 'display_data';\n",
              "          await google.colab.output.renderOutput(dataTable, element);\n",
              "          const docLink = document.createElement('div');\n",
              "          docLink.innerHTML = docLinkHtml;\n",
              "          element.appendChild(docLink);\n",
              "        }\n",
              "      </script>\n",
              "    </div>\n",
              "  </div>\n",
              "  "
            ],
            "text/plain": [
              "      cluster index  RTMean  parent mass  precursor mass\n",
              "11               12  1.8089     618.1466        618.1466\n",
              "579             580  0.4970     618.1466        618.1466\n",
              "685             686  8.4441     618.1465        618.1465\n",
              "700             701  1.3313     618.1469        618.1469\n",
              "708             709  1.1015     618.1468        618.1468\n",
              "1008           1009  3.7078     618.1462        618.1462\n",
              "1015           1016  4.1252     618.1462        618.1462\n",
              "1023           1024  3.9084     618.1471        618.1471\n",
              "1035           1036  4.3582     618.1463        618.1463\n",
              "1045           1046  8.1684     618.1465        618.1465\n",
              "1084           1085  5.0862     618.1467        618.1467\n",
              "1122           1123  5.0950     618.1466        618.1466\n",
              "1151           1152  0.5582     618.1461        618.1461\n",
              "1381           1382  8.1238     618.1468        618.1468\n",
              "1421           1422  4.9662     618.1472        618.1472\n",
              "1453           1454  5.2723     618.1468        618.1468"
            ]
          },
          "metadata": {},
          "execution_count": 50
        }
      ]
    },
    {
      "cell_type": "code",
      "source": [
        "# Criar um dicionário mapeando o 'cluster index' --> 'parent mass', 'RTMean'\n",
        "mapping = {}\n",
        "\n",
        "for i  in gnps_c6.index:\n",
        "    tmp = gnps_c6.loc[i, ['parent mass', 'RTMean']]\n",
        "    mapping[gnps_c6.loc[i, 'cluster index']] = '\\n'.join(map(str, round(tmp, 2)))\n",
        "\n",
        "mapping"
      ],
      "metadata": {
        "colab": {
          "base_uri": "https://localhost:8080/"
        },
        "id": "sBUWghibfb21",
        "outputId": "c2e29254-b1ab-4685-a3e0-0a76f589620c"
      },
      "execution_count": null,
      "outputs": [
        {
          "output_type": "execute_result",
          "data": {
            "text/plain": [
              "{12: '618.15\\n1.81',\n",
              " 580: '618.15\\n0.5',\n",
              " 686: '618.15\\n8.44',\n",
              " 701: '618.15\\n1.33',\n",
              " 709: '618.15\\n1.1',\n",
              " 1009: '618.15\\n3.71',\n",
              " 1016: '618.15\\n4.13',\n",
              " 1024: '618.15\\n3.91',\n",
              " 1036: '618.15\\n4.36',\n",
              " 1046: '618.15\\n8.17',\n",
              " 1085: '618.15\\n5.09',\n",
              " 1123: '618.15\\n5.1',\n",
              " 1152: '618.15\\n0.56',\n",
              " 1382: '618.15\\n8.12',\n",
              " 1422: '618.15\\n4.97',\n",
              " 1454: '618.15\\n5.27'}"
            ]
          },
          "metadata": {},
          "execution_count": 51
        }
      ]
    },
    {
      "cell_type": "code",
      "source": [
        "# gráfico com massa e tempo de retenção\n",
        "g_c6 = nx.relabel_nodes(g_c6, mapping)\n",
        "pos = nx.spring_layout(g_c6)\n",
        "nx.draw(g_c6, pos, font_size=16)\n",
        "\n",
        "for p in pos:  # raise text positions\n",
        "    pos[p][1] += 0.07\n",
        "nx.draw_networkx_labels(g_c6, pos)"
      ],
      "metadata": {
        "colab": {
          "base_uri": "https://localhost:8080/",
          "height": 603
        },
        "id": "dDQCrD0uX_P1",
        "outputId": "ce379373-0e46-40fe-a044-e5fab8da26f4"
      },
      "execution_count": null,
      "outputs": [
        {
          "output_type": "execute_result",
          "data": {
            "text/plain": [
              "{'618.15\\n0.5': Text(0.2586330048327019, -0.10602206062198916, '618.15\\n0.5'),\n",
              " '618.15\\n0.56': Text(0.16738209384836006, -0.04293363814391382, '618.15\\n0.56'),\n",
              " '618.15\\n1.1': Text(0.7430809440349658, 0.015656548978268903, '618.15\\n1.1'),\n",
              " '618.15\\n1.33': Text(0.030134823659709584, -0.015332352730391074, '618.15\\n1.33'),\n",
              " '618.15\\n1.81': Text(0.17902398954328563, -0.1559734617898303, '618.15\\n1.81'),\n",
              " '618.15\\n3.71': Text(0.318357280760568, -0.23083023927751917, '618.15\\n3.71'),\n",
              " '618.15\\n3.91': Text(0.2695968695107016, -0.021247486640223315, '618.15\\n3.91'),\n",
              " '618.15\\n4.13': Text(0.2315763204778017, 0.05600451060683795, '618.15\\n4.13'),\n",
              " '618.15\\n4.36': Text(0.058074059747901925, 0.05831825229829235, '618.15\\n4.36'),\n",
              " '618.15\\n4.97': Text(-0.24461701010457437, 0.19581417041750945, '618.15\\n4.97'),\n",
              " '618.15\\n5.09': Text(-0.6861650384758726, 0.38028906148281844, '618.15\\n5.09'),\n",
              " '618.15\\n5.1': Text(-1.0, 0.35867938464792987, '618.15\\n5.1'),\n",
              " '618.15\\n5.27': Text(-0.8987854484229185, 0.6135691825571641, '618.15\\n5.27'),\n",
              " '618.15\\n8.12': Text(0.1081363834368395, -0.12093077383580278, '618.15\\n8.12'),\n",
              " '618.15\\n8.17': Text(0.11177164207050869, 0.11515614505113858, '618.15\\n8.17'),\n",
              " '618.15\\n8.44': Text(0.3538000850800215, 0.01978275699970989, '618.15\\n8.44')}"
            ]
          },
          "metadata": {},
          "execution_count": 52
        },
        {
          "output_type": "display_data",
          "data": {
            "image/png": "[encoded data removed]",
            "text/plain": [
              "<Figure size 432x288 with 1 Axes>"
            ]
          },
          "metadata": {}
        }
      ]
    },
    {
      "cell_type": "code",
      "source": [
        ""
      ],
      "metadata": {
        "id": "d2rREzrbifqO"
      },
      "execution_count": null,
      "outputs": []
    }
  ]
}