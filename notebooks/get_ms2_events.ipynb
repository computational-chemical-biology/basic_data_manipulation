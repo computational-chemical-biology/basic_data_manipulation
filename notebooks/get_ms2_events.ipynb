{
  "cells": [
    {
      "cell_type": "code",
      "execution_count": 1,
      "metadata": {
        "colab": {
          "base_uri": "https://localhost:8080/"
        },
        "id": "lIYdn1woOS1n",
        "outputId": "a1121cd1-922b-496e-9da2-fd62627924eb"
      },
      "outputs": [
        {
          "output_type": "stream",
          "name": "stdout",
          "text": [
            "Looking in indexes: https://pypi.org/simple, https://us-python.pkg.dev/colab-wheels/public/simple/\n",
            "Collecting pyopenms\n",
            "  Downloading pyopenms-2.7.0-cp38-cp38-manylinux2014_x86_64.whl (49.2 MB)\n",
            "\u001b[2K     \u001b[90m━━━━━━━━━━━━━━━━━━━━━━━━━━━━━━━━━━━━━━━━\u001b[0m \u001b[32m49.2/49.2 MB\u001b[0m \u001b[31m4.3 MB/s\u001b[0m eta \u001b[36m0:00:00\u001b[0m\n",
            "\u001b[?25hRequirement already satisfied: numpy in /usr/local/lib/python3.8/dist-packages (from pyopenms) (1.21.6)\n",
            "Installing collected packages: pyopenms\n",
            "Successfully installed pyopenms-2.7.0\n"
          ]
        }
      ],
      "source": [
        "!pip install pyopenms"
      ]
    },
    {
      "cell_type": "markdown",
      "source": [
        "#### Load reference list with mass peaks and time interval. Is time given in minutes?"
      ],
      "metadata": {
        "id": "PYgMB4ntP1wC"
      }
    },
    {
      "cell_type": "code",
      "source": [
        "import pandas as pd\n",
        "\n",
        "lst = pd.read_csv('G6.22_spl.csv', sep=',')\n",
        "lst"
      ],
      "metadata": {
        "id": "vYPuE1JL05qC",
        "outputId": "d3a5141f-4fd7-4765-bc59-e23193bd7280",
        "colab": {
          "base_uri": "https://localhost:8080/",
          "height": 359
        }
      },
      "execution_count": 39,
      "outputs": [
        {
          "output_type": "execute_result",
          "data": {
            "text/plain": [
              "   Compound Name  Time  Time Tolerance  Mass Begin   Mass End\n",
              "0            NaN   2.4             0.2       268.10       NaN\n",
              "1            NaN   7.6             0.2       298.09       NaN\n",
              "2            NaN   9.5             0.2       121.05       NaN\n",
              "3            NaN  11.2             0.2       475.25       NaN\n",
              "4            NaN  14.6             0.2       261.12       NaN\n",
              "5            NaN  17.7             0.2       211.15       NaN\n",
              "6            NaN  20.0             0.2       267.11       NaN\n",
              "7            NaN  24.5             0.2       398.34       NaN\n",
              "8            NaN  27.0             0.2       405.26       NaN\n",
              "9            NaN  28.6             0.2       301.14       NaN"
            ],
            "text/html": [
              "\n",
              "  <div id=\"df-c489dcc9-2409-48be-af00-7ac0b23becc7\">\n",
              "    <div class=\"colab-df-container\">\n",
              "      <div>\n",
              "<style scoped>\n",
              "    .dataframe tbody tr th:only-of-type {\n",
              "        vertical-align: middle;\n",
              "    }\n",
              "\n",
              "    .dataframe tbody tr th {\n",
              "        vertical-align: top;\n",
              "    }\n",
              "\n",
              "    .dataframe thead th {\n",
              "        text-align: right;\n",
              "    }\n",
              "</style>\n",
              "<table border=\"1\" class=\"dataframe\">\n",
              "  <thead>\n",
              "    <tr style=\"text-align: right;\">\n",
              "      <th></th>\n",
              "      <th>Compound Name</th>\n",
              "      <th>Time</th>\n",
              "      <th>Time Tolerance</th>\n",
              "      <th>Mass Begin</th>\n",
              "      <th>Mass End</th>\n",
              "    </tr>\n",
              "  </thead>\n",
              "  <tbody>\n",
              "    <tr>\n",
              "      <th>0</th>\n",
              "      <td>NaN</td>\n",
              "      <td>2.4</td>\n",
              "      <td>0.2</td>\n",
              "      <td>268.10</td>\n",
              "      <td>NaN</td>\n",
              "    </tr>\n",
              "    <tr>\n",
              "      <th>1</th>\n",
              "      <td>NaN</td>\n",
              "      <td>7.6</td>\n",
              "      <td>0.2</td>\n",
              "      <td>298.09</td>\n",
              "      <td>NaN</td>\n",
              "    </tr>\n",
              "    <tr>\n",
              "      <th>2</th>\n",
              "      <td>NaN</td>\n",
              "      <td>9.5</td>\n",
              "      <td>0.2</td>\n",
              "      <td>121.05</td>\n",
              "      <td>NaN</td>\n",
              "    </tr>\n",
              "    <tr>\n",
              "      <th>3</th>\n",
              "      <td>NaN</td>\n",
              "      <td>11.2</td>\n",
              "      <td>0.2</td>\n",
              "      <td>475.25</td>\n",
              "      <td>NaN</td>\n",
              "    </tr>\n",
              "    <tr>\n",
              "      <th>4</th>\n",
              "      <td>NaN</td>\n",
              "      <td>14.6</td>\n",
              "      <td>0.2</td>\n",
              "      <td>261.12</td>\n",
              "      <td>NaN</td>\n",
              "    </tr>\n",
              "    <tr>\n",
              "      <th>5</th>\n",
              "      <td>NaN</td>\n",
              "      <td>17.7</td>\n",
              "      <td>0.2</td>\n",
              "      <td>211.15</td>\n",
              "      <td>NaN</td>\n",
              "    </tr>\n",
              "    <tr>\n",
              "      <th>6</th>\n",
              "      <td>NaN</td>\n",
              "      <td>20.0</td>\n",
              "      <td>0.2</td>\n",
              "      <td>267.11</td>\n",
              "      <td>NaN</td>\n",
              "    </tr>\n",
              "    <tr>\n",
              "      <th>7</th>\n",
              "      <td>NaN</td>\n",
              "      <td>24.5</td>\n",
              "      <td>0.2</td>\n",
              "      <td>398.34</td>\n",
              "      <td>NaN</td>\n",
              "    </tr>\n",
              "    <tr>\n",
              "      <th>8</th>\n",
              "      <td>NaN</td>\n",
              "      <td>27.0</td>\n",
              "      <td>0.2</td>\n",
              "      <td>405.26</td>\n",
              "      <td>NaN</td>\n",
              "    </tr>\n",
              "    <tr>\n",
              "      <th>9</th>\n",
              "      <td>NaN</td>\n",
              "      <td>28.6</td>\n",
              "      <td>0.2</td>\n",
              "      <td>301.14</td>\n",
              "      <td>NaN</td>\n",
              "    </tr>\n",
              "  </tbody>\n",
              "</table>\n",
              "</div>\n",
              "      <button class=\"colab-df-convert\" onclick=\"convertToInteractive('df-c489dcc9-2409-48be-af00-7ac0b23becc7')\"\n",
              "              title=\"Convert this dataframe to an interactive table.\"\n",
              "              style=\"display:none;\">\n",
              "        \n",
              "  <svg xmlns=\"http://www.w3.org/2000/svg\" height=\"24px\"viewBox=\"0 0 24 24\"\n",
              "       width=\"24px\">\n",
              "    <path d=\"M0 0h24v24H0V0z\" fill=\"none\"/>\n",
              "    <path d=\"M18.56 5.44l.94 2.06.94-2.06 2.06-.94-2.06-.94-.94-2.06-.94 2.06-2.06.94zm-11 1L8.5 8.5l.94-2.06 2.06-.94-2.06-.94L8.5 2.5l-.94 2.06-2.06.94zm10 10l.94 2.06.94-2.06 2.06-.94-2.06-.94-.94-2.06-.94 2.06-2.06.94z\"/><path d=\"M17.41 7.96l-1.37-1.37c-.4-.4-.92-.59-1.43-.59-.52 0-1.04.2-1.43.59L10.3 9.45l-7.72 7.72c-.78.78-.78 2.05 0 2.83L4 21.41c.39.39.9.59 1.41.59.51 0 1.02-.2 1.41-.59l7.78-7.78 2.81-2.81c.8-.78.8-2.07 0-2.86zM5.41 20L4 18.59l7.72-7.72 1.47 1.35L5.41 20z\"/>\n",
              "  </svg>\n",
              "      </button>\n",
              "      \n",
              "  <style>\n",
              "    .colab-df-container {\n",
              "      display:flex;\n",
              "      flex-wrap:wrap;\n",
              "      gap: 12px;\n",
              "    }\n",
              "\n",
              "    .colab-df-convert {\n",
              "      background-color: #E8F0FE;\n",
              "      border: none;\n",
              "      border-radius: 50%;\n",
              "      cursor: pointer;\n",
              "      display: none;\n",
              "      fill: #1967D2;\n",
              "      height: 32px;\n",
              "      padding: 0 0 0 0;\n",
              "      width: 32px;\n",
              "    }\n",
              "\n",
              "    .colab-df-convert:hover {\n",
              "      background-color: #E2EBFA;\n",
              "      box-shadow: 0px 1px 2px rgba(60, 64, 67, 0.3), 0px 1px 3px 1px rgba(60, 64, 67, 0.15);\n",
              "      fill: #174EA6;\n",
              "    }\n",
              "\n",
              "    [theme=dark] .colab-df-convert {\n",
              "      background-color: #3B4455;\n",
              "      fill: #D2E3FC;\n",
              "    }\n",
              "\n",
              "    [theme=dark] .colab-df-convert:hover {\n",
              "      background-color: #434B5C;\n",
              "      box-shadow: 0px 1px 3px 1px rgba(0, 0, 0, 0.15);\n",
              "      filter: drop-shadow(0px 1px 2px rgba(0, 0, 0, 0.3));\n",
              "      fill: #FFFFFF;\n",
              "    }\n",
              "  </style>\n",
              "\n",
              "      <script>\n",
              "        const buttonEl =\n",
              "          document.querySelector('#df-c489dcc9-2409-48be-af00-7ac0b23becc7 button.colab-df-convert');\n",
              "        buttonEl.style.display =\n",
              "          google.colab.kernel.accessAllowed ? 'block' : 'none';\n",
              "\n",
              "        async function convertToInteractive(key) {\n",
              "          const element = document.querySelector('#df-c489dcc9-2409-48be-af00-7ac0b23becc7');\n",
              "          const dataTable =\n",
              "            await google.colab.kernel.invokeFunction('convertToInteractive',\n",
              "                                                     [key], {});\n",
              "          if (!dataTable) return;\n",
              "\n",
              "          const docLinkHtml = 'Like what you see? Visit the ' +\n",
              "            '<a target=\"_blank\" href=https://colab.research.google.com/notebooks/data_table.ipynb>data table notebook</a>'\n",
              "            + ' to learn more about interactive tables.';\n",
              "          element.innerHTML = '';\n",
              "          dataTable['output_type'] = 'display_data';\n",
              "          await google.colab.output.renderOutput(dataTable, element);\n",
              "          const docLink = document.createElement('div');\n",
              "          docLink.innerHTML = docLinkHtml;\n",
              "          element.appendChild(docLink);\n",
              "        }\n",
              "      </script>\n",
              "    </div>\n",
              "  </div>\n",
              "  "
            ]
          },
          "metadata": {},
          "execution_count": 39
        }
      ]
    },
    {
      "cell_type": "markdown",
      "source": [
        "### Assuming time in minutes, create boundaries of time for each peak"
      ],
      "metadata": {
        "id": "c1EmXYK3QHE7"
      }
    },
    {
      "cell_type": "code",
      "source": [
        "lst['Sec Begin'] = lst['Time']*60 - 0.2*60\n",
        "lst['Sec End'] = lst['Time']*60 + 0.2*60\n",
        "\n",
        "lst"
      ],
      "metadata": {
        "id": "VzuEhIIbJRBk",
        "outputId": "47b64c24-b309-4fb4-e429-28fc704212bb",
        "colab": {
          "base_uri": "https://localhost:8080/",
          "height": 359
        }
      },
      "execution_count": 40,
      "outputs": [
        {
          "output_type": "execute_result",
          "data": {
            "text/plain": [
              "   Compound Name  Time  Time Tolerance  Mass Begin   Mass End  Sec Begin  \\\n",
              "0            NaN   2.4             0.2       268.10       NaN      132.0   \n",
              "1            NaN   7.6             0.2       298.09       NaN      444.0   \n",
              "2            NaN   9.5             0.2       121.05       NaN      558.0   \n",
              "3            NaN  11.2             0.2       475.25       NaN      660.0   \n",
              "4            NaN  14.6             0.2       261.12       NaN      864.0   \n",
              "5            NaN  17.7             0.2       211.15       NaN     1050.0   \n",
              "6            NaN  20.0             0.2       267.11       NaN     1188.0   \n",
              "7            NaN  24.5             0.2       398.34       NaN     1458.0   \n",
              "8            NaN  27.0             0.2       405.26       NaN     1608.0   \n",
              "9            NaN  28.6             0.2       301.14       NaN     1704.0   \n",
              "\n",
              "   Sec End  \n",
              "0    156.0  \n",
              "1    468.0  \n",
              "2    582.0  \n",
              "3    684.0  \n",
              "4    888.0  \n",
              "5   1074.0  \n",
              "6   1212.0  \n",
              "7   1482.0  \n",
              "8   1632.0  \n",
              "9   1728.0  "
            ],
            "text/html": [
              "\n",
              "  <div id=\"df-fac4f8cf-0481-4ea1-a8b2-9cdfd665eb61\">\n",
              "    <div class=\"colab-df-container\">\n",
              "      <div>\n",
              "<style scoped>\n",
              "    .dataframe tbody tr th:only-of-type {\n",
              "        vertical-align: middle;\n",
              "    }\n",
              "\n",
              "    .dataframe tbody tr th {\n",
              "        vertical-align: top;\n",
              "    }\n",
              "\n",
              "    .dataframe thead th {\n",
              "        text-align: right;\n",
              "    }\n",
              "</style>\n",
              "<table border=\"1\" class=\"dataframe\">\n",
              "  <thead>\n",
              "    <tr style=\"text-align: right;\">\n",
              "      <th></th>\n",
              "      <th>Compound Name</th>\n",
              "      <th>Time</th>\n",
              "      <th>Time Tolerance</th>\n",
              "      <th>Mass Begin</th>\n",
              "      <th>Mass End</th>\n",
              "      <th>Sec Begin</th>\n",
              "      <th>Sec End</th>\n",
              "    </tr>\n",
              "  </thead>\n",
              "  <tbody>\n",
              "    <tr>\n",
              "      <th>0</th>\n",
              "      <td>NaN</td>\n",
              "      <td>2.4</td>\n",
              "      <td>0.2</td>\n",
              "      <td>268.10</td>\n",
              "      <td>NaN</td>\n",
              "      <td>132.0</td>\n",
              "      <td>156.0</td>\n",
              "    </tr>\n",
              "    <tr>\n",
              "      <th>1</th>\n",
              "      <td>NaN</td>\n",
              "      <td>7.6</td>\n",
              "      <td>0.2</td>\n",
              "      <td>298.09</td>\n",
              "      <td>NaN</td>\n",
              "      <td>444.0</td>\n",
              "      <td>468.0</td>\n",
              "    </tr>\n",
              "    <tr>\n",
              "      <th>2</th>\n",
              "      <td>NaN</td>\n",
              "      <td>9.5</td>\n",
              "      <td>0.2</td>\n",
              "      <td>121.05</td>\n",
              "      <td>NaN</td>\n",
              "      <td>558.0</td>\n",
              "      <td>582.0</td>\n",
              "    </tr>\n",
              "    <tr>\n",
              "      <th>3</th>\n",
              "      <td>NaN</td>\n",
              "      <td>11.2</td>\n",
              "      <td>0.2</td>\n",
              "      <td>475.25</td>\n",
              "      <td>NaN</td>\n",
              "      <td>660.0</td>\n",
              "      <td>684.0</td>\n",
              "    </tr>\n",
              "    <tr>\n",
              "      <th>4</th>\n",
              "      <td>NaN</td>\n",
              "      <td>14.6</td>\n",
              "      <td>0.2</td>\n",
              "      <td>261.12</td>\n",
              "      <td>NaN</td>\n",
              "      <td>864.0</td>\n",
              "      <td>888.0</td>\n",
              "    </tr>\n",
              "    <tr>\n",
              "      <th>5</th>\n",
              "      <td>NaN</td>\n",
              "      <td>17.7</td>\n",
              "      <td>0.2</td>\n",
              "      <td>211.15</td>\n",
              "      <td>NaN</td>\n",
              "      <td>1050.0</td>\n",
              "      <td>1074.0</td>\n",
              "    </tr>\n",
              "    <tr>\n",
              "      <th>6</th>\n",
              "      <td>NaN</td>\n",
              "      <td>20.0</td>\n",
              "      <td>0.2</td>\n",
              "      <td>267.11</td>\n",
              "      <td>NaN</td>\n",
              "      <td>1188.0</td>\n",
              "      <td>1212.0</td>\n",
              "    </tr>\n",
              "    <tr>\n",
              "      <th>7</th>\n",
              "      <td>NaN</td>\n",
              "      <td>24.5</td>\n",
              "      <td>0.2</td>\n",
              "      <td>398.34</td>\n",
              "      <td>NaN</td>\n",
              "      <td>1458.0</td>\n",
              "      <td>1482.0</td>\n",
              "    </tr>\n",
              "    <tr>\n",
              "      <th>8</th>\n",
              "      <td>NaN</td>\n",
              "      <td>27.0</td>\n",
              "      <td>0.2</td>\n",
              "      <td>405.26</td>\n",
              "      <td>NaN</td>\n",
              "      <td>1608.0</td>\n",
              "      <td>1632.0</td>\n",
              "    </tr>\n",
              "    <tr>\n",
              "      <th>9</th>\n",
              "      <td>NaN</td>\n",
              "      <td>28.6</td>\n",
              "      <td>0.2</td>\n",
              "      <td>301.14</td>\n",
              "      <td>NaN</td>\n",
              "      <td>1704.0</td>\n",
              "      <td>1728.0</td>\n",
              "    </tr>\n",
              "  </tbody>\n",
              "</table>\n",
              "</div>\n",
              "      <button class=\"colab-df-convert\" onclick=\"convertToInteractive('df-fac4f8cf-0481-4ea1-a8b2-9cdfd665eb61')\"\n",
              "              title=\"Convert this dataframe to an interactive table.\"\n",
              "              style=\"display:none;\">\n",
              "        \n",
              "  <svg xmlns=\"http://www.w3.org/2000/svg\" height=\"24px\"viewBox=\"0 0 24 24\"\n",
              "       width=\"24px\">\n",
              "    <path d=\"M0 0h24v24H0V0z\" fill=\"none\"/>\n",
              "    <path d=\"M18.56 5.44l.94 2.06.94-2.06 2.06-.94-2.06-.94-.94-2.06-.94 2.06-2.06.94zm-11 1L8.5 8.5l.94-2.06 2.06-.94-2.06-.94L8.5 2.5l-.94 2.06-2.06.94zm10 10l.94 2.06.94-2.06 2.06-.94-2.06-.94-.94-2.06-.94 2.06-2.06.94z\"/><path d=\"M17.41 7.96l-1.37-1.37c-.4-.4-.92-.59-1.43-.59-.52 0-1.04.2-1.43.59L10.3 9.45l-7.72 7.72c-.78.78-.78 2.05 0 2.83L4 21.41c.39.39.9.59 1.41.59.51 0 1.02-.2 1.41-.59l7.78-7.78 2.81-2.81c.8-.78.8-2.07 0-2.86zM5.41 20L4 18.59l7.72-7.72 1.47 1.35L5.41 20z\"/>\n",
              "  </svg>\n",
              "      </button>\n",
              "      \n",
              "  <style>\n",
              "    .colab-df-container {\n",
              "      display:flex;\n",
              "      flex-wrap:wrap;\n",
              "      gap: 12px;\n",
              "    }\n",
              "\n",
              "    .colab-df-convert {\n",
              "      background-color: #E8F0FE;\n",
              "      border: none;\n",
              "      border-radius: 50%;\n",
              "      cursor: pointer;\n",
              "      display: none;\n",
              "      fill: #1967D2;\n",
              "      height: 32px;\n",
              "      padding: 0 0 0 0;\n",
              "      width: 32px;\n",
              "    }\n",
              "\n",
              "    .colab-df-convert:hover {\n",
              "      background-color: #E2EBFA;\n",
              "      box-shadow: 0px 1px 2px rgba(60, 64, 67, 0.3), 0px 1px 3px 1px rgba(60, 64, 67, 0.15);\n",
              "      fill: #174EA6;\n",
              "    }\n",
              "\n",
              "    [theme=dark] .colab-df-convert {\n",
              "      background-color: #3B4455;\n",
              "      fill: #D2E3FC;\n",
              "    }\n",
              "\n",
              "    [theme=dark] .colab-df-convert:hover {\n",
              "      background-color: #434B5C;\n",
              "      box-shadow: 0px 1px 3px 1px rgba(0, 0, 0, 0.15);\n",
              "      filter: drop-shadow(0px 1px 2px rgba(0, 0, 0, 0.3));\n",
              "      fill: #FFFFFF;\n",
              "    }\n",
              "  </style>\n",
              "\n",
              "      <script>\n",
              "        const buttonEl =\n",
              "          document.querySelector('#df-fac4f8cf-0481-4ea1-a8b2-9cdfd665eb61 button.colab-df-convert');\n",
              "        buttonEl.style.display =\n",
              "          google.colab.kernel.accessAllowed ? 'block' : 'none';\n",
              "\n",
              "        async function convertToInteractive(key) {\n",
              "          const element = document.querySelector('#df-fac4f8cf-0481-4ea1-a8b2-9cdfd665eb61');\n",
              "          const dataTable =\n",
              "            await google.colab.kernel.invokeFunction('convertToInteractive',\n",
              "                                                     [key], {});\n",
              "          if (!dataTable) return;\n",
              "\n",
              "          const docLinkHtml = 'Like what you see? Visit the ' +\n",
              "            '<a target=\"_blank\" href=https://colab.research.google.com/notebooks/data_table.ipynb>data table notebook</a>'\n",
              "            + ' to learn more about interactive tables.';\n",
              "          element.innerHTML = '';\n",
              "          dataTable['output_type'] = 'display_data';\n",
              "          await google.colab.output.renderOutput(dataTable, element);\n",
              "          const docLink = document.createElement('div');\n",
              "          docLink.innerHTML = docLinkHtml;\n",
              "          element.appendChild(docLink);\n",
              "        }\n",
              "      </script>\n",
              "    </div>\n",
              "  </div>\n",
              "  "
            ]
          },
          "metadata": {},
          "execution_count": 40
        }
      ]
    },
    {
      "cell_type": "markdown",
      "source": [
        "### Unpacl and load MS2 spectra"
      ],
      "metadata": {
        "id": "d94LaILaSZl0"
      }
    },
    {
      "cell_type": "code",
      "source": [
        "!ls"
      ],
      "metadata": {
        "id": "mewIOfkq2Nmy",
        "outputId": "1b5496a7-22ae-4fdc-c9d3-96d131aa30b9",
        "colab": {
          "base_uri": "https://localhost:8080/"
        }
      },
      "execution_count": 9,
      "outputs": [
        {
          "output_type": "stream",
          "name": "stdout",
          "text": [
            "177_G6.22_INCLUDE_1-2_01_15253.mzML\t\t G6.22_spl.csv\n",
            "G5.22_177_ORG_POS_MSMS_1-2_01_1510.zip\t\t sample_data\n",
            "G6.22_177_ORG_POS_MSMS_INCLUDE_1-2_01_15253.zip\n"
          ]
        }
      ]
    },
    {
      "cell_type": "code",
      "source": [
        "!unzip G6.22_177_ORG_POS_MSMS_INCLUDE_1-2_01_15253.zip"
      ],
      "metadata": {
        "id": "yOrsY5l52sy2",
        "outputId": "aa39bc61-5a28-4207-cafe-ad539b95cc47",
        "colab": {
          "base_uri": "https://localhost:8080/"
        }
      },
      "execution_count": 8,
      "outputs": [
        {
          "output_type": "stream",
          "name": "stdout",
          "text": [
            "Archive:  G6.22_177_ORG_POS_MSMS_INCLUDE_1-2_01_15253.zip\n",
            "  inflating: 177_G6.22_INCLUDE_1-2_01_15253.mzML  \n"
          ]
        }
      ]
    },
    {
      "cell_type": "code",
      "source": [
        "from pyopenms import *\n",
        "exp = MSExperiment()\n",
        "MzMLFile().load(\"177_G6.22_INCLUDE_1-2_01_15253.mzML\", exp)"
      ],
      "metadata": {
        "id": "7rQ6Xdpv3nFJ"
      },
      "execution_count": 10,
      "outputs": []
    },
    {
      "cell_type": "code",
      "source": [
        "# 2) get TIC data using list comprehensions\n",
        "retention_times = [spec.getRT() for spec in exp if spec.getMSLevel() == 1]\n",
        "intensities = [sum(spec.get_peaks()[1]) for spec in exp if spec.getMSLevel() == 1]\n",
        "\n",
        "intensities_max = [max(spec.get_peaks()[1]) for spec in exp if spec.getMSLevel() == 1]"
      ],
      "metadata": {
        "id": "qO0bGVTQ36YU"
      },
      "execution_count": 14,
      "outputs": []
    },
    {
      "cell_type": "code",
      "source": [
        "print(len(retention_times))\n",
        "print(len(intensities))"
      ],
      "metadata": {
        "id": "EUweD2IA4NTO",
        "outputId": "a2e066fb-d971-4989-baf1-5888ea3f96a9",
        "colab": {
          "base_uri": "https://localhost:8080/"
        }
      },
      "execution_count": 15,
      "outputs": [
        {
          "output_type": "stream",
          "name": "stdout",
          "text": [
            "4037\n",
            "4037\n"
          ]
        }
      ]
    },
    {
      "cell_type": "markdown",
      "source": [
        "### Check TIC of spectra"
      ],
      "metadata": {
        "id": "V2hpwX_ZShfe"
      }
    },
    {
      "cell_type": "code",
      "source": [
        "import matplotlib.pyplot as plt\n",
        "# plot retention times and intensities and add labels\n",
        "plt.plot(retention_times, intensities)\n",
        "\n",
        "plt.title('TIC')\n",
        "plt.xlabel('time (s)')\n",
        "plt.ylabel('intensity (cps)')\n",
        "\n",
        "plt.show()"
      ],
      "metadata": {
        "id": "b00rX4aU4DyA",
        "outputId": "0278611c-a7a2-4ab6-e1cc-51a6c35fe3a0",
        "colab": {
          "base_uri": "https://localhost:8080/",
          "height": 295
        }
      },
      "execution_count": 16,
      "outputs": [
        {
          "output_type": "display_data",
          "data": {
            "text/plain": [
              "<Figure size 432x288 with 1 Axes>"
            ],
            "image/png": "[encoded data removed]"
          },
          "metadata": {
            "needs_background": "light"
          }
        }
      ]
    },
    {
      "cell_type": "markdown",
      "source": [
        "### Assuming time in seconds, view where peaks should be located"
      ],
      "metadata": {
        "id": "UwVz9yHISrFv"
      }
    },
    {
      "cell_type": "code",
      "source": [
        "import matplotlib.pyplot as plt\n",
        "# plot retention times and intensities and add labels\n",
        "plt.figure(figsize=(12,10))\n",
        "plt.plot(retention_times, intensities)\n",
        "\n",
        "for i in lst.index:\n",
        "  plt.vlines(lst.loc[i, 'Time']*60, \n",
        "              ymin=min(intensities), ymax=max(intensities), \n",
        "              colors='r', linestyles='dotted')\n",
        "plt.title('TIC')\n",
        "plt.xlabel('time (s)')\n",
        "plt.ylabel('intensity (cps)')\n",
        "\n",
        "plt.show()"
      ],
      "metadata": {
        "id": "vSlndS2E5y3Y",
        "outputId": "1edd6f68-bcee-4b7f-b15d-898014241247",
        "colab": {
          "base_uri": "https://localhost:8080/",
          "height": 621
        }
      },
      "execution_count": 19,
      "outputs": [
        {
          "output_type": "display_data",
          "data": {
            "text/plain": [
              "<Figure size 864x720 with 1 Axes>"
            ],
            "image/png": "[encoded data removed]"
          },
          "metadata": {
            "needs_background": "light"
          }
        }
      ]
    },
    {
      "cell_type": "markdown",
      "source": [
        "### Define a function for, given chromatogram with MS2 events, search for peaks in a reference table (lst in this example) and return all MS2 peaks that are inside any time window in the reference"
      ],
      "metadata": {
        "id": "DaQUGfqqS9Vx"
      }
    },
    {
      "cell_type": "code",
      "source": [
        "import warnings\n",
        "\n",
        "def getMatchingMS2(lst, exp):\n",
        "  \"\"\"\n",
        "  Searches for MS2 events inside a reference table with time windows.  \n",
        "  Parameters:\n",
        "  -------------------\n",
        "  lst: pandas.DataFrame\n",
        "    Reference table with peak time windows  \n",
        "  exp: pyopenms.MSExperiment\n",
        "    Spectra object from pyopenms\n",
        "  -------------------\n",
        "  Returns:\n",
        "    Nested list with reference table index, scan number, \n",
        "    precursor mass and retention time\n",
        "  \"\"\"\n",
        "  ms2 = []\n",
        "  for spec in exp:\n",
        "    if spec.getMSLevel() == 2:\n",
        "      rt = spec.getRT()\n",
        "      idx = (lst['Sec Begin'] <= rt) & (lst['Sec End'] >= rt)\n",
        "      if idx.sum()==1:\n",
        "        ind = lst[idx].index.values[0]\n",
        "      elif idx.sum()>1:\n",
        "        warnings.warn(\"Overlaping time windows, selecting first match.\")\n",
        "        ind = lst[idx].index.values[0]\n",
        "      else:\n",
        "        continue\n",
        "      pr = spec.getPrecursors()[0].getMZ()\n",
        "      scan = int(spec.getNativeID().replace('scan=', '')) - 1\n",
        "      ms2.append([ind, scan, pr, rt])\n",
        "  return ms2"
      ],
      "metadata": {
        "id": "-ukyzq7I6bUW"
      },
      "execution_count": 86,
      "outputs": []
    },
    {
      "cell_type": "markdown",
      "source": [
        "### Execute function and obtain time match for each entry in your reference table. Notice that we can only find scans (expect multiple scans for each compound) for entries 0, 6 and 8. There are masses that don't match."
      ],
      "metadata": {
        "id": "QRLpVlXOTUSs"
      }
    },
    {
      "cell_type": "code",
      "source": [
        "getMatchingMS2(lst, exp)"
      ],
      "metadata": {
        "id": "mbDqKiHPORyl",
        "outputId": "008fccd9-f6de-4128-927a-8691f515c98f",
        "colab": {
          "base_uri": "https://localhost:8080/"
        }
      },
      "execution_count": 87,
      "outputs": [
        {
          "output_type": "execute_result",
          "data": {
            "text/plain": [
              "[[0, 283, 268.099761962891, 146.342],\n",
              " [0, 286, 268.104125976563, 147.866],\n",
              " [0, 288, 268.100219726563, 148.88],\n",
              " [0, 290, 268.103912353516, 149.894],\n",
              " [0, 292, 268.101593017578, 150.908],\n",
              " [0, 294, 268.103485107422, 151.924],\n",
              " [0, 296, 268.099670410156, 152.938],\n",
              " [0, 298, 268.105987548828, 153.952],\n",
              " [0, 300, 268.098236083984, 154.967],\n",
              " [6, 2368, 284.13427734375, 1210.434],\n",
              " [6, 2370, 306.116394042969, 1211.448],\n",
              " [8, 3190, 405.252471923828, 1629.755],\n",
              " [8, 3192, 405.255035400391, 1630.77],\n",
              " [8, 3193, 427.236999511719, 1631.272]]"
            ]
          },
          "metadata": {},
          "execution_count": 87
        }
      ]
    },
    {
      "cell_type": "code",
      "source": [
        "lst.iloc[[0,6,8], :]"
      ],
      "metadata": {
        "id": "J3oRA9FxUbPo",
        "outputId": "61e3f748-d50f-4ccd-c9c6-1fdeab5a1f8b",
        "colab": {
          "base_uri": "https://localhost:8080/",
          "height": 142
        }
      },
      "execution_count": 88,
      "outputs": [
        {
          "output_type": "execute_result",
          "data": {
            "text/plain": [
              "   Compound Name  Time  Time Tolerance  Mass Begin   Mass End  Sec Begin  \\\n",
              "0            NaN   2.4             0.2       268.10       NaN      132.0   \n",
              "6            NaN  20.0             0.2       267.11       NaN     1188.0   \n",
              "8            NaN  27.0             0.2       405.26       NaN     1608.0   \n",
              "\n",
              "   Sec End  \n",
              "0    156.0  \n",
              "6   1212.0  \n",
              "8   1632.0  "
            ],
            "text/html": [
              "\n",
              "  <div id=\"df-1cdf9851-bb90-49b0-be13-e5acdf29e18c\">\n",
              "    <div class=\"colab-df-container\">\n",
              "      <div>\n",
              "<style scoped>\n",
              "    .dataframe tbody tr th:only-of-type {\n",
              "        vertical-align: middle;\n",
              "    }\n",
              "\n",
              "    .dataframe tbody tr th {\n",
              "        vertical-align: top;\n",
              "    }\n",
              "\n",
              "    .dataframe thead th {\n",
              "        text-align: right;\n",
              "    }\n",
              "</style>\n",
              "<table border=\"1\" class=\"dataframe\">\n",
              "  <thead>\n",
              "    <tr style=\"text-align: right;\">\n",
              "      <th></th>\n",
              "      <th>Compound Name</th>\n",
              "      <th>Time</th>\n",
              "      <th>Time Tolerance</th>\n",
              "      <th>Mass Begin</th>\n",
              "      <th>Mass End</th>\n",
              "      <th>Sec Begin</th>\n",
              "      <th>Sec End</th>\n",
              "    </tr>\n",
              "  </thead>\n",
              "  <tbody>\n",
              "    <tr>\n",
              "      <th>0</th>\n",
              "      <td>NaN</td>\n",
              "      <td>2.4</td>\n",
              "      <td>0.2</td>\n",
              "      <td>268.10</td>\n",
              "      <td>NaN</td>\n",
              "      <td>132.0</td>\n",
              "      <td>156.0</td>\n",
              "    </tr>\n",
              "    <tr>\n",
              "      <th>6</th>\n",
              "      <td>NaN</td>\n",
              "      <td>20.0</td>\n",
              "      <td>0.2</td>\n",
              "      <td>267.11</td>\n",
              "      <td>NaN</td>\n",
              "      <td>1188.0</td>\n",
              "      <td>1212.0</td>\n",
              "    </tr>\n",
              "    <tr>\n",
              "      <th>8</th>\n",
              "      <td>NaN</td>\n",
              "      <td>27.0</td>\n",
              "      <td>0.2</td>\n",
              "      <td>405.26</td>\n",
              "      <td>NaN</td>\n",
              "      <td>1608.0</td>\n",
              "      <td>1632.0</td>\n",
              "    </tr>\n",
              "  </tbody>\n",
              "</table>\n",
              "</div>\n",
              "      <button class=\"colab-df-convert\" onclick=\"convertToInteractive('df-1cdf9851-bb90-49b0-be13-e5acdf29e18c')\"\n",
              "              title=\"Convert this dataframe to an interactive table.\"\n",
              "              style=\"display:none;\">\n",
              "        \n",
              "  <svg xmlns=\"http://www.w3.org/2000/svg\" height=\"24px\"viewBox=\"0 0 24 24\"\n",
              "       width=\"24px\">\n",
              "    <path d=\"M0 0h24v24H0V0z\" fill=\"none\"/>\n",
              "    <path d=\"M18.56 5.44l.94 2.06.94-2.06 2.06-.94-2.06-.94-.94-2.06-.94 2.06-2.06.94zm-11 1L8.5 8.5l.94-2.06 2.06-.94-2.06-.94L8.5 2.5l-.94 2.06-2.06.94zm10 10l.94 2.06.94-2.06 2.06-.94-2.06-.94-.94-2.06-.94 2.06-2.06.94z\"/><path d=\"M17.41 7.96l-1.37-1.37c-.4-.4-.92-.59-1.43-.59-.52 0-1.04.2-1.43.59L10.3 9.45l-7.72 7.72c-.78.78-.78 2.05 0 2.83L4 21.41c.39.39.9.59 1.41.59.51 0 1.02-.2 1.41-.59l7.78-7.78 2.81-2.81c.8-.78.8-2.07 0-2.86zM5.41 20L4 18.59l7.72-7.72 1.47 1.35L5.41 20z\"/>\n",
              "  </svg>\n",
              "      </button>\n",
              "      \n",
              "  <style>\n",
              "    .colab-df-container {\n",
              "      display:flex;\n",
              "      flex-wrap:wrap;\n",
              "      gap: 12px;\n",
              "    }\n",
              "\n",
              "    .colab-df-convert {\n",
              "      background-color: #E8F0FE;\n",
              "      border: none;\n",
              "      border-radius: 50%;\n",
              "      cursor: pointer;\n",
              "      display: none;\n",
              "      fill: #1967D2;\n",
              "      height: 32px;\n",
              "      padding: 0 0 0 0;\n",
              "      width: 32px;\n",
              "    }\n",
              "\n",
              "    .colab-df-convert:hover {\n",
              "      background-color: #E2EBFA;\n",
              "      box-shadow: 0px 1px 2px rgba(60, 64, 67, 0.3), 0px 1px 3px 1px rgba(60, 64, 67, 0.15);\n",
              "      fill: #174EA6;\n",
              "    }\n",
              "\n",
              "    [theme=dark] .colab-df-convert {\n",
              "      background-color: #3B4455;\n",
              "      fill: #D2E3FC;\n",
              "    }\n",
              "\n",
              "    [theme=dark] .colab-df-convert:hover {\n",
              "      background-color: #434B5C;\n",
              "      box-shadow: 0px 1px 3px 1px rgba(0, 0, 0, 0.15);\n",
              "      filter: drop-shadow(0px 1px 2px rgba(0, 0, 0, 0.3));\n",
              "      fill: #FFFFFF;\n",
              "    }\n",
              "  </style>\n",
              "\n",
              "      <script>\n",
              "        const buttonEl =\n",
              "          document.querySelector('#df-1cdf9851-bb90-49b0-be13-e5acdf29e18c button.colab-df-convert');\n",
              "        buttonEl.style.display =\n",
              "          google.colab.kernel.accessAllowed ? 'block' : 'none';\n",
              "\n",
              "        async function convertToInteractive(key) {\n",
              "          const element = document.querySelector('#df-1cdf9851-bb90-49b0-be13-e5acdf29e18c');\n",
              "          const dataTable =\n",
              "            await google.colab.kernel.invokeFunction('convertToInteractive',\n",
              "                                                     [key], {});\n",
              "          if (!dataTable) return;\n",
              "\n",
              "          const docLinkHtml = 'Like what you see? Visit the ' +\n",
              "            '<a target=\"_blank\" href=https://colab.research.google.com/notebooks/data_table.ipynb>data table notebook</a>'\n",
              "            + ' to learn more about interactive tables.';\n",
              "          element.innerHTML = '';\n",
              "          dataTable['output_type'] = 'display_data';\n",
              "          await google.colab.output.renderOutput(dataTable, element);\n",
              "          const docLink = document.createElement('div');\n",
              "          docLink.innerHTML = docLinkHtml;\n",
              "          element.appendChild(docLink);\n",
              "        }\n",
              "      </script>\n",
              "    </div>\n",
              "  </div>\n",
              "  "
            ]
          },
          "metadata": {},
          "execution_count": 88
        }
      ]
    },
    {
      "cell_type": "code",
      "source": [
        "# How to double check the precursor corresponds to correct scan\n",
        "exp.getSpectrum(283).getPrecursors()[0].getMZ()"
      ],
      "metadata": {
        "id": "CrAhbBwTPZjP",
        "outputId": "57b0dead-c6a3-4095-da98-f9e6fd4b6c66",
        "colab": {
          "base_uri": "https://localhost:8080/"
        }
      },
      "execution_count": 79,
      "outputs": [
        {
          "output_type": "execute_result",
          "data": {
            "text/plain": [
              "268.099761962891"
            ]
          },
          "metadata": {},
          "execution_count": 79
        }
      ]
    },
    {
      "cell_type": "code",
      "source": [
        "# How to get fragmentation spectra\n",
        "# Note: The same process can be applied to DDA experiments\n",
        "# that is how you would compare DDA with list, counting\n",
        "# how many scans per compound are detected, how many peaks in average by spectrum\n",
        "# average intensity, number of noisy peaks, etc\n",
        "exp.getSpectrum(283).get_peaks()"
      ],
      "metadata": {
        "id": "DXCp4SQPRtHt",
        "outputId": "cdd3087d-1a74-4df3-e93b-9077fb5a8d6e",
        "colab": {
          "base_uri": "https://localhost:8080/"
        }
      },
      "execution_count": 81,
      "outputs": [
        {
          "output_type": "execute_result",
          "data": {
            "text/plain": [
              "(array([  91.98730469,   93.58641815,   94.00708771,   94.47754669,\n",
              "         109.04628754,  109.09923553,  110.82141876,  118.08288574,\n",
              "         119.03271484,  119.15242767,  119.22390747,  119.35688019,\n",
              "         119.87486267,  119.99895477,  120.20241547,  120.64900208,\n",
              "         121.21790314,  135.07640076,  136.0632019 ,  136.19577026,\n",
              "         136.38511658,  136.47525024,  136.72627258,  136.8508606 ,\n",
              "         136.91308594,  137.05519104,  137.16584778,  137.24311829,\n",
              "         137.68756104,  137.78892517,  138.03897095,  140.12709045,\n",
              "         148.80758667,  152.40385437,  163.15956116,  170.04664612,\n",
              "         264.19000244,  267.86172485,  268.11209106,  269.0932312 ,\n",
              "         274.21868896,  301.22052002,  306.43292236,  314.20285034,\n",
              "         316.3371582 ,  417.43243408,  714.82263184, 1397.02539062,\n",
              "        1472.96105957]),\n",
              " array([  39.,    9.,  132.,   10.,   72.,   45.,   10.,   14.,  622.,\n",
              "          15.,   19.,   10.,   15.,   37.,   14.,   11.,   18.,   35.,\n",
              "        1192.,   15.,   36.,   25.,   33.,   19.,   15.,  332.,   32.,\n",
              "          17.,   13.,   19.,   38.,   10.,   21.,   27.,   19.,   23.,\n",
              "          36.,   11.,  155.,   34.,   61.,   22.,    9.,   39.,   36.,\n",
              "          19.,   10.,   21.,   10.], dtype=float32))"
            ]
          },
          "metadata": {},
          "execution_count": 81
        }
      ]
    },
    {
      "cell_type": "code",
      "source": [
        "exp"
      ],
      "metadata": {
        "id": "OL2sJ8yLWPDP",
        "outputId": "fa395539-11cf-47b3-c732-5ed51280eff3",
        "colab": {
          "base_uri": "https://localhost:8080/"
        }
      },
      "execution_count": 85,
      "outputs": [
        {
          "output_type": "execute_result",
          "data": {
            "text/plain": [
              "<pyopenms.pyopenms_5.MSExperiment at 0x7fdf98e50490>"
            ]
          },
          "metadata": {},
          "execution_count": 85
        }
      ]
    },
    {
      "cell_type": "code",
      "source": [],
      "metadata": {
        "id": "Pc5w2epiWPuF"
      },
      "execution_count": null,
      "outputs": []
    }
  ],
  "metadata": {
    "colab": {
      "name": "scratchpad",
      "provenance": []
    },
    "kernelspec": {
      "display_name": "Python 3",
      "name": "python3"
    }
  },
  "nbformat": 4,
  "nbformat_minor": 0
}