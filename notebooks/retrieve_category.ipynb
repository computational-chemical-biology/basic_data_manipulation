{
  "nbformat": 4,
  "nbformat_minor": 0,
  "metadata": {
    "colab": {
      "provenance": []
    },
    "kernelspec": {
      "name": "python3",
      "display_name": "Python 3"
    },
    "language_info": {
      "name": "python"
    }
  },
  "cells": [
    {
      "cell_type": "code",
      "source": [
        "#https://thepythoncode.com/article/extracting-and-submitting-web-page-forms-in-python\n",
        "import requests\n",
        "from bs4 import BeautifulSoup\n",
        "import re\n",
        "\n",
        "def getCategory(drug_name):\n",
        "    headers = {'User-Agent': 'Mozilla/5.0'}\n",
        "    r = requests.get(f\"https://consultaremedios.com.br/{drug_name.lower()}/bula\", headers=headers)\n",
        "    #r.raise_for_status()\n",
        "\n",
        "    soup = BeautifulSoup(r.text, \"html.parser\")\n",
        "    scripts = soup.find_all(\"script\")\n",
        "\n",
        "    item_list = [x.text for x in scripts if 'view_item_list' in x.text][0]\n",
        "    category = ''\n",
        "    for y in item_list.split(','):\n",
        "        if 'category' in y:\n",
        "            category = re.sub(r\"\\'category\\': (\\'.+\\')\", '\\\\1', y)\n",
        "            print(y)\n",
        "    return category.replace(\"'\", '').replace(' ', '')"
      ],
      "metadata": {
        "id": "oWUn83md1QPA"
      },
      "execution_count": 125,
      "outputs": []
    },
    {
      "cell_type": "code",
      "source": [
        "getCategory('ZIAGENAVIR')"
      ],
      "metadata": {
        "colab": {
          "base_uri": "https://localhost:8080/",
          "height": 53
        },
        "id": "CxMBxlf42x94",
        "outputId": "e269ad65-fc55-4bdb-fb28-7bbad35527cc"
      },
      "execution_count": 126,
      "outputs": [
        {
          "output_type": "stream",
          "name": "stdout",
          "text": [
            " 'category': 'HIV/AIDS'\n"
          ]
        },
        {
          "output_type": "execute_result",
          "data": {
            "text/plain": [
              "'HIV/AIDS'"
            ],
            "application/vnd.google.colaboratory.intrinsic+json": {
              "type": "string"
            }
          },
          "metadata": {},
          "execution_count": 126
        }
      ]
    },
    {
      "cell_type": "code",
      "source": [
        "getCategory('VERZENIOS')"
      ],
      "metadata": {
        "colab": {
          "base_uri": "https://localhost:8080/",
          "height": 53
        },
        "id": "9MVvyZdP3WV3",
        "outputId": "e42de434-abf8-40e6-db93-c9902891e9b1"
      },
      "execution_count": 127,
      "outputs": [
        {
          "output_type": "stream",
          "name": "stdout",
          "text": [
            " 'category': 'Mama'\n"
          ]
        },
        {
          "output_type": "execute_result",
          "data": {
            "text/plain": [
              "'Mama'"
            ],
            "application/vnd.google.colaboratory.intrinsic+json": {
              "type": "string"
            }
          },
          "metadata": {},
          "execution_count": 127
        }
      ]
    },
    {
      "cell_type": "code",
      "source": [
        "getCategory('ZYTIGA')"
      ],
      "metadata": {
        "colab": {
          "base_uri": "https://localhost:8080/",
          "height": 53
        },
        "id": "nLfAQau-3wXG",
        "outputId": "00aec3a7-215a-454e-9215-72525d826d0d"
      },
      "execution_count": 128,
      "outputs": [
        {
          "output_type": "stream",
          "name": "stdout",
          "text": [
            " 'category': 'Próstata'\n"
          ]
        },
        {
          "output_type": "execute_result",
          "data": {
            "text/plain": [
              "'Próstata'"
            ],
            "application/vnd.google.colaboratory.intrinsic+json": {
              "type": "string"
            }
          },
          "metadata": {},
          "execution_count": 128
        }
      ]
    },
    {
      "cell_type": "code",
      "source": [],
      "metadata": {
        "id": "s1-YNHFf4ZMr"
      },
      "execution_count": null,
      "outputs": []
    }
  ]
}