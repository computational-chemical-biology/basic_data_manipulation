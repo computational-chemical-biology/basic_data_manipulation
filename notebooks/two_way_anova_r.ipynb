{
  "nbformat": 4,
  "nbformat_minor": 0,
  "metadata": {
    "colab": {
      "provenance": []
    },
    "kernelspec": {
      "name": "ir",
      "display_name": "R"
    },
    "language_info": {
      "name": "R"
    }
  },
  "cells": [
    {
      "cell_type": "markdown",
      "source": [
        "### Como ler os dados e inspecionar o cabeçalho."
      ],
      "metadata": {
        "id": "83pH5UHb4ZhB"
      }
    },
    {
      "cell_type": "code",
      "execution_count": 65,
      "metadata": {
        "colab": {
          "base_uri": "https://localhost:8080/",
          "height": 286
        },
        "id": "tPqYjX8X4lI1",
        "outputId": "d47907f2-2dc7-4b20-9aa8-352127d78331"
      },
      "outputs": [
        {
          "output_type": "display_data",
          "data": {
            "text/html": [
              "<table class=\"dataframe\">\n",
              "<caption>A data.frame: 6 × 4</caption>\n",
              "<thead>\n",
              "\t<tr><th></th><th scope=col>ug/mL</th><th scope=col>viabilidade</th><th scope=col>metodo</th><th scope=col>linhagem</th></tr>\n",
              "\t<tr><th></th><th scope=col>&lt;dbl&gt;</th><th scope=col>&lt;dbl&gt;</th><th scope=col>&lt;fct&gt;</th><th scope=col>&lt;fct&gt;</th></tr>\n",
              "</thead>\n",
              "<tbody>\n",
              "\t<tr><th scope=row>1</th><td>1</td><td>106.79</td><td>hlp_ge</td><td>hff1</td></tr>\n",
              "\t<tr><th scope=row>2</th><td>1</td><td>104.92</td><td>hlp_ge</td><td>hff1</td></tr>\n",
              "\t<tr><th scope=row>3</th><td>1</td><td>104.67</td><td>hlp_ge</td><td>hff1</td></tr>\n",
              "\t<tr><th scope=row>4</th><td>2</td><td> 99.00</td><td>hlp_ge</td><td>hff1</td></tr>\n",
              "\t<tr><th scope=row>5</th><td>2</td><td> 95.12</td><td>hlp_ge</td><td>hff1</td></tr>\n",
              "\t<tr><th scope=row>6</th><td>2</td><td> 99.34</td><td>hlp_ge</td><td>hff1</td></tr>\n",
              "</tbody>\n",
              "</table>\n"
            ],
            "text/markdown": "\nA data.frame: 6 × 4\n\n| <!--/--> | ug/mL &lt;dbl&gt; | viabilidade &lt;dbl&gt; | metodo &lt;fct&gt; | linhagem &lt;fct&gt; |\n|---|---|---|---|---|\n| 1 | 1 | 106.79 | hlp_ge | hff1 |\n| 2 | 1 | 104.92 | hlp_ge | hff1 |\n| 3 | 1 | 104.67 | hlp_ge | hff1 |\n| 4 | 2 |  99.00 | hlp_ge | hff1 |\n| 5 | 2 |  95.12 | hlp_ge | hff1 |\n| 6 | 2 |  99.34 | hlp_ge | hff1 |\n\n",
            "text/latex": "A data.frame: 6 × 4\n\\begin{tabular}{r|llll}\n  & ug/mL & viabilidade & metodo & linhagem\\\\\n  & <dbl> & <dbl> & <fct> & <fct>\\\\\n\\hline\n\t1 & 1 & 106.79 & hlp\\_ge & hff1\\\\\n\t2 & 1 & 104.92 & hlp\\_ge & hff1\\\\\n\t3 & 1 & 104.67 & hlp\\_ge & hff1\\\\\n\t4 & 2 &  99.00 & hlp\\_ge & hff1\\\\\n\t5 & 2 &  95.12 & hlp\\_ge & hff1\\\\\n\t6 & 2 &  99.34 & hlp\\_ge & hff1\\\\\n\\end{tabular}\n",
            "text/plain": [
              "  ug/mL viabilidade metodo linhagem\n",
              "1 1     106.79      hlp_ge hff1    \n",
              "2 1     104.92      hlp_ge hff1    \n",
              "3 1     104.67      hlp_ge hff1    \n",
              "4 2      99.00      hlp_ge hff1    \n",
              "5 2      95.12      hlp_ge hff1    \n",
              "6 2      99.34      hlp_ge hff1    "
            ]
          },
          "metadata": {}
        }
      ],
      "source": [
        "df <- read.delim('yasmin_rlongformat.tsv', check.names = FALSE, stringsAsFactors = TRUE)\n",
        "head(df)"
      ]
    },
    {
      "cell_type": "code",
      "source": [
        "df[df['linhagem']=='hff1',]"
      ],
      "metadata": {
        "colab": {
          "base_uri": "https://localhost:8080/",
          "height": 1000
        },
        "id": "OaV4DmI85rLh",
        "outputId": "b9d65a2b-b66c-4e11-87b1-87448deb2e01"
      },
      "execution_count": 66,
      "outputs": [
        {
          "output_type": "display_data",
          "data": {
            "text/html": [
              "<table class=\"dataframe\">\n",
              "<caption>A data.frame: 72 × 4</caption>\n",
              "<thead>\n",
              "\t<tr><th></th><th scope=col>ug/mL</th><th scope=col>viabilidade</th><th scope=col>metodo</th><th scope=col>linhagem</th></tr>\n",
              "\t<tr><th></th><th scope=col>&lt;dbl&gt;</th><th scope=col>&lt;dbl&gt;</th><th scope=col>&lt;fct&gt;</th><th scope=col>&lt;fct&gt;</th></tr>\n",
              "</thead>\n",
              "<tbody>\n",
              "\t<tr><th scope=row>1</th><td> 1</td><td>106.79</td><td>hlp_ge</td><td>hff1</td></tr>\n",
              "\t<tr><th scope=row>2</th><td> 1</td><td>104.92</td><td>hlp_ge</td><td>hff1</td></tr>\n",
              "\t<tr><th scope=row>3</th><td> 1</td><td>104.67</td><td>hlp_ge</td><td>hff1</td></tr>\n",
              "\t<tr><th scope=row>4</th><td> 2</td><td> 99.00</td><td>hlp_ge</td><td>hff1</td></tr>\n",
              "\t<tr><th scope=row>5</th><td> 2</td><td> 95.12</td><td>hlp_ge</td><td>hff1</td></tr>\n",
              "\t<tr><th scope=row>6</th><td> 2</td><td> 99.34</td><td>hlp_ge</td><td>hff1</td></tr>\n",
              "\t<tr><th scope=row>7</th><td> 3</td><td> 98.53</td><td>hlp_ge</td><td>hff1</td></tr>\n",
              "\t<tr><th scope=row>8</th><td> 3</td><td> 96.53</td><td>hlp_ge</td><td>hff1</td></tr>\n",
              "\t<tr><th scope=row>9</th><td> 3</td><td> 97.87</td><td>hlp_ge</td><td>hff1</td></tr>\n",
              "\t<tr><th scope=row>10</th><td> 4</td><td> 95.63</td><td>hlp_ge</td><td>hff1</td></tr>\n",
              "\t<tr><th scope=row>11</th><td> 4</td><td> 97.81</td><td>hlp_ge</td><td>hff1</td></tr>\n",
              "\t<tr><th scope=row>12</th><td> 4</td><td> 96.52</td><td>hlp_ge</td><td>hff1</td></tr>\n",
              "\t<tr><th scope=row>13</th><td> 5</td><td> 90.30</td><td>hlp_ge</td><td>hff1</td></tr>\n",
              "\t<tr><th scope=row>14</th><td> 5</td><td> 90.22</td><td>hlp_ge</td><td>hff1</td></tr>\n",
              "\t<tr><th scope=row>15</th><td> 5</td><td> 91.08</td><td>hlp_ge</td><td>hff1</td></tr>\n",
              "\t<tr><th scope=row>16</th><td> 6</td><td> 79.21</td><td>hlp_ge</td><td>hff1</td></tr>\n",
              "\t<tr><th scope=row>17</th><td> 6</td><td> 80.59</td><td>hlp_ge</td><td>hff1</td></tr>\n",
              "\t<tr><th scope=row>18</th><td> 6</td><td> 81.16</td><td>hlp_ge</td><td>hff1</td></tr>\n",
              "\t<tr><th scope=row>19</th><td> 7</td><td> 54.89</td><td>hlp_ge</td><td>hff1</td></tr>\n",
              "\t<tr><th scope=row>20</th><td> 7</td><td> 51.95</td><td>hlp_ge</td><td>hff1</td></tr>\n",
              "\t<tr><th scope=row>21</th><td> 7</td><td> 54.64</td><td>hlp_ge</td><td>hff1</td></tr>\n",
              "\t<tr><th scope=row>22</th><td> 8</td><td> 49.78</td><td>hlp_ge</td><td>hff1</td></tr>\n",
              "\t<tr><th scope=row>23</th><td> 8</td><td> 49.89</td><td>hlp_ge</td><td>hff1</td></tr>\n",
              "\t<tr><th scope=row>24</th><td> 8</td><td> 46.88</td><td>hlp_ge</td><td>hff1</td></tr>\n",
              "\t<tr><th scope=row>25</th><td>10</td><td> 28.43</td><td>hlp_ge</td><td>hff1</td></tr>\n",
              "\t<tr><th scope=row>26</th><td>10</td><td> 35.21</td><td>hlp_ge</td><td>hff1</td></tr>\n",
              "\t<tr><th scope=row>27</th><td>10</td><td> 26.78</td><td>hlp_ge</td><td>hff1</td></tr>\n",
              "\t<tr><th scope=row>28</th><td>20</td><td>  7.05</td><td>hlp_ge</td><td>hff1</td></tr>\n",
              "\t<tr><th scope=row>29</th><td>20</td><td>  7.21</td><td>hlp_ge</td><td>hff1</td></tr>\n",
              "\t<tr><th scope=row>30</th><td>20</td><td>  6.96</td><td>hlp_ge</td><td>hff1</td></tr>\n",
              "\t<tr><th scope=row>⋮</th><td>⋮</td><td>⋮</td><td>⋮</td><td>⋮</td></tr>\n",
              "\t<tr><th scope=row>79</th><td> 3</td><td>21.30</td><td>ge</td><td>hff1</td></tr>\n",
              "\t<tr><th scope=row>80</th><td> 3</td><td>18.45</td><td>ge</td><td>hff1</td></tr>\n",
              "\t<tr><th scope=row>81</th><td> 3</td><td>21.08</td><td>ge</td><td>hff1</td></tr>\n",
              "\t<tr><th scope=row>82</th><td> 4</td><td>11.74</td><td>ge</td><td>hff1</td></tr>\n",
              "\t<tr><th scope=row>83</th><td> 4</td><td>11.72</td><td>ge</td><td>hff1</td></tr>\n",
              "\t<tr><th scope=row>84</th><td> 4</td><td>11.86</td><td>ge</td><td>hff1</td></tr>\n",
              "\t<tr><th scope=row>85</th><td> 5</td><td> 6.93</td><td>ge</td><td>hff1</td></tr>\n",
              "\t<tr><th scope=row>86</th><td> 5</td><td> 6.96</td><td>ge</td><td>hff1</td></tr>\n",
              "\t<tr><th scope=row>87</th><td> 5</td><td> 6.89</td><td>ge</td><td>hff1</td></tr>\n",
              "\t<tr><th scope=row>88</th><td> 6</td><td> 6.22</td><td>ge</td><td>hff1</td></tr>\n",
              "\t<tr><th scope=row>89</th><td> 6</td><td> 6.18</td><td>ge</td><td>hff1</td></tr>\n",
              "\t<tr><th scope=row>90</th><td> 6</td><td> 6.24</td><td>ge</td><td>hff1</td></tr>\n",
              "\t<tr><th scope=row>91</th><td> 7</td><td> 6.07</td><td>ge</td><td>hff1</td></tr>\n",
              "\t<tr><th scope=row>92</th><td> 7</td><td> 5.99</td><td>ge</td><td>hff1</td></tr>\n",
              "\t<tr><th scope=row>93</th><td> 7</td><td> 6.01</td><td>ge</td><td>hff1</td></tr>\n",
              "\t<tr><th scope=row>94</th><td> 8</td><td> 5.87</td><td>ge</td><td>hff1</td></tr>\n",
              "\t<tr><th scope=row>95</th><td> 8</td><td> 5.81</td><td>ge</td><td>hff1</td></tr>\n",
              "\t<tr><th scope=row>96</th><td> 8</td><td> 5.85</td><td>ge</td><td>hff1</td></tr>\n",
              "\t<tr><th scope=row>97</th><td>10</td><td> 5.70</td><td>ge</td><td>hff1</td></tr>\n",
              "\t<tr><th scope=row>98</th><td>10</td><td> 5.67</td><td>ge</td><td>hff1</td></tr>\n",
              "\t<tr><th scope=row>99</th><td>10</td><td> 5.73</td><td>ge</td><td>hff1</td></tr>\n",
              "\t<tr><th scope=row>100</th><td>20</td><td> 5.47</td><td>ge</td><td>hff1</td></tr>\n",
              "\t<tr><th scope=row>101</th><td>20</td><td> 5.47</td><td>ge</td><td>hff1</td></tr>\n",
              "\t<tr><th scope=row>102</th><td>20</td><td> 5.47</td><td>ge</td><td>hff1</td></tr>\n",
              "\t<tr><th scope=row>103</th><td>40</td><td> 5.45</td><td>ge</td><td>hff1</td></tr>\n",
              "\t<tr><th scope=row>104</th><td>40</td><td> 5.47</td><td>ge</td><td>hff1</td></tr>\n",
              "\t<tr><th scope=row>105</th><td>40</td><td> 5.42</td><td>ge</td><td>hff1</td></tr>\n",
              "\t<tr><th scope=row>106</th><td>60</td><td> 5.42</td><td>ge</td><td>hff1</td></tr>\n",
              "\t<tr><th scope=row>107</th><td>60</td><td> 5.39</td><td>ge</td><td>hff1</td></tr>\n",
              "\t<tr><th scope=row>108</th><td>60</td><td> 5.33</td><td>ge</td><td>hff1</td></tr>\n",
              "</tbody>\n",
              "</table>\n"
            ],
            "text/markdown": "\nA data.frame: 72 × 4\n\n| <!--/--> | ug/mL &lt;dbl&gt; | viabilidade &lt;dbl&gt; | metodo &lt;fct&gt; | linhagem &lt;fct&gt; |\n|---|---|---|---|---|\n| 1 |  1 | 106.79 | hlp_ge | hff1 |\n| 2 |  1 | 104.92 | hlp_ge | hff1 |\n| 3 |  1 | 104.67 | hlp_ge | hff1 |\n| 4 |  2 |  99.00 | hlp_ge | hff1 |\n| 5 |  2 |  95.12 | hlp_ge | hff1 |\n| 6 |  2 |  99.34 | hlp_ge | hff1 |\n| 7 |  3 |  98.53 | hlp_ge | hff1 |\n| 8 |  3 |  96.53 | hlp_ge | hff1 |\n| 9 |  3 |  97.87 | hlp_ge | hff1 |\n| 10 |  4 |  95.63 | hlp_ge | hff1 |\n| 11 |  4 |  97.81 | hlp_ge | hff1 |\n| 12 |  4 |  96.52 | hlp_ge | hff1 |\n| 13 |  5 |  90.30 | hlp_ge | hff1 |\n| 14 |  5 |  90.22 | hlp_ge | hff1 |\n| 15 |  5 |  91.08 | hlp_ge | hff1 |\n| 16 |  6 |  79.21 | hlp_ge | hff1 |\n| 17 |  6 |  80.59 | hlp_ge | hff1 |\n| 18 |  6 |  81.16 | hlp_ge | hff1 |\n| 19 |  7 |  54.89 | hlp_ge | hff1 |\n| 20 |  7 |  51.95 | hlp_ge | hff1 |\n| 21 |  7 |  54.64 | hlp_ge | hff1 |\n| 22 |  8 |  49.78 | hlp_ge | hff1 |\n| 23 |  8 |  49.89 | hlp_ge | hff1 |\n| 24 |  8 |  46.88 | hlp_ge | hff1 |\n| 25 | 10 |  28.43 | hlp_ge | hff1 |\n| 26 | 10 |  35.21 | hlp_ge | hff1 |\n| 27 | 10 |  26.78 | hlp_ge | hff1 |\n| 28 | 20 |   7.05 | hlp_ge | hff1 |\n| 29 | 20 |   7.21 | hlp_ge | hff1 |\n| 30 | 20 |   6.96 | hlp_ge | hff1 |\n| ⋮ | ⋮ | ⋮ | ⋮ | ⋮ |\n| 79 |  3 | 21.30 | ge | hff1 |\n| 80 |  3 | 18.45 | ge | hff1 |\n| 81 |  3 | 21.08 | ge | hff1 |\n| 82 |  4 | 11.74 | ge | hff1 |\n| 83 |  4 | 11.72 | ge | hff1 |\n| 84 |  4 | 11.86 | ge | hff1 |\n| 85 |  5 |  6.93 | ge | hff1 |\n| 86 |  5 |  6.96 | ge | hff1 |\n| 87 |  5 |  6.89 | ge | hff1 |\n| 88 |  6 |  6.22 | ge | hff1 |\n| 89 |  6 |  6.18 | ge | hff1 |\n| 90 |  6 |  6.24 | ge | hff1 |\n| 91 |  7 |  6.07 | ge | hff1 |\n| 92 |  7 |  5.99 | ge | hff1 |\n| 93 |  7 |  6.01 | ge | hff1 |\n| 94 |  8 |  5.87 | ge | hff1 |\n| 95 |  8 |  5.81 | ge | hff1 |\n| 96 |  8 |  5.85 | ge | hff1 |\n| 97 | 10 |  5.70 | ge | hff1 |\n| 98 | 10 |  5.67 | ge | hff1 |\n| 99 | 10 |  5.73 | ge | hff1 |\n| 100 | 20 |  5.47 | ge | hff1 |\n| 101 | 20 |  5.47 | ge | hff1 |\n| 102 | 20 |  5.47 | ge | hff1 |\n| 103 | 40 |  5.45 | ge | hff1 |\n| 104 | 40 |  5.47 | ge | hff1 |\n| 105 | 40 |  5.42 | ge | hff1 |\n| 106 | 60 |  5.42 | ge | hff1 |\n| 107 | 60 |  5.39 | ge | hff1 |\n| 108 | 60 |  5.33 | ge | hff1 |\n\n",
            "text/latex": "A data.frame: 72 × 4\n\\begin{tabular}{r|llll}\n  & ug/mL & viabilidade & metodo & linhagem\\\\\n  & <dbl> & <dbl> & <fct> & <fct>\\\\\n\\hline\n\t1 &  1 & 106.79 & hlp\\_ge & hff1\\\\\n\t2 &  1 & 104.92 & hlp\\_ge & hff1\\\\\n\t3 &  1 & 104.67 & hlp\\_ge & hff1\\\\\n\t4 &  2 &  99.00 & hlp\\_ge & hff1\\\\\n\t5 &  2 &  95.12 & hlp\\_ge & hff1\\\\\n\t6 &  2 &  99.34 & hlp\\_ge & hff1\\\\\n\t7 &  3 &  98.53 & hlp\\_ge & hff1\\\\\n\t8 &  3 &  96.53 & hlp\\_ge & hff1\\\\\n\t9 &  3 &  97.87 & hlp\\_ge & hff1\\\\\n\t10 &  4 &  95.63 & hlp\\_ge & hff1\\\\\n\t11 &  4 &  97.81 & hlp\\_ge & hff1\\\\\n\t12 &  4 &  96.52 & hlp\\_ge & hff1\\\\\n\t13 &  5 &  90.30 & hlp\\_ge & hff1\\\\\n\t14 &  5 &  90.22 & hlp\\_ge & hff1\\\\\n\t15 &  5 &  91.08 & hlp\\_ge & hff1\\\\\n\t16 &  6 &  79.21 & hlp\\_ge & hff1\\\\\n\t17 &  6 &  80.59 & hlp\\_ge & hff1\\\\\n\t18 &  6 &  81.16 & hlp\\_ge & hff1\\\\\n\t19 &  7 &  54.89 & hlp\\_ge & hff1\\\\\n\t20 &  7 &  51.95 & hlp\\_ge & hff1\\\\\n\t21 &  7 &  54.64 & hlp\\_ge & hff1\\\\\n\t22 &  8 &  49.78 & hlp\\_ge & hff1\\\\\n\t23 &  8 &  49.89 & hlp\\_ge & hff1\\\\\n\t24 &  8 &  46.88 & hlp\\_ge & hff1\\\\\n\t25 & 10 &  28.43 & hlp\\_ge & hff1\\\\\n\t26 & 10 &  35.21 & hlp\\_ge & hff1\\\\\n\t27 & 10 &  26.78 & hlp\\_ge & hff1\\\\\n\t28 & 20 &   7.05 & hlp\\_ge & hff1\\\\\n\t29 & 20 &   7.21 & hlp\\_ge & hff1\\\\\n\t30 & 20 &   6.96 & hlp\\_ge & hff1\\\\\n\t⋮ & ⋮ & ⋮ & ⋮ & ⋮\\\\\n\t79 &  3 & 21.30 & ge & hff1\\\\\n\t80 &  3 & 18.45 & ge & hff1\\\\\n\t81 &  3 & 21.08 & ge & hff1\\\\\n\t82 &  4 & 11.74 & ge & hff1\\\\\n\t83 &  4 & 11.72 & ge & hff1\\\\\n\t84 &  4 & 11.86 & ge & hff1\\\\\n\t85 &  5 &  6.93 & ge & hff1\\\\\n\t86 &  5 &  6.96 & ge & hff1\\\\\n\t87 &  5 &  6.89 & ge & hff1\\\\\n\t88 &  6 &  6.22 & ge & hff1\\\\\n\t89 &  6 &  6.18 & ge & hff1\\\\\n\t90 &  6 &  6.24 & ge & hff1\\\\\n\t91 &  7 &  6.07 & ge & hff1\\\\\n\t92 &  7 &  5.99 & ge & hff1\\\\\n\t93 &  7 &  6.01 & ge & hff1\\\\\n\t94 &  8 &  5.87 & ge & hff1\\\\\n\t95 &  8 &  5.81 & ge & hff1\\\\\n\t96 &  8 &  5.85 & ge & hff1\\\\\n\t97 & 10 &  5.70 & ge & hff1\\\\\n\t98 & 10 &  5.67 & ge & hff1\\\\\n\t99 & 10 &  5.73 & ge & hff1\\\\\n\t100 & 20 &  5.47 & ge & hff1\\\\\n\t101 & 20 &  5.47 & ge & hff1\\\\\n\t102 & 20 &  5.47 & ge & hff1\\\\\n\t103 & 40 &  5.45 & ge & hff1\\\\\n\t104 & 40 &  5.47 & ge & hff1\\\\\n\t105 & 40 &  5.42 & ge & hff1\\\\\n\t106 & 60 &  5.42 & ge & hff1\\\\\n\t107 & 60 &  5.39 & ge & hff1\\\\\n\t108 & 60 &  5.33 & ge & hff1\\\\\n\\end{tabular}\n",
            "text/plain": [
              "    ug/mL viabilidade metodo linhagem\n",
              "1    1    106.79      hlp_ge hff1    \n",
              "2    1    104.92      hlp_ge hff1    \n",
              "3    1    104.67      hlp_ge hff1    \n",
              "4    2     99.00      hlp_ge hff1    \n",
              "5    2     95.12      hlp_ge hff1    \n",
              "6    2     99.34      hlp_ge hff1    \n",
              "7    3     98.53      hlp_ge hff1    \n",
              "8    3     96.53      hlp_ge hff1    \n",
              "9    3     97.87      hlp_ge hff1    \n",
              "10   4     95.63      hlp_ge hff1    \n",
              "11   4     97.81      hlp_ge hff1    \n",
              "12   4     96.52      hlp_ge hff1    \n",
              "13   5     90.30      hlp_ge hff1    \n",
              "14   5     90.22      hlp_ge hff1    \n",
              "15   5     91.08      hlp_ge hff1    \n",
              "16   6     79.21      hlp_ge hff1    \n",
              "17   6     80.59      hlp_ge hff1    \n",
              "18   6     81.16      hlp_ge hff1    \n",
              "19   7     54.89      hlp_ge hff1    \n",
              "20   7     51.95      hlp_ge hff1    \n",
              "21   7     54.64      hlp_ge hff1    \n",
              "22   8     49.78      hlp_ge hff1    \n",
              "23   8     49.89      hlp_ge hff1    \n",
              "24   8     46.88      hlp_ge hff1    \n",
              "25  10     28.43      hlp_ge hff1    \n",
              "26  10     35.21      hlp_ge hff1    \n",
              "27  10     26.78      hlp_ge hff1    \n",
              "28  20      7.05      hlp_ge hff1    \n",
              "29  20      7.21      hlp_ge hff1    \n",
              "30  20      6.96      hlp_ge hff1    \n",
              "⋮   ⋮     ⋮           ⋮      ⋮       \n",
              "79   3    21.30       ge     hff1    \n",
              "80   3    18.45       ge     hff1    \n",
              "81   3    21.08       ge     hff1    \n",
              "82   4    11.74       ge     hff1    \n",
              "83   4    11.72       ge     hff1    \n",
              "84   4    11.86       ge     hff1    \n",
              "85   5     6.93       ge     hff1    \n",
              "86   5     6.96       ge     hff1    \n",
              "87   5     6.89       ge     hff1    \n",
              "88   6     6.22       ge     hff1    \n",
              "89   6     6.18       ge     hff1    \n",
              "90   6     6.24       ge     hff1    \n",
              "91   7     6.07       ge     hff1    \n",
              "92   7     5.99       ge     hff1    \n",
              "93   7     6.01       ge     hff1    \n",
              "94   8     5.87       ge     hff1    \n",
              "95   8     5.81       ge     hff1    \n",
              "96   8     5.85       ge     hff1    \n",
              "97  10     5.70       ge     hff1    \n",
              "98  10     5.67       ge     hff1    \n",
              "99  10     5.73       ge     hff1    \n",
              "100 20     5.47       ge     hff1    \n",
              "101 20     5.47       ge     hff1    \n",
              "102 20     5.47       ge     hff1    \n",
              "103 40     5.45       ge     hff1    \n",
              "104 40     5.47       ge     hff1    \n",
              "105 40     5.42       ge     hff1    \n",
              "106 60     5.42       ge     hff1    \n",
              "107 60     5.39       ge     hff1    \n",
              "108 60     5.33       ge     hff1    "
            ]
          },
          "metadata": {}
        }
      ]
    },
    {
      "cell_type": "markdown",
      "source": [
        "### Criar o diagrama de caixa (box plot) para os dois métodos em uma linhagem específica."
      ],
      "metadata": {
        "id": "7iFKBWPs4hyD"
      }
    },
    {
      "cell_type": "code",
      "source": [
        "colnames(df)[1] <- 'ug_mL'\n",
        "df$ug_mL <- as.factor(df$ug_mL)\n",
        "boxplot(viabilidade ~  ug_mL * metodo, data = df[df['linhagem']=='hff1',])"
      ],
      "metadata": {
        "colab": {
          "base_uri": "https://localhost:8080/",
          "height": 437
        },
        "id": "i6hErH5b4o6Q",
        "outputId": "04b90749-11c7-4945-be3a-ac24eb545c99"
      },
      "execution_count": 68,
      "outputs": [
        {
          "output_type": "display_data",
          "data": {
            "text/plain": [
              "plot without title"
            ],
            "image/png": "[encoded data removed]"
          },
          "metadata": {
            "image/png": {
              "width": 420,
              "height": 420
            }
          }
        }
      ]
    },
    {
      "cell_type": "markdown",
      "source": [
        "### Criar um diagram de interação. Graficamente parece não haver interação, aconteceria, por exemplo, se para uma concetração menor para um determinado método resultasse em maior viabilidade que outro método com uma concentração maior, mas aqui, aparentemente os dois métodos seguem uma resposta dependente da dose."
      ],
      "metadata": {
        "id": "R0K2uYeD4503"
      }
    },
    {
      "cell_type": "code",
      "source": [
        "df_hff1 = df[df['linhagem']=='hff1',]\n",
        "interaction.plot(df_hff1$ug_mL, df_hff1$metodo, df_hff1$viabilidade)"
      ],
      "metadata": {
        "colab": {
          "base_uri": "https://localhost:8080/",
          "height": 437
        },
        "id": "plGV_tml5uHJ",
        "outputId": "47115c50-552c-4b95-db81-fe81cd3c4799"
      },
      "execution_count": 69,
      "outputs": [
        {
          "output_type": "display_data",
          "data": {
            "text/plain": [
              "plot without title"
            ],
            "image/png": "[encoded data removed]"
          },
          "metadata": {
            "image/png": {
              "width": 420,
              "height": 420
            }
          }
        }
      ]
    },
    {
      "cell_type": "markdown",
      "source": [
        "### Como subselecionar em uma tabela os valores de viabilidade para um método e uma contração específicas."
      ],
      "metadata": {
        "id": "EfJ9n0rG6q0Y"
      }
    },
    {
      "cell_type": "code",
      "source": [
        "df_hff1[df_hff1$metodo=='hlp_ge' & df_hff1$ug_mL==1, 'viabilidade']"
      ],
      "metadata": {
        "colab": {
          "base_uri": "https://localhost:8080/",
          "height": 34
        },
        "id": "xf6Xw6ZI7iGO",
        "outputId": "7f463ec0-a455-4fb8-f524-9afd224aa5b7"
      },
      "execution_count": 70,
      "outputs": [
        {
          "output_type": "display_data",
          "data": {
            "text/html": [
              "<style>\n",
              ".list-inline {list-style: none; margin:0; padding: 0}\n",
              ".list-inline>li {display: inline-block}\n",
              ".list-inline>li:not(:last-child)::after {content: \"\\00b7\"; padding: 0 .5ex}\n",
              "</style>\n",
              "<ol class=list-inline><li>106.79</li><li>104.92</li><li>104.67</li></ol>\n"
            ],
            "text/markdown": "1. 106.79\n2. 104.92\n3. 104.67\n\n\n",
            "text/latex": "\\begin{enumerate*}\n\\item 106.79\n\\item 104.92\n\\item 104.67\n\\end{enumerate*}\n",
            "text/plain": [
              "[1] 106.79 104.92 104.67"
            ]
          },
          "metadata": {}
        }
      ]
    },
    {
      "cell_type": "markdown",
      "source": [
        "### Quando não rejeitamos a hipótese de nulidade para distribuição normal, assumimos que nossos dados se assemelham a uma distribuição normal. Aparentemente os dados se ajustam a uma distribuição normal, mas a amostra é muito pequena, devemos ter cautela."
      ],
      "metadata": {
        "id": "Y56nJdCz69V6"
      }
    },
    {
      "cell_type": "code",
      "source": [
        "?shapiro.test"
      ],
      "metadata": {
        "id": "krtDs-xo8oUb"
      },
      "execution_count": 5,
      "outputs": []
    },
    {
      "cell_type": "code",
      "source": [
        "# Validação de pressupostos\n",
        "# Normalidade\n",
        "# https://en.wikipedia.org/wiki/Shapiro%E2%80%93Wilk_test\n",
        "shapiro.test(df_hff1[df_hff1$metodo=='hlp_ge' & df_hff1$ug_mL==1, 'viabilidade'])"
      ],
      "metadata": {
        "colab": {
          "base_uri": "https://localhost:8080/",
          "height": 104
        },
        "id": "HTkscCiP7iFd",
        "outputId": "99d38970-a93f-415e-f7fb-65e3a551816d"
      },
      "execution_count": 71,
      "outputs": [
        {
          "output_type": "display_data",
          "data": {
            "text/plain": [
              "\n",
              "\tShapiro-Wilk normality test\n",
              "\n",
              "data:  df_hff1[df_hff1$metodo == \"hlp_ge\" & df_hff1$ug_mL == 1, \"viabilidade\"]\n",
              "W = 0.83707, p-value = 0.2065\n"
            ]
          },
          "metadata": {}
        }
      ]
    },
    {
      "cell_type": "markdown",
      "source": [
        "### Mesmo racional para homogeneidade de variâncias. Aqui fica mais complicado, pois são muitos grupos, e para alguns há variabilidade diferente, então esse pressuposto não é atendido. De qualquer forma podemos inspecionar os resultados da análise de variância como uma evidência preliminar."
      ],
      "metadata": {
        "id": "uw1zw7Dp7cGU"
      }
    },
    {
      "cell_type": "code",
      "source": [
        "# Homogeneidade:\n",
        "#https://en.wikipedia.org/wiki/Bartlett%27s_test\n",
        "?bartlett.test"
      ],
      "metadata": {
        "id": "iqOjTVdx8f33"
      },
      "execution_count": 14,
      "outputs": []
    },
    {
      "cell_type": "code",
      "source": [
        "df_hff1[df_hff1$ug_mL==1,]"
      ],
      "metadata": {
        "colab": {
          "base_uri": "https://localhost:8080/",
          "height": 286
        },
        "id": "-Nwlab4x9tTV",
        "outputId": "44e6fcff-a62a-4a09-f28b-88072c930782"
      },
      "execution_count": 72,
      "outputs": [
        {
          "output_type": "display_data",
          "data": {
            "text/html": [
              "<table class=\"dataframe\">\n",
              "<caption>A data.frame: 6 × 4</caption>\n",
              "<thead>\n",
              "\t<tr><th></th><th scope=col>ug_mL</th><th scope=col>viabilidade</th><th scope=col>metodo</th><th scope=col>linhagem</th></tr>\n",
              "\t<tr><th></th><th scope=col>&lt;fct&gt;</th><th scope=col>&lt;dbl&gt;</th><th scope=col>&lt;fct&gt;</th><th scope=col>&lt;fct&gt;</th></tr>\n",
              "</thead>\n",
              "<tbody>\n",
              "\t<tr><th scope=row>1</th><td>1</td><td>106.79</td><td>hlp_ge</td><td>hff1</td></tr>\n",
              "\t<tr><th scope=row>2</th><td>1</td><td>104.92</td><td>hlp_ge</td><td>hff1</td></tr>\n",
              "\t<tr><th scope=row>3</th><td>1</td><td>104.67</td><td>hlp_ge</td><td>hff1</td></tr>\n",
              "\t<tr><th scope=row>73</th><td>1</td><td> 94.98</td><td>ge    </td><td>hff1</td></tr>\n",
              "\t<tr><th scope=row>74</th><td>1</td><td> 95.95</td><td>ge    </td><td>hff1</td></tr>\n",
              "\t<tr><th scope=row>75</th><td>1</td><td> 95.10</td><td>ge    </td><td>hff1</td></tr>\n",
              "</tbody>\n",
              "</table>\n"
            ],
            "text/markdown": "\nA data.frame: 6 × 4\n\n| <!--/--> | ug_mL &lt;fct&gt; | viabilidade &lt;dbl&gt; | metodo &lt;fct&gt; | linhagem &lt;fct&gt; |\n|---|---|---|---|---|\n| 1 | 1 | 106.79 | hlp_ge | hff1 |\n| 2 | 1 | 104.92 | hlp_ge | hff1 |\n| 3 | 1 | 104.67 | hlp_ge | hff1 |\n| 73 | 1 |  94.98 | ge     | hff1 |\n| 74 | 1 |  95.95 | ge     | hff1 |\n| 75 | 1 |  95.10 | ge     | hff1 |\n\n",
            "text/latex": "A data.frame: 6 × 4\n\\begin{tabular}{r|llll}\n  & ug\\_mL & viabilidade & metodo & linhagem\\\\\n  & <fct> & <dbl> & <fct> & <fct>\\\\\n\\hline\n\t1 & 1 & 106.79 & hlp\\_ge & hff1\\\\\n\t2 & 1 & 104.92 & hlp\\_ge & hff1\\\\\n\t3 & 1 & 104.67 & hlp\\_ge & hff1\\\\\n\t73 & 1 &  94.98 & ge     & hff1\\\\\n\t74 & 1 &  95.95 & ge     & hff1\\\\\n\t75 & 1 &  95.10 & ge     & hff1\\\\\n\\end{tabular}\n",
            "text/plain": [
              "   ug_mL viabilidade metodo linhagem\n",
              "1  1     106.79      hlp_ge hff1    \n",
              "2  1     104.92      hlp_ge hff1    \n",
              "3  1     104.67      hlp_ge hff1    \n",
              "73 1      94.98      ge     hff1    \n",
              "74 1      95.95      ge     hff1    \n",
              "75 1      95.10      ge     hff1    "
            ]
          },
          "metadata": {}
        }
      ]
    },
    {
      "cell_type": "code",
      "source": [
        "length(unique(df_hff1$ug_mL))"
      ],
      "metadata": {
        "colab": {
          "base_uri": "https://localhost:8080/",
          "height": 34
        },
        "id": "m1fS1fQd-Umo",
        "outputId": "546476b8-db24-4356-e473-6f4a61055390"
      },
      "execution_count": 73,
      "outputs": [
        {
          "output_type": "display_data",
          "data": {
            "text/html": [
              "12"
            ],
            "text/markdown": "12",
            "text/latex": "12",
            "text/plain": [
              "[1] 12"
            ]
          },
          "metadata": {}
        }
      ]
    },
    {
      "cell_type": "code",
      "source": [
        "length(rep(1:24, each=3))"
      ],
      "metadata": {
        "colab": {
          "base_uri": "https://localhost:8080/",
          "height": 34
        },
        "id": "a-r9IKUb-gp4",
        "outputId": "3247fd12-7aa0-45c1-d505-6feeb5324a84"
      },
      "execution_count": 74,
      "outputs": [
        {
          "output_type": "display_data",
          "data": {
            "text/html": [
              "72"
            ],
            "text/markdown": "72",
            "text/latex": "72",
            "text/plain": [
              "[1] 72"
            ]
          },
          "metadata": {}
        }
      ]
    },
    {
      "cell_type": "code",
      "source": [
        "dim(df_hff1)"
      ],
      "metadata": {
        "colab": {
          "base_uri": "https://localhost:8080/",
          "height": 34
        },
        "id": "lzR_0ULJB_u8",
        "outputId": "b85b1d8c-e72b-48c3-8d02-e01246725982"
      },
      "execution_count": 75,
      "outputs": [
        {
          "output_type": "display_data",
          "data": {
            "text/html": [
              "<style>\n",
              ".list-inline {list-style: none; margin:0; padding: 0}\n",
              ".list-inline>li {display: inline-block}\n",
              ".list-inline>li:not(:last-child)::after {content: \"\\00b7\"; padding: 0 .5ex}\n",
              "</style>\n",
              "<ol class=list-inline><li>72</li><li>4</li></ol>\n"
            ],
            "text/markdown": "1. 72\n2. 4\n\n\n",
            "text/latex": "\\begin{enumerate*}\n\\item 72\n\\item 4\n\\end{enumerate*}\n",
            "text/plain": [
              "[1] 72  4"
            ]
          },
          "metadata": {}
        }
      ]
    },
    {
      "cell_type": "code",
      "source": [
        "df_hff1$rep <- rep(1:24, each=3)\n",
        "head(df_hff1)"
      ],
      "metadata": {
        "colab": {
          "base_uri": "https://localhost:8080/",
          "height": 286
        },
        "id": "Sa4q_DvM-qD3",
        "outputId": "9a8d2b99-ec3c-41b0-c301-5820aaf54c06"
      },
      "execution_count": 76,
      "outputs": [
        {
          "output_type": "display_data",
          "data": {
            "text/html": [
              "<table class=\"dataframe\">\n",
              "<caption>A data.frame: 6 × 5</caption>\n",
              "<thead>\n",
              "\t<tr><th></th><th scope=col>ug_mL</th><th scope=col>viabilidade</th><th scope=col>metodo</th><th scope=col>linhagem</th><th scope=col>rep</th></tr>\n",
              "\t<tr><th></th><th scope=col>&lt;fct&gt;</th><th scope=col>&lt;dbl&gt;</th><th scope=col>&lt;fct&gt;</th><th scope=col>&lt;fct&gt;</th><th scope=col>&lt;int&gt;</th></tr>\n",
              "</thead>\n",
              "<tbody>\n",
              "\t<tr><th scope=row>1</th><td>1</td><td>106.79</td><td>hlp_ge</td><td>hff1</td><td>1</td></tr>\n",
              "\t<tr><th scope=row>2</th><td>1</td><td>104.92</td><td>hlp_ge</td><td>hff1</td><td>1</td></tr>\n",
              "\t<tr><th scope=row>3</th><td>1</td><td>104.67</td><td>hlp_ge</td><td>hff1</td><td>1</td></tr>\n",
              "\t<tr><th scope=row>4</th><td>2</td><td> 99.00</td><td>hlp_ge</td><td>hff1</td><td>2</td></tr>\n",
              "\t<tr><th scope=row>5</th><td>2</td><td> 95.12</td><td>hlp_ge</td><td>hff1</td><td>2</td></tr>\n",
              "\t<tr><th scope=row>6</th><td>2</td><td> 99.34</td><td>hlp_ge</td><td>hff1</td><td>2</td></tr>\n",
              "</tbody>\n",
              "</table>\n"
            ],
            "text/markdown": "\nA data.frame: 6 × 5\n\n| <!--/--> | ug_mL &lt;fct&gt; | viabilidade &lt;dbl&gt; | metodo &lt;fct&gt; | linhagem &lt;fct&gt; | rep &lt;int&gt; |\n|---|---|---|---|---|---|\n| 1 | 1 | 106.79 | hlp_ge | hff1 | 1 |\n| 2 | 1 | 104.92 | hlp_ge | hff1 | 1 |\n| 3 | 1 | 104.67 | hlp_ge | hff1 | 1 |\n| 4 | 2 |  99.00 | hlp_ge | hff1 | 2 |\n| 5 | 2 |  95.12 | hlp_ge | hff1 | 2 |\n| 6 | 2 |  99.34 | hlp_ge | hff1 | 2 |\n\n",
            "text/latex": "A data.frame: 6 × 5\n\\begin{tabular}{r|lllll}\n  & ug\\_mL & viabilidade & metodo & linhagem & rep\\\\\n  & <fct> & <dbl> & <fct> & <fct> & <int>\\\\\n\\hline\n\t1 & 1 & 106.79 & hlp\\_ge & hff1 & 1\\\\\n\t2 & 1 & 104.92 & hlp\\_ge & hff1 & 1\\\\\n\t3 & 1 & 104.67 & hlp\\_ge & hff1 & 1\\\\\n\t4 & 2 &  99.00 & hlp\\_ge & hff1 & 2\\\\\n\t5 & 2 &  95.12 & hlp\\_ge & hff1 & 2\\\\\n\t6 & 2 &  99.34 & hlp\\_ge & hff1 & 2\\\\\n\\end{tabular}\n",
            "text/plain": [
              "  ug_mL viabilidade metodo linhagem rep\n",
              "1 1     106.79      hlp_ge hff1     1  \n",
              "2 1     104.92      hlp_ge hff1     1  \n",
              "3 1     104.67      hlp_ge hff1     1  \n",
              "4 2      99.00      hlp_ge hff1     2  \n",
              "5 2      95.12      hlp_ge hff1     2  \n",
              "6 2      99.34      hlp_ge hff1     2  "
            ]
          },
          "metadata": {}
        }
      ]
    },
    {
      "cell_type": "code",
      "source": [
        "bartlett.test(viabilidade ~ rep, data = df_hff1)"
      ],
      "metadata": {
        "colab": {
          "base_uri": "https://localhost:8080/",
          "height": 104
        },
        "id": "3Qx4t377-74I",
        "outputId": "d45b1874-3706-4733-b01b-cde898e020ec"
      },
      "execution_count": 77,
      "outputs": [
        {
          "output_type": "display_data",
          "data": {
            "text/plain": [
              "\n",
              "\tBartlett test of homogeneity of variances\n",
              "\n",
              "data:  viabilidade by rep\n",
              "Bartlett's K-squared = Inf, df = 23, p-value < 2.2e-16\n"
            ]
          },
          "metadata": {}
        }
      ]
    },
    {
      "cell_type": "code",
      "source": [
        "bartlett.test(viabilidade ~ rep, data = df_hff1[df_hff1$metodo=='hlp_ge',])"
      ],
      "metadata": {
        "colab": {
          "base_uri": "https://localhost:8080/",
          "height": 104
        },
        "id": "0O6WNMHV8RLU",
        "outputId": "571c486c-97ef-48b5-a36a-44057d68e6cb"
      },
      "execution_count": 78,
      "outputs": [
        {
          "output_type": "display_data",
          "data": {
            "text/plain": [
              "\n",
              "\tBartlett test of homogeneity of variances\n",
              "\n",
              "data:  viabilidade by rep\n",
              "Bartlett's K-squared = 38.715, df = 11, p-value = 5.922e-05\n"
            ]
          },
          "metadata": {}
        }
      ]
    },
    {
      "cell_type": "markdown",
      "source": [
        "### A anova para dois fatores indica que o método utilizado (hlp_ge e ge, a concentração, bem como a interação entre os dois são significativos. Como visto graficamente, não temos evidência forte de interação."
      ],
      "metadata": {
        "id": "Dj_aE4u89TIL"
      }
    },
    {
      "cell_type": "code",
      "source": [
        "anova(lm(viabilidade ~  ug_mL * metodo,data=df_hff1))"
      ],
      "metadata": {
        "colab": {
          "base_uri": "https://localhost:8080/",
          "height": 224
        },
        "id": "mnlijejv_sCf",
        "outputId": "f950ddae-699c-4335-c561-3e52cf09be6c"
      },
      "execution_count": 79,
      "outputs": [
        {
          "output_type": "display_data",
          "data": {
            "text/html": [
              "<table class=\"dataframe\">\n",
              "<caption>A anova: 4 × 5</caption>\n",
              "<thead>\n",
              "\t<tr><th></th><th scope=col>Df</th><th scope=col>Sum Sq</th><th scope=col>Mean Sq</th><th scope=col>F value</th><th scope=col>Pr(&gt;F)</th></tr>\n",
              "\t<tr><th></th><th scope=col>&lt;int&gt;</th><th scope=col>&lt;dbl&gt;</th><th scope=col>&lt;dbl&gt;</th><th scope=col>&lt;dbl&gt;</th><th scope=col>&lt;dbl&gt;</th></tr>\n",
              "</thead>\n",
              "<tbody>\n",
              "\t<tr><th scope=row>ug_mL</th><td>11</td><td>70184.85617</td><td> 6380.441470</td><td> 3925.171</td><td>6.194409e-67</td></tr>\n",
              "\t<tr><th scope=row>metodo</th><td> 1</td><td>25447.30400</td><td>25447.304001</td><td>15654.875</td><td>5.081422e-62</td></tr>\n",
              "\t<tr><th scope=row>ug_mL:metodo</th><td>11</td><td>20327.66118</td><td> 1847.969198</td><td> 1136.848</td><td>4.723800e-54</td></tr>\n",
              "\t<tr><th scope=row>Residuals</th><td>48</td><td>   78.02493</td><td>    1.625519</td><td>       NA</td><td>          NA</td></tr>\n",
              "</tbody>\n",
              "</table>\n"
            ],
            "text/markdown": "\nA anova: 4 × 5\n\n| <!--/--> | Df &lt;int&gt; | Sum Sq &lt;dbl&gt; | Mean Sq &lt;dbl&gt; | F value &lt;dbl&gt; | Pr(&gt;F) &lt;dbl&gt; |\n|---|---|---|---|---|---|\n| ug_mL | 11 | 70184.85617 |  6380.441470 |  3925.171 | 6.194409e-67 |\n| metodo |  1 | 25447.30400 | 25447.304001 | 15654.875 | 5.081422e-62 |\n| ug_mL:metodo | 11 | 20327.66118 |  1847.969198 |  1136.848 | 4.723800e-54 |\n| Residuals | 48 |    78.02493 |     1.625519 |        NA |           NA |\n\n",
            "text/latex": "A anova: 4 × 5\n\\begin{tabular}{r|lllll}\n  & Df & Sum Sq & Mean Sq & F value & Pr(>F)\\\\\n  & <int> & <dbl> & <dbl> & <dbl> & <dbl>\\\\\n\\hline\n\tug\\_mL & 11 & 70184.85617 &  6380.441470 &  3925.171 & 6.194409e-67\\\\\n\tmetodo &  1 & 25447.30400 & 25447.304001 & 15654.875 & 5.081422e-62\\\\\n\tug\\_mL:metodo & 11 & 20327.66118 &  1847.969198 &  1136.848 & 4.723800e-54\\\\\n\tResiduals & 48 &    78.02493 &     1.625519 &        NA &           NA\\\\\n\\end{tabular}\n",
            "text/plain": [
              "             Df Sum Sq      Mean Sq      F value   Pr(>F)      \n",
              "ug_mL        11 70184.85617  6380.441470  3925.171 6.194409e-67\n",
              "metodo        1 25447.30400 25447.304001 15654.875 5.081422e-62\n",
              "ug_mL:metodo 11 20327.66118  1847.969198  1136.848 4.723800e-54\n",
              "Residuals    48    78.02493     1.625519        NA           NA"
            ]
          },
          "metadata": {}
        }
      ]
    },
    {
      "cell_type": "markdown",
      "source": [
        "### Fazer o teste de Tukey para todas as concentrações dentro de cada método."
      ],
      "metadata": {
        "id": "zyczMlx_969m"
      }
    },
    {
      "cell_type": "code",
      "source": [
        "df_hff1$ug_mL <- as.factor(df_hff1$ug_mL)"
      ],
      "metadata": {
        "id": "VoL12JB3A3uC"
      },
      "execution_count": 80,
      "outputs": []
    },
    {
      "cell_type": "code",
      "source": [
        "TukeyHSD(aov(lm(viabilidade~ug_mL,data=df_hff1[df_hff1$metodo=='hlp_ge',])))"
      ],
      "metadata": {
        "colab": {
          "base_uri": "https://localhost:8080/",
          "height": 1000
        },
        "id": "cAqJyMg__5Bl",
        "outputId": "8527cf60-31ff-43b0-dadb-48aecfe4fb9f"
      },
      "execution_count": 81,
      "outputs": [
        {
          "output_type": "display_data",
          "data": {
            "text/plain": [
              "  Tukey multiple comparisons of means\n",
              "    95% family-wise confidence level\n",
              "\n",
              "Fit: aov(formula = lm(viabilidade ~ ug_mL, data = df_hff1[df_hff1$metodo == \"hlp_ge\", ]))\n",
              "\n",
              "$ug_mL\n",
              "             diff         lwr         upr     p adj\n",
              "2-1    -7.6400000  -12.729681  -2.5503194 0.0007259\n",
              "3-1    -7.8166667  -12.906347  -2.7269861 0.0005367\n",
              "4-1    -8.8066667  -13.896347  -3.7169861 0.0001000\n",
              "5-1   -14.9266667  -20.016347  -9.8369861 0.0000000\n",
              "6-1   -25.1400000  -30.229681 -20.0503194 0.0000000\n",
              "7-1   -51.6333333  -56.723014 -46.5436528 0.0000000\n",
              "8-1   -56.6100000  -61.699681 -51.5203194 0.0000000\n",
              "10-1  -75.3200000  -80.409681 -70.2303194 0.0000000\n",
              "20-1  -98.3866667 -103.476347 -93.2969861 0.0000000\n",
              "40-1  -98.9666667 -104.056347 -93.8769861 0.0000000\n",
              "60-1  -99.2800000 -104.369681 -94.1903194 0.0000000\n",
              "3-2    -0.1766667   -5.266347   4.9130139 1.0000000\n",
              "4-2    -1.1666667   -6.256347   3.9230139 0.9992831\n",
              "5-2    -7.2866667  -12.376347  -2.1969861 0.0013286\n",
              "6-2   -17.5000000  -22.589681 -12.4103194 0.0000000\n",
              "7-2   -43.9933333  -49.083014 -38.9036528 0.0000000\n",
              "8-2   -48.9700000  -54.059681 -43.8803194 0.0000000\n",
              "10-2  -67.6800000  -72.769681 -62.5903194 0.0000000\n",
              "20-2  -90.7466667  -95.836347 -85.6569861 0.0000000\n",
              "40-2  -91.3266667  -96.416347 -86.2369861 0.0000000\n",
              "60-2  -91.6400000  -96.729681 -86.5503194 0.0000000\n",
              "4-3    -0.9900000   -6.079681   4.0996806 0.9998459\n",
              "5-3    -7.1100000  -12.199681  -2.0203194 0.0017969\n",
              "6-3   -17.3233333  -22.413014 -12.2336528 0.0000000\n",
              "7-3   -43.8166667  -48.906347 -38.7269861 0.0000000\n",
              "8-3   -48.7933333  -53.883014 -43.7036528 0.0000000\n",
              "10-3  -67.5033333  -72.593014 -62.4136528 0.0000000\n",
              "20-3  -90.5700000  -95.659681 -85.4803194 0.0000000\n",
              "40-3  -91.1500000  -96.239681 -86.0603194 0.0000000\n",
              "60-3  -91.4633333  -96.553014 -86.3736528 0.0000000\n",
              "5-4    -6.1200000  -11.209681  -1.0303194 0.0095793\n",
              "6-4   -16.3333333  -21.423014 -11.2436528 0.0000000\n",
              "7-4   -42.8266667  -47.916347 -37.7369861 0.0000000\n",
              "8-4   -47.8033333  -52.893014 -42.7136528 0.0000000\n",
              "10-4  -66.5133333  -71.603014 -61.4236528 0.0000000\n",
              "20-4  -89.5800000  -94.669681 -84.4903194 0.0000000\n",
              "40-4  -90.1600000  -95.249681 -85.0703194 0.0000000\n",
              "60-4  -90.4733333  -95.563014 -85.3836528 0.0000000\n",
              "6-5   -10.2133333  -15.303014  -5.1236528 0.0000098\n",
              "7-5   -36.7066667  -41.796347 -31.6169861 0.0000000\n",
              "8-5   -41.6833333  -46.773014 -36.5936528 0.0000000\n",
              "10-5  -60.3933333  -65.483014 -55.3036528 0.0000000\n",
              "20-5  -83.4600000  -88.549681 -78.3703194 0.0000000\n",
              "40-5  -84.0400000  -89.129681 -78.9503194 0.0000000\n",
              "60-5  -84.3533333  -89.443014 -79.2636528 0.0000000\n",
              "7-6   -26.4933333  -31.583014 -21.4036528 0.0000000\n",
              "8-6   -31.4700000  -36.559681 -26.3803194 0.0000000\n",
              "10-6  -50.1800000  -55.269681 -45.0903194 0.0000000\n",
              "20-6  -73.2466667  -78.336347 -68.1569861 0.0000000\n",
              "40-6  -73.8266667  -78.916347 -68.7369861 0.0000000\n",
              "60-6  -74.1400000  -79.229681 -69.0503194 0.0000000\n",
              "8-7    -4.9766667  -10.066347   0.1130139 0.0593348\n",
              "10-7  -23.6866667  -28.776347 -18.5969861 0.0000000\n",
              "20-7  -46.7533333  -51.843014 -41.6636528 0.0000000\n",
              "40-7  -47.3333333  -52.423014 -42.2436528 0.0000000\n",
              "60-7  -47.6466667  -52.736347 -42.5569861 0.0000000\n",
              "10-8  -18.7100000  -23.799681 -13.6203194 0.0000000\n",
              "20-8  -41.7766667  -46.866347 -36.6869861 0.0000000\n",
              "40-8  -42.3566667  -47.446347 -37.2669861 0.0000000\n",
              "60-8  -42.6700000  -47.759681 -37.5803194 0.0000000\n",
              "20-10 -23.0666667  -28.156347 -17.9769861 0.0000000\n",
              "40-10 -23.6466667  -28.736347 -18.5569861 0.0000000\n",
              "60-10 -23.9600000  -29.049681 -18.8703194 0.0000000\n",
              "40-20  -0.5800000   -5.669681   4.5096806 0.9999993\n",
              "60-20  -0.8933333   -5.983014   4.1963472 0.9999432\n",
              "60-40  -0.3133333   -5.403014   4.7763472 1.0000000\n"
            ]
          },
          "metadata": {}
        }
      ]
    },
    {
      "cell_type": "code",
      "source": [
        "TukeyHSD(aov(lm(viabilidade~ug_mL,data=df_hff1[df_hff1$metodo=='ge',])))"
      ],
      "metadata": {
        "colab": {
          "base_uri": "https://localhost:8080/",
          "height": 1000
        },
        "id": "mxKW-qM6AcTm",
        "outputId": "5ca488ce-47bd-4b8d-d296-523a570df398"
      },
      "execution_count": 82,
      "outputs": [
        {
          "output_type": "display_data",
          "data": {
            "text/plain": [
              "  Tukey multiple comparisons of means\n",
              "    95% family-wise confidence level\n",
              "\n",
              "Fit: aov(formula = lm(viabilidade ~ ug_mL, data = df_hff1[df_hff1$metodo == \"ge\", ]))\n",
              "\n",
              "$ug_mL\n",
              "              diff        lwr          upr     p adj\n",
              "2-1     0.05666667  -1.450662   1.56399572 1.0000000\n",
              "3-1   -75.06666667 -76.573996 -73.55933762 0.0000000\n",
              "4-1   -83.57000000 -85.077329 -82.06267095 0.0000000\n",
              "5-1   -88.41666667 -89.923996 -86.90933762 0.0000000\n",
              "6-1   -89.13000000 -90.637329 -87.62267095 0.0000000\n",
              "7-1   -89.32000000 -90.827329 -87.81267095 0.0000000\n",
              "8-1   -89.50000000 -91.007329 -87.99267095 0.0000000\n",
              "10-1  -89.64333333 -91.150662 -88.13600428 0.0000000\n",
              "20-1  -89.87333333 -91.380662 -88.36600428 0.0000000\n",
              "40-1  -89.89666667 -91.403996 -88.38933762 0.0000000\n",
              "60-1  -89.96333333 -91.470662 -88.45600428 0.0000000\n",
              "3-2   -75.12333333 -76.630662 -73.61600428 0.0000000\n",
              "4-2   -83.62666667 -85.133996 -82.11933762 0.0000000\n",
              "5-2   -88.47333333 -89.980662 -86.96600428 0.0000000\n",
              "6-2   -89.18666667 -90.693996 -87.67933762 0.0000000\n",
              "7-2   -89.37666667 -90.883996 -87.86933762 0.0000000\n",
              "8-2   -89.55666667 -91.063996 -88.04933762 0.0000000\n",
              "10-2  -89.70000000 -91.207329 -88.19267095 0.0000000\n",
              "20-2  -89.93000000 -91.437329 -88.42267095 0.0000000\n",
              "40-2  -89.95333333 -91.460662 -88.44600428 0.0000000\n",
              "60-2  -90.02000000 -91.527329 -88.51267095 0.0000000\n",
              "4-3    -8.50333333 -10.010662  -6.99600428 0.0000000\n",
              "5-3   -13.35000000 -14.857329 -11.84267095 0.0000000\n",
              "6-3   -14.06333333 -15.570662 -12.55600428 0.0000000\n",
              "7-3   -14.25333333 -15.760662 -12.74600428 0.0000000\n",
              "8-3   -14.43333333 -15.940662 -12.92600428 0.0000000\n",
              "10-3  -14.57666667 -16.083996 -13.06933762 0.0000000\n",
              "20-3  -14.80666667 -16.313996 -13.29933762 0.0000000\n",
              "40-3  -14.83000000 -16.337329 -13.32267095 0.0000000\n",
              "60-3  -14.89666667 -16.403996 -13.38933762 0.0000000\n",
              "5-4    -4.84666667  -6.353996  -3.33933762 0.0000000\n",
              "6-4    -5.56000000  -7.067329  -4.05267095 0.0000000\n",
              "7-4    -5.75000000  -7.257329  -4.24267095 0.0000000\n",
              "8-4    -5.93000000  -7.437329  -4.42267095 0.0000000\n",
              "10-4   -6.07333333  -7.580662  -4.56600428 0.0000000\n",
              "20-4   -6.30333333  -7.810662  -4.79600428 0.0000000\n",
              "40-4   -6.32666667  -7.833996  -4.81933762 0.0000000\n",
              "60-4   -6.39333333  -7.900662  -4.88600428 0.0000000\n",
              "6-5    -0.71333333  -2.220662   0.79399572 0.8486310\n",
              "7-5    -0.90333333  -2.410662   0.60399572 0.5891355\n",
              "8-5    -1.08333333  -2.590662   0.42399572 0.3364372\n",
              "10-5   -1.22666667  -2.733996   0.28066238 0.1904040\n",
              "20-5   -1.45666667  -2.963996   0.05066238 0.0647218\n",
              "40-5   -1.48000000  -2.987329   0.02732905 0.0575116\n",
              "60-5   -1.54666667  -3.053996  -0.03933762 0.0407596\n",
              "7-6    -0.19000000  -1.697329   1.31732905 0.9999980\n",
              "8-6    -0.37000000  -1.877329   1.13732905 0.9986730\n",
              "10-6   -0.51333333  -2.020662   0.99399572 0.9808375\n",
              "20-6   -0.74333333  -2.250662   0.76399572 0.8141730\n",
              "40-6   -0.76666667  -2.273996   0.74066238 0.7850897\n",
              "60-6   -0.83333333  -2.340662   0.67399572 0.6933428\n",
              "8-7    -0.18000000  -1.687329   1.32732905 0.9999989\n",
              "10-7   -0.32333333  -1.830662   1.18399572 0.9996111\n",
              "20-7   -0.55333333  -2.060662   0.95399572 0.9673290\n",
              "40-7   -0.57666667  -2.083996   0.93066238 0.9568156\n",
              "60-7   -0.64333333  -2.150662   0.86399572 0.9143489\n",
              "10-8   -0.14333333  -1.650662   1.36399572 0.9999999\n",
              "20-8   -0.37333333  -1.880662   1.13399572 0.9985634\n",
              "40-8   -0.39666667  -1.903996   1.11066238 0.9975629\n",
              "60-8   -0.46333333  -1.970662   1.04399572 0.9912173\n",
              "20-10  -0.23000000  -1.737329   1.27732905 0.9999860\n",
              "40-10  -0.25333333  -1.760662   1.25399572 0.9999630\n",
              "60-10  -0.32000000  -1.827329   1.18732905 0.9996469\n",
              "40-20  -0.02333333  -1.530662   1.48399572 1.0000000\n",
              "60-20  -0.09000000  -1.597329   1.41732905 1.0000000\n",
              "60-40  -0.06666667  -1.573996   1.44066238 1.0000000\n"
            ]
          },
          "metadata": {}
        }
      ]
    },
    {
      "cell_type": "markdown",
      "source": [
        "### Fazer todas as comparações entre os métodos dentro da mesma concentração."
      ],
      "metadata": {
        "id": "3T3raNWO9_Z9"
      }
    },
    {
      "cell_type": "code",
      "source": [
        "?t.test"
      ],
      "metadata": {
        "id": "XXi7E9v7zRht"
      },
      "execution_count": 18,
      "outputs": []
    },
    {
      "cell_type": "code",
      "source": [
        "df_hff1[df_hff1$metodo=='ge' & df_hff1$ug_mL==1,]"
      ],
      "metadata": {
        "colab": {
          "base_uri": "https://localhost:8080/",
          "height": 192
        },
        "id": "X0Sjvabxzys6",
        "outputId": "4bb940af-0a5b-4cdd-a162-64d59b9ccf49"
      },
      "execution_count": 83,
      "outputs": [
        {
          "output_type": "display_data",
          "data": {
            "text/html": [
              "<table class=\"dataframe\">\n",
              "<caption>A data.frame: 3 × 5</caption>\n",
              "<thead>\n",
              "\t<tr><th></th><th scope=col>ug_mL</th><th scope=col>viabilidade</th><th scope=col>metodo</th><th scope=col>linhagem</th><th scope=col>rep</th></tr>\n",
              "\t<tr><th></th><th scope=col>&lt;fct&gt;</th><th scope=col>&lt;dbl&gt;</th><th scope=col>&lt;fct&gt;</th><th scope=col>&lt;fct&gt;</th><th scope=col>&lt;int&gt;</th></tr>\n",
              "</thead>\n",
              "<tbody>\n",
              "\t<tr><th scope=row>73</th><td>1</td><td>94.98</td><td>ge</td><td>hff1</td><td>13</td></tr>\n",
              "\t<tr><th scope=row>74</th><td>1</td><td>95.95</td><td>ge</td><td>hff1</td><td>13</td></tr>\n",
              "\t<tr><th scope=row>75</th><td>1</td><td>95.10</td><td>ge</td><td>hff1</td><td>13</td></tr>\n",
              "</tbody>\n",
              "</table>\n"
            ],
            "text/markdown": "\nA data.frame: 3 × 5\n\n| <!--/--> | ug_mL &lt;fct&gt; | viabilidade &lt;dbl&gt; | metodo &lt;fct&gt; | linhagem &lt;fct&gt; | rep &lt;int&gt; |\n|---|---|---|---|---|---|\n| 73 | 1 | 94.98 | ge | hff1 | 13 |\n| 74 | 1 | 95.95 | ge | hff1 | 13 |\n| 75 | 1 | 95.10 | ge | hff1 | 13 |\n\n",
            "text/latex": "A data.frame: 3 × 5\n\\begin{tabular}{r|lllll}\n  & ug\\_mL & viabilidade & metodo & linhagem & rep\\\\\n  & <fct> & <dbl> & <fct> & <fct> & <int>\\\\\n\\hline\n\t73 & 1 & 94.98 & ge & hff1 & 13\\\\\n\t74 & 1 & 95.95 & ge & hff1 & 13\\\\\n\t75 & 1 & 95.10 & ge & hff1 & 13\\\\\n\\end{tabular}\n",
            "text/plain": [
              "   ug_mL viabilidade metodo linhagem rep\n",
              "73 1     94.98       ge     hff1     13 \n",
              "74 1     95.95       ge     hff1     13 \n",
              "75 1     95.10       ge     hff1     13 "
            ]
          },
          "metadata": {}
        }
      ]
    },
    {
      "cell_type": "code",
      "source": [
        "t.test(df_hff1[df_hff1$metodo=='ge' & df_hff1$ug_mL==1,'viabilidade'],\n",
        "       df_hff1[df_hff1$metodo=='hlp_ge' & df_hff1$ug_mL==1,'viabilidade'])"
      ],
      "metadata": {
        "colab": {
          "base_uri": "https://localhost:8080/",
          "height": 208
        },
        "id": "oxm32HH_0WP5",
        "outputId": "6c3f0294-93ca-460e-f918-61cb7ab42874"
      },
      "execution_count": 84,
      "outputs": [
        {
          "output_type": "display_data",
          "data": {
            "text/plain": [
              "\n",
              "\tWelch Two Sample t-test\n",
              "\n",
              "data:  df_hff1[df_hff1$metodo == \"ge\" & df_hff1$ug_mL == 1, \"viabilidade\"] and df_hff1[df_hff1$metodo == \"hlp_ge\" & df_hff1$ug_mL == 1, \"viabilidade\"]\n",
              "t = -13.759, df = 2.7986, p-value = 0.001181\n",
              "alternative hypothesis: true difference in means is not equal to 0\n",
              "95 percent confidence interval:\n",
              " -12.554865  -7.678469\n",
              "sample estimates:\n",
              "mean of x mean of y \n",
              " 95.34333 105.46000 \n"
            ]
          },
          "metadata": {}
        }
      ]
    },
    {
      "cell_type": "code",
      "source": [
        "t.test(df_hff1[df_hff1$metodo=='ge' & df_hff1$ug_mL==60,'viabilidade'],\n",
        "       df_hff1[df_hff1$metodo=='hlp_ge' & df_hff1$ug_mL==60,'viabilidade'])"
      ],
      "metadata": {
        "colab": {
          "base_uri": "https://localhost:8080/",
          "height": 208
        },
        "id": "KWlJCy4q3sFl",
        "outputId": "af5547d0-3019-4e47-a70c-b32713d21636"
      },
      "execution_count": 85,
      "outputs": [
        {
          "output_type": "display_data",
          "data": {
            "text/plain": [
              "\n",
              "\tWelch Two Sample t-test\n",
              "\n",
              "data:  df_hff1[df_hff1$metodo == \"ge\" & df_hff1$ug_mL == 60, \"viabilidade\"] and df_hff1[df_hff1$metodo == \"hlp_ge\" & df_hff1$ug_mL == 60, \"viabilidade\"]\n",
              "t = -24.121, df = 3.7231, p-value = 3.158e-05\n",
              "alternative hypothesis: true difference in means is not equal to 0\n",
              "95 percent confidence interval:\n",
              " -0.8948494 -0.7051506\n",
              "sample estimates:\n",
              "mean of x mean of y \n",
              "     5.38      6.18 \n"
            ]
          },
          "metadata": {}
        }
      ]
    },
    {
      "cell_type": "code",
      "source": [
        "pvals <- c()\n",
        "for (x in unique(df_hff1$ug_mL)){\n",
        "\n",
        "  pvals <- append(pvals, t.test(df_hff1[df_hff1$metodo=='ge' & df_hff1$ug_mL==x,'viabilidade'],\n",
        "                  df_hff1[df_hff1$metodo=='hlp_ge' & df_hff1$ug_mL==x,'viabilidade'])[[3]])\n",
        "\n",
        "}"
      ],
      "metadata": {
        "id": "eIy0AWX-0ulO"
      },
      "execution_count": 86,
      "outputs": []
    },
    {
      "cell_type": "code",
      "source": [
        "pvals"
      ],
      "metadata": {
        "colab": {
          "base_uri": "https://localhost:8080/",
          "height": 52
        },
        "id": "TAZHk4vE1Xkw",
        "outputId": "0d61f6ab-629e-42fb-fc40-c5e166e305a1"
      },
      "execution_count": 87,
      "outputs": [
        {
          "output_type": "display_data",
          "data": {
            "text/html": [
              "<style>\n",
              ".list-inline {list-style: none; margin:0; padding: 0}\n",
              ".list-inline>li {display: inline-block}\n",
              ".list-inline>li:not(:last-child)::after {content: \"\\00b7\"; padding: 0 .5ex}\n",
              "</style>\n",
              "<ol class=list-inline><li>0.00118109010100365</li><li>0.210963336805429</li><li>1.56896154435775e-06</li><li>5.15051003617033e-05</li><li>9.69007547600298e-06</li><li>6.01246905398019e-05</li><li>0.000384308040681653</li><li>0.000522770705772431</li><li>0.0109529627287619</li><li>0.00207254108802197</li><li>0.00177894946557804</li><li>3.15786588222224e-05</li></ol>\n"
            ],
            "text/markdown": "1. 0.00118109010100365\n2. 0.210963336805429\n3. 1.56896154435775e-06\n4. 5.15051003617033e-05\n5. 9.69007547600298e-06\n6. 6.01246905398019e-05\n7. 0.000384308040681653\n8. 0.000522770705772431\n9. 0.0109529627287619\n10. 0.00207254108802197\n11. 0.00177894946557804\n12. 3.15786588222224e-05\n\n\n",
            "text/latex": "\\begin{enumerate*}\n\\item 0.00118109010100365\n\\item 0.210963336805429\n\\item 1.56896154435775e-06\n\\item 5.15051003617033e-05\n\\item 9.69007547600298e-06\n\\item 6.01246905398019e-05\n\\item 0.000384308040681653\n\\item 0.000522770705772431\n\\item 0.0109529627287619\n\\item 0.00207254108802197\n\\item 0.00177894946557804\n\\item 3.15786588222224e-05\n\\end{enumerate*}\n",
            "text/plain": [
              " [1] 1.181090e-03 2.109633e-01 1.568962e-06 5.150510e-05 9.690075e-06\n",
              " [6] 6.012469e-05 3.843080e-04 5.227707e-04 1.095296e-02 2.072541e-03\n",
              "[11] 1.778949e-03 3.157866e-05"
            ]
          },
          "metadata": {}
        }
      ]
    },
    {
      "cell_type": "code",
      "source": [
        "?p.adjust"
      ],
      "metadata": {
        "id": "8i_qHyEK1ffJ"
      },
      "execution_count": 37,
      "outputs": []
    },
    {
      "cell_type": "code",
      "source": [
        "comparisons <- cbind(as.numeric(as.character(unique(df_hff1$ug_mL))),\n",
        "                     'hlp_ge', 'ge', pvals, p.adjust(pvals, method='fdr'))\n",
        "comparisons"
      ],
      "metadata": {
        "colab": {
          "base_uri": "https://localhost:8080/",
          "height": 443
        },
        "id": "exaurJiY1YrN",
        "outputId": "32344c3a-f658-4f6c-929c-730efe13b781"
      },
      "execution_count": 88,
      "outputs": [
        {
          "output_type": "display_data",
          "data": {
            "text/html": [
              "<table class=\"dataframe\">\n",
              "<caption>A matrix: 12 × 5 of type chr</caption>\n",
              "<thead>\n",
              "\t<tr><th scope=col></th><th scope=col></th><th scope=col></th><th scope=col>pvals</th><th scope=col></th></tr>\n",
              "</thead>\n",
              "<tbody>\n",
              "\t<tr><td>1 </td><td>hlp_ge</td><td>ge</td><td>0.00118109010100365 </td><td>0.00177163515150548 </td></tr>\n",
              "\t<tr><td>2 </td><td>hlp_ge</td><td>ge</td><td>0.210963336805429   </td><td>0.210963336805429   </td></tr>\n",
              "\t<tr><td>3 </td><td>hlp_ge</td><td>ge</td><td>1.56896154435775e-06</td><td>1.8827538532293e-05 </td></tr>\n",
              "\t<tr><td>4 </td><td>hlp_ge</td><td>ge</td><td>5.15051003617033e-05</td><td>0.000144299257295525</td></tr>\n",
              "\t<tr><td>5 </td><td>hlp_ge</td><td>ge</td><td>9.69007547600298e-06</td><td>5.81404528560179e-05</td></tr>\n",
              "\t<tr><td>6 </td><td>hlp_ge</td><td>ge</td><td>6.01246905398019e-05</td><td>0.000144299257295525</td></tr>\n",
              "\t<tr><td>7 </td><td>hlp_ge</td><td>ge</td><td>0.000384308040681653</td><td>0.000768616081363306</td></tr>\n",
              "\t<tr><td>8 </td><td>hlp_ge</td><td>ge</td><td>0.000522770705772431</td><td>0.000896178352752739</td></tr>\n",
              "\t<tr><td>10</td><td>hlp_ge</td><td>ge</td><td>0.0109529627287619  </td><td>0.0119486866131948  </td></tr>\n",
              "\t<tr><td>20</td><td>hlp_ge</td><td>ge</td><td>0.00207254108802197 </td><td>0.00248704930562636 </td></tr>\n",
              "\t<tr><td>40</td><td>hlp_ge</td><td>ge</td><td>0.00177894946557804 </td><td>0.00237193262077072 </td></tr>\n",
              "\t<tr><td>60</td><td>hlp_ge</td><td>ge</td><td>3.15786588222224e-05</td><td>0.00012631463528889 </td></tr>\n",
              "</tbody>\n",
              "</table>\n"
            ],
            "text/markdown": "\nA matrix: 12 × 5 of type chr\n\n| <!----> | <!----> | <!----> | pvals | <!----> |\n|---|---|---|---|---|\n| 1  | hlp_ge | ge | 0.00118109010100365  | 0.00177163515150548  |\n| 2  | hlp_ge | ge | 0.210963336805429    | 0.210963336805429    |\n| 3  | hlp_ge | ge | 1.56896154435775e-06 | 1.8827538532293e-05  |\n| 4  | hlp_ge | ge | 5.15051003617033e-05 | 0.000144299257295525 |\n| 5  | hlp_ge | ge | 9.69007547600298e-06 | 5.81404528560179e-05 |\n| 6  | hlp_ge | ge | 6.01246905398019e-05 | 0.000144299257295525 |\n| 7  | hlp_ge | ge | 0.000384308040681653 | 0.000768616081363306 |\n| 8  | hlp_ge | ge | 0.000522770705772431 | 0.000896178352752739 |\n| 10 | hlp_ge | ge | 0.0109529627287619   | 0.0119486866131948   |\n| 20 | hlp_ge | ge | 0.00207254108802197  | 0.00248704930562636  |\n| 40 | hlp_ge | ge | 0.00177894946557804  | 0.00237193262077072  |\n| 60 | hlp_ge | ge | 3.15786588222224e-05 | 0.00012631463528889  |\n\n",
            "text/latex": "A matrix: 12 × 5 of type chr\n\\begin{tabular}{lllll}\n  &  &  & pvals & \\\\\n\\hline\n\t 1  & hlp\\_ge & ge & 0.00118109010100365  & 0.00177163515150548 \\\\\n\t 2  & hlp\\_ge & ge & 0.210963336805429    & 0.210963336805429   \\\\\n\t 3  & hlp\\_ge & ge & 1.56896154435775e-06 & 1.8827538532293e-05 \\\\\n\t 4  & hlp\\_ge & ge & 5.15051003617033e-05 & 0.000144299257295525\\\\\n\t 5  & hlp\\_ge & ge & 9.69007547600298e-06 & 5.81404528560179e-05\\\\\n\t 6  & hlp\\_ge & ge & 6.01246905398019e-05 & 0.000144299257295525\\\\\n\t 7  & hlp\\_ge & ge & 0.000384308040681653 & 0.000768616081363306\\\\\n\t 8  & hlp\\_ge & ge & 0.000522770705772431 & 0.000896178352752739\\\\\n\t 10 & hlp\\_ge & ge & 0.0109529627287619   & 0.0119486866131948  \\\\\n\t 20 & hlp\\_ge & ge & 0.00207254108802197  & 0.00248704930562636 \\\\\n\t 40 & hlp\\_ge & ge & 0.00177894946557804  & 0.00237193262077072 \\\\\n\t 60 & hlp\\_ge & ge & 3.15786588222224e-05 & 0.00012631463528889 \\\\\n\\end{tabular}\n",
            "text/plain": [
              "                   pvals                                    \n",
              " [1,] 1  hlp_ge ge 0.00118109010100365  0.00177163515150548 \n",
              " [2,] 2  hlp_ge ge 0.210963336805429    0.210963336805429   \n",
              " [3,] 3  hlp_ge ge 1.56896154435775e-06 1.8827538532293e-05 \n",
              " [4,] 4  hlp_ge ge 5.15051003617033e-05 0.000144299257295525\n",
              " [5,] 5  hlp_ge ge 9.69007547600298e-06 5.81404528560179e-05\n",
              " [6,] 6  hlp_ge ge 6.01246905398019e-05 0.000144299257295525\n",
              " [7,] 7  hlp_ge ge 0.000384308040681653 0.000768616081363306\n",
              " [8,] 8  hlp_ge ge 0.000522770705772431 0.000896178352752739\n",
              " [9,] 10 hlp_ge ge 0.0109529627287619   0.0119486866131948  \n",
              "[10,] 20 hlp_ge ge 0.00207254108802197  0.00248704930562636 \n",
              "[11,] 40 hlp_ge ge 0.00177894946557804  0.00237193262077072 \n",
              "[12,] 60 hlp_ge ge 3.15786588222224e-05 0.00012631463528889 "
            ]
          },
          "metadata": {}
        }
      ]
    },
    {
      "cell_type": "markdown",
      "source": [
        "### Fazer anova com 3 fatores, incluindo linhagem celular."
      ],
      "metadata": {
        "id": "C_pKfaBQ-jwU"
      }
    },
    {
      "cell_type": "code",
      "source": [
        "anova(lm(viabilidade ~  ug_mL * metodo * linhagem,data=df))"
      ],
      "metadata": {
        "colab": {
          "base_uri": "https://localhost:8080/",
          "height": 349
        },
        "id": "NH_sOkbU-pkE",
        "outputId": "d8975cfa-7436-444d-8ae8-71ae794953a0"
      },
      "execution_count": 89,
      "outputs": [
        {
          "output_type": "display_data",
          "data": {
            "text/html": [
              "<table class=\"dataframe\">\n",
              "<caption>A anova: 8 × 5</caption>\n",
              "<thead>\n",
              "\t<tr><th></th><th scope=col>Df</th><th scope=col>Sum Sq</th><th scope=col>Mean Sq</th><th scope=col>F value</th><th scope=col>Pr(&gt;F)</th></tr>\n",
              "\t<tr><th></th><th scope=col>&lt;int&gt;</th><th scope=col>&lt;dbl&gt;</th><th scope=col>&lt;dbl&gt;</th><th scope=col>&lt;dbl&gt;</th><th scope=col>&lt;dbl&gt;</th></tr>\n",
              "</thead>\n",
              "<tbody>\n",
              "\t<tr><th scope=row>ug_mL</th><td>11</td><td>167427.55941</td><td>15220.687219</td><td>4784.76318</td><td>2.769418e-126</td></tr>\n",
              "\t<tr><th scope=row>metodo</th><td> 1</td><td> 19888.75576</td><td>19888.755756</td><td>6252.21351</td><td> 3.424998e-89</td></tr>\n",
              "\t<tr><th scope=row>linhagem</th><td> 1</td><td>    71.64212</td><td>   71.642117</td><td>  22.52136</td><td> 7.241822e-06</td></tr>\n",
              "\t<tr><th scope=row>ug_mL:metodo</th><td>11</td><td> 16668.50614</td><td> 1515.318740</td><td> 476.35440</td><td> 1.456476e-78</td></tr>\n",
              "\t<tr><th scope=row>ug_mL:linhagem</th><td>11</td><td>  6001.02884</td><td>  545.548076</td><td> 171.49806</td><td> 5.533932e-58</td></tr>\n",
              "\t<tr><th scope=row>metodo:linhagem</th><td> 1</td><td>  7152.22585</td><td> 7152.225851</td><td>2248.36806</td><td> 2.024625e-68</td></tr>\n",
              "\t<tr><th scope=row>ug_mL:metodo:linhagem</th><td>11</td><td>  7166.61861</td><td>  651.510783</td><td> 204.80841</td><td> 1.670066e-61</td></tr>\n",
              "\t<tr><th scope=row>Residuals</th><td>96</td><td>   305.38313</td><td>    3.181074</td><td>        NA</td><td>           NA</td></tr>\n",
              "</tbody>\n",
              "</table>\n"
            ],
            "text/markdown": "\nA anova: 8 × 5\n\n| <!--/--> | Df &lt;int&gt; | Sum Sq &lt;dbl&gt; | Mean Sq &lt;dbl&gt; | F value &lt;dbl&gt; | Pr(&gt;F) &lt;dbl&gt; |\n|---|---|---|---|---|---|\n| ug_mL | 11 | 167427.55941 | 15220.687219 | 4784.76318 | 2.769418e-126 |\n| metodo |  1 |  19888.75576 | 19888.755756 | 6252.21351 |  3.424998e-89 |\n| linhagem |  1 |     71.64212 |    71.642117 |   22.52136 |  7.241822e-06 |\n| ug_mL:metodo | 11 |  16668.50614 |  1515.318740 |  476.35440 |  1.456476e-78 |\n| ug_mL:linhagem | 11 |   6001.02884 |   545.548076 |  171.49806 |  5.533932e-58 |\n| metodo:linhagem |  1 |   7152.22585 |  7152.225851 | 2248.36806 |  2.024625e-68 |\n| ug_mL:metodo:linhagem | 11 |   7166.61861 |   651.510783 |  204.80841 |  1.670066e-61 |\n| Residuals | 96 |    305.38313 |     3.181074 |         NA |            NA |\n\n",
            "text/latex": "A anova: 8 × 5\n\\begin{tabular}{r|lllll}\n  & Df & Sum Sq & Mean Sq & F value & Pr(>F)\\\\\n  & <int> & <dbl> & <dbl> & <dbl> & <dbl>\\\\\n\\hline\n\tug\\_mL & 11 & 167427.55941 & 15220.687219 & 4784.76318 & 2.769418e-126\\\\\n\tmetodo &  1 &  19888.75576 & 19888.755756 & 6252.21351 &  3.424998e-89\\\\\n\tlinhagem &  1 &     71.64212 &    71.642117 &   22.52136 &  7.241822e-06\\\\\n\tug\\_mL:metodo & 11 &  16668.50614 &  1515.318740 &  476.35440 &  1.456476e-78\\\\\n\tug\\_mL:linhagem & 11 &   6001.02884 &   545.548076 &  171.49806 &  5.533932e-58\\\\\n\tmetodo:linhagem &  1 &   7152.22585 &  7152.225851 & 2248.36806 &  2.024625e-68\\\\\n\tug\\_mL:metodo:linhagem & 11 &   7166.61861 &   651.510783 &  204.80841 &  1.670066e-61\\\\\n\tResiduals & 96 &    305.38313 &     3.181074 &         NA &            NA\\\\\n\\end{tabular}\n",
            "text/plain": [
              "                      Df Sum Sq       Mean Sq      F value    Pr(>F)       \n",
              "ug_mL                 11 167427.55941 15220.687219 4784.76318 2.769418e-126\n",
              "metodo                 1  19888.75576 19888.755756 6252.21351  3.424998e-89\n",
              "linhagem               1     71.64212    71.642117   22.52136  7.241822e-06\n",
              "ug_mL:metodo          11  16668.50614  1515.318740  476.35440  1.456476e-78\n",
              "ug_mL:linhagem        11   6001.02884   545.548076  171.49806  5.533932e-58\n",
              "metodo:linhagem        1   7152.22585  7152.225851 2248.36806  2.024625e-68\n",
              "ug_mL:metodo:linhagem 11   7166.61861   651.510783  204.80841  1.670066e-61\n",
              "Residuals             96    305.38313     3.181074         NA            NA"
            ]
          },
          "metadata": {}
        }
      ]
    }
  ]
}